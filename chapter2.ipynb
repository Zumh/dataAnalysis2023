{
 "cells": [
  {
   "cell_type": "markdown",
   "metadata": {},
   "source": [
    "## Regular Expressions (RE)\n",
    "\n",
    "- Patterns to match strings.\n",
    "- Enclosed in r\"\" notation.\n",
    "- Use square brackets for character choices, e.g., [Aa].\n",
    "- | for alternatives, like [Aa]pple|[Bb]anana.\n",
    "- Legal variable names pattern: r\"[A-Za-z_][A-Za-z_0-9]*\\Z\".\n",
    "- Use raw strings (r\"\") for RE patterns to avoid conflicts with special notations.\n",
    "## Common RE Notations\n",
    "\n",
    "- . matches any character.\n",
    "- [...] matches characters in brackets.\n",
    "- [^...] matches characters not in brackets.\n",
    "- ^ matches start of the string.\n",
    "- $ matches end of the string.\n",
    "- '*' matches zero or more.\n",
    "- '+' matches one or more.\n",
    "- {m,n} matches m to n occurrences.\n",
    "- ? matches zero or one occurrence.\n",
    "## Grouping and Shorthand\n",
    "\n",
    "- Grouping with parentheses.\n",
    "- Backreferences with \\number.\n",
    "- Shorthand notations: \\d, \\D, \\s, \\S, \\w, \\W.\n",
    "## Matching Functions\n",
    "\n",
    "- `re.match` for the start of a string.\n",
    "- `re.search` for matching anywhere.\n",
    "- `re.findall` finds all occurrences.\n",
    "- `re.finditer` returns an iterator of match objects.\n",
    "- `re.sub` replaces pattern matches.\n",
    "## Pattern Compilation\n",
    "\n",
    "- Precompile patterns for efficiency with re.compile.\n",
    "- Flags like `re.IGNORECASE, re.MULTILINE`, and `re.DOTALL` modify matching behavior.\n",
    "## Match Objects\n",
    "\n",
    "- Returned by re.match and re.search.\n",
    "- Access matched substrings and groups with methods.\n",
    "- Use boolean checks like if mo: or convert with bool(mo)."
   ]
  },
  {
   "cell_type": "code",
   "execution_count": 1,
   "metadata": {},
   "outputs": [
    {
     "data": {
      "text/plain": [
       "['Doing', 'going', 'staying', 'sleeping']"
      ]
     },
     "execution_count": 1,
     "metadata": {},
     "output_type": "execute_result"
    }
   ],
   "source": [
    "# Match and search functions\n",
    "import re\n",
    "s = \"Doing things, going home, staying awake, sleeping later\"\n",
    "re.findall(r'\\w+ing\\b', s)"
   ]
  },
  {
   "cell_type": "code",
   "execution_count": 2,
   "metadata": {},
   "outputs": [
    {
     "data": {
      "text/plain": [
       "['23', '-24', '-1']"
      ]
     },
     "execution_count": 2,
     "metadata": {},
     "output_type": "execute_result"
    }
   ],
   "source": [
    "re.findall(r'[+-]?\\d+', \"23 + -24 = -1\")"
   ]
  },
  {
   "cell_type": "code",
   "execution_count": 4,
   "metadata": {},
   "outputs": [
    {
     "data": {
      "text/plain": [
       "[\"I'm not in a hurry, then I should stay.  On the other hand, if I leave\"]"
      ]
     },
     "execution_count": 4,
     "metadata": {},
     "output_type": "execute_result"
    }
   ],
   "source": [
    "s = (\"if I'm not in a hurry, then I should stay. \" + \" On the other hand, if I leave, then I can sleep.\")\n",
    "# Greedy matching (.*) tries to match as many characters as possible\n",
    "re.findall(r'[Ii]f (.*), then', s)"
   ]
  },
  {
   "cell_type": "code",
   "execution_count": 5,
   "metadata": {},
   "outputs": [
    {
     "data": {
      "text/plain": [
       "[\"I'm not in a hurry\", 'I leave']"
      ]
     },
     "execution_count": 5,
     "metadata": {},
     "output_type": "execute_result"
    }
   ],
   "source": [
    "\"\"\"\n",
    "The repetition specifiers +, *, ?, and {m,n} have corresponding non-greedy versions: +?, *?, ??, and {m,n}?. \n",
    "These expressions use as few characters as possible to make the whole pattern match some substring. \n",
    "\"\"\"\n",
    "s = (\"if I'm not in a hurry, then I should stay. \" + \" On the other hand, if I leave, then I can sleep.\")\n",
    "# Non - Greedy matching (.*?) tries to match as many characters as possible\n",
    "re.findall(r'[Ii]f (.*?), then', s)"
   ]
  },
  {
   "cell_type": "code",
   "execution_count": 6,
   "metadata": {},
   "outputs": [
    {
     "name": "stdout",
     "output_type": "stream",
     "text": [
      "he goes where he wants to, he's a sheriff.\n"
     ]
    }
   ],
   "source": [
    "# Functions in the re module\n",
    "import re\n",
    "str = \"She goes where she wants to, she's a sheriff.\"\n",
    "newstr = re.sub(r'\\b[Ss]he\\b', 'he', str)\n",
    "print(newstr)"
   ]
  },
  {
   "cell_type": "code",
   "execution_count": 11,
   "metadata": {},
   "outputs": [
    {
     "name": "stdout",
     "output_type": "stream",
     "text": [
      "He (The Doctor) is a timelord.\n",
      "He has a Tardis.\n"
     ]
    }
   ],
   "source": [
    "import re\n",
    "str = \"\"\"He is a timelord.\n",
    "He has a Tardis.\"\"\"\n",
    "newstr = re.sub(r'(\\b[Hh]e\\b)', r'\\1 (The Doctor)', str, 1)\n",
    "print(newstr)"
   ]
  },
  {
   "cell_type": "code",
   "execution_count": 13,
   "metadata": {},
   "outputs": [
    {
     "name": "stdout",
     "output_type": "stream",
     "text": [
      "<re.Match object; span=(6, 19), match='123 45 67 890'>\n"
     ]
    }
   ],
   "source": [
    "# Match Object\n",
    "\n",
    "mo = re.search(r'\\d+ (\\d+) \\d+ (\\d+)', 'first 123 45 67 890 last')\n",
    "if mo:\n",
    "    print(mo)"
   ]
  },
  {
   "cell_type": "code",
   "execution_count": 15,
   "metadata": {},
   "outputs": [
    {
     "data": {
      "text/plain": [
       "re.compile(r'hello world', re.MULTILINE|re.DOTALL|re.UNICODE)"
      ]
     },
     "execution_count": 15,
     "metadata": {},
     "output_type": "execute_result"
    }
   ],
   "source": [
    "# ignore cases\n",
    "# pre compile pattern for faster response \n",
    "# (?i) > re.IGNORECASE\n",
    "# (?m) > re.MULTILINE\n",
    "# (?s) > re.DOTALL\n",
    "import re\n",
    "pattern = r'hello world'\n",
    "re.compile(pattern, re.MULTILINE | re.DOTALL)"
   ]
  },
  {
   "cell_type": "code",
   "execution_count": 44,
   "metadata": {},
   "outputs": [
    {
     "name": "stdout",
     "output_type": "stream",
     "text": [
      "[]\n",
      "[]\n"
     ]
    }
   ],
   "source": [
    "\"\"\"\n",
    "Write function integers_in_brackets that finds from a given string all integers that are enclosed in brackets.\n",
    "Example run: \n",
    "integers_in_brackets(\" afd [asd] [12 ] [a34] [ -43 ]tt [+12]xxx\") \n",
    "returns [12, -43, 12]. \n",
    "So there can be whitespace between the number and the brackets, \n",
    "but no other character besides those that make up the integer.\n",
    "\n",
    "Test your function from the main function.\n",
    "\"\"\"\n",
    "import re\n",
    "def integers_in_brackets(s):\n",
    "    pattern = r'\\[(-?\\d+)\\]'\n",
    "    result = re.findall(pattern, s)\n",
    "    print(result)\n",
    "    return []\n",
    "\n",
    "def main():\n",
    "    result = integers_in_brackets(\" afd [asd] [12 ] [a34] [ -43 ]tt [+12]xxx\")\n",
    "    print(result)\n",
    "main()\n"
   ]
  },
  {
   "cell_type": "code",
   "execution_count": null,
   "metadata": {},
   "outputs": [],
   "source": []
  }
 ],
 "metadata": {
  "kernelspec": {
   "display_name": "dstl",
   "language": "python",
   "name": "python3"
  },
  "language_info": {
   "codemirror_mode": {
    "name": "ipython",
    "version": 3
   },
   "file_extension": ".py",
   "mimetype": "text/x-python",
   "name": "python",
   "nbconvert_exporter": "python",
   "pygments_lexer": "ipython3",
   "version": "3.10.13"
  }
 },
 "nbformat": 4,
 "nbformat_minor": 2
}
