{
 "cells": [
  {
   "cell_type": "markdown",
   "metadata": {},
   "source": [
    "## Regular Expressions (RE)\n",
    "\n",
    "- Patterns to match strings.\n",
    "- Enclosed in r\"\" notation.\n",
    "- Use square brackets for character choices, e.g., [Aa].\n",
    "- | for alternatives, like [Aa]pple|[Bb]anana.\n",
    "- Legal variable names pattern: r\"[A-Za-z_][A-Za-z_0-9]*\\Z\".\n",
    "- Use raw strings (r\"\") for RE patterns to avoid conflicts with special notations.\n",
    "## Common RE Notations\n",
    "\n",
    "- . matches any character.\n",
    "- [...] matches characters in brackets.\n",
    "- [^...] matches characters not in brackets.\n",
    "- ^ matches start of the string.\n",
    "- $ matches end of the string.\n",
    "- '*' matches zero or more.\n",
    "- '+' matches one or more.\n",
    "- {m,n} matches m to n occurrences.\n",
    "- ? matches zero or one occurrence.\n",
    "## Grouping and Shorthand\n",
    "\n",
    "- Grouping with parentheses.\n",
    "- Backreferences with \\number.\n",
    "- Shorthand notations: \\d, \\D, \\s, \\S, \\w, \\W.\n",
    "## Matching Functions\n",
    "\n",
    "- `re.match` for the start of a string.\n",
    "- `re.search` for matching anywhere.\n",
    "- `re.findall` finds all occurrences.\n",
    "- `re.finditer` returns an iterator of match objects.\n",
    "- `re.sub` replaces pattern matches.\n",
    "## Pattern Compilation\n",
    "\n",
    "- Precompile patterns for efficiency with re.compile.\n",
    "- Flags like `re.IGNORECASE, re.MULTILINE`, and `re.DOTALL` modify matching behavior.\n",
    "## Match Objects\n",
    "\n",
    "- Returned by re.match and re.search.\n",
    "- Access matched substrings and groups with methods.\n",
    "- Use boolean checks like if mo: or convert with bool(mo)."
   ]
  },
  {
   "cell_type": "code",
   "execution_count": 1,
   "metadata": {},
   "outputs": [
    {
     "data": {
      "text/plain": [
       "['Doing', 'going', 'staying', 'sleeping']"
      ]
     },
     "execution_count": 1,
     "metadata": {},
     "output_type": "execute_result"
    }
   ],
   "source": [
    "# Match and search functions\n",
    "import re\n",
    "s = \"Doing things, going home, staying awake, sleeping later\"\n",
    "re.findall(r'\\w+ing\\b', s)"
   ]
  },
  {
   "cell_type": "code",
   "execution_count": 2,
   "metadata": {},
   "outputs": [
    {
     "data": {
      "text/plain": [
       "['23', '-24', '-1']"
      ]
     },
     "execution_count": 2,
     "metadata": {},
     "output_type": "execute_result"
    }
   ],
   "source": [
    "re.findall(r'[+-]?\\d+', \"23 + -24 = -1\")"
   ]
  },
  {
   "cell_type": "code",
   "execution_count": 4,
   "metadata": {},
   "outputs": [
    {
     "data": {
      "text/plain": [
       "[\"I'm not in a hurry, then I should stay.  On the other hand, if I leave\"]"
      ]
     },
     "execution_count": 4,
     "metadata": {},
     "output_type": "execute_result"
    }
   ],
   "source": [
    "s = (\"if I'm not in a hurry, then I should stay. \" + \" On the other hand, if I leave, then I can sleep.\")\n",
    "# Greedy matching (.*) tries to match as many characters as possible\n",
    "re.findall(r'[Ii]f (.*), then', s)"
   ]
  },
  {
   "cell_type": "code",
   "execution_count": 5,
   "metadata": {},
   "outputs": [
    {
     "data": {
      "text/plain": [
       "[\"I'm not in a hurry\", 'I leave']"
      ]
     },
     "execution_count": 5,
     "metadata": {},
     "output_type": "execute_result"
    }
   ],
   "source": [
    "\"\"\"\n",
    "The repetition specifiers +, *, ?, and {m,n} have corresponding non-greedy versions: +?, *?, ??, and {m,n}?. \n",
    "These expressions use as few characters as possible to make the whole pattern match some substring. \n",
    "\"\"\"\n",
    "s = (\"if I'm not in a hurry, then I should stay. \" + \" On the other hand, if I leave, then I can sleep.\")\n",
    "# Non - Greedy matching (.*?) tries to match as many characters as possible\n",
    "re.findall(r'[Ii]f (.*?), then', s)"
   ]
  },
  {
   "cell_type": "code",
   "execution_count": 6,
   "metadata": {},
   "outputs": [
    {
     "name": "stdout",
     "output_type": "stream",
     "text": [
      "he goes where he wants to, he's a sheriff.\n"
     ]
    }
   ],
   "source": [
    "# Functions in the re module\n",
    "import re\n",
    "str = \"She goes where she wants to, she's a sheriff.\"\n",
    "newstr = re.sub(r'\\b[Ss]he\\b', 'he', str)\n",
    "print(newstr)"
   ]
  },
  {
   "cell_type": "code",
   "execution_count": 11,
   "metadata": {},
   "outputs": [
    {
     "name": "stdout",
     "output_type": "stream",
     "text": [
      "He (The Doctor) is a timelord.\n",
      "He has a Tardis.\n"
     ]
    }
   ],
   "source": [
    "import re\n",
    "str = \"\"\"He is a timelord.\n",
    "He has a Tardis.\"\"\"\n",
    "newstr = re.sub(r'(\\b[Hh]e\\b)', r'\\1 (The Doctor)', str, 1)\n",
    "print(newstr)"
   ]
  },
  {
   "cell_type": "code",
   "execution_count": 13,
   "metadata": {},
   "outputs": [
    {
     "name": "stdout",
     "output_type": "stream",
     "text": [
      "<re.Match object; span=(6, 19), match='123 45 67 890'>\n"
     ]
    }
   ],
   "source": [
    "# Match Object\n",
    "\n",
    "mo = re.search(r'\\d+ (\\d+) \\d+ (\\d+)', 'first 123 45 67 890 last')\n",
    "if mo:\n",
    "    print(mo)"
   ]
  },
  {
   "cell_type": "code",
   "execution_count": 15,
   "metadata": {},
   "outputs": [
    {
     "data": {
      "text/plain": [
       "re.compile(r'hello world', re.MULTILINE|re.DOTALL|re.UNICODE)"
      ]
     },
     "execution_count": 15,
     "metadata": {},
     "output_type": "execute_result"
    }
   ],
   "source": [
    "# ignore cases\n",
    "# pre compile pattern for faster response \n",
    "# (?i) > re.IGNORECASE\n",
    "# (?m) > re.MULTILINE\n",
    "# (?s) > re.DOTALL\n",
    "import re\n",
    "pattern = r'hello world'\n",
    "re.compile(pattern, re.MULTILINE | re.DOTALL)"
   ]
  },
  {
   "cell_type": "code",
   "execution_count": 19,
   "metadata": {},
   "outputs": [
    {
     "name": "stdout",
     "output_type": "stream",
     "text": [
      "['12', '-43', '+12']\n"
     ]
    }
   ],
   "source": [
    "\"\"\"\n",
    "Write function integers_in_brackets that finds from a given string all integers that are enclosed in brackets.\n",
    "Example run: \n",
    "integers_in_brackets(\" afd [asd] [12 ] [a34] [ -43 ]tt [+12]xxx\") \n",
    "returns [12, -43, 12]. \n",
    "So there can be whitespace between the number and the brackets, \n",
    "but no other character besides those that make up the integer.\n",
    "\n",
    "Test your function from the main function.\n",
    "\"\"\"\n",
    "import re\n",
    "def integers_in_brackets(s):\n",
    "    pattern = r'\\[\\s*?([-+]?\\d+)\\s*?\\]'\n",
    "    result = re.findall(pattern, s)\n",
    "    return(result)\n",
    "\n",
    "def main():\n",
    "    result = integers_in_brackets(\" afd [asd] [12 ] [a34] [ -43 ]tt [+12]xxx\")\n",
    "    print(result)\n",
    "main()\n"
   ]
  },
  {
   "cell_type": "markdown",
   "metadata": {},
   "source": [
    "## Basic File Processing:\n",
    "\n",
    "- Open a file with open(filename, mode=\"r\").\n",
    "- Use the file object to read or write.\n",
    "- Close the file with close() when done.\n",
    "### File Opening Modes:\n",
    "\n",
    "- r: Read-only, file must exist.\n",
    "- w: Write-only, creates or overwrites.\n",
    "- a: Write-only, appends to the end.\n",
    "- r+: Read/write, file must exist.\n",
    "- w+: Read/write, creates or overwrites.\n",
    "- a+: Read/write, appends to the end.\n",
    "- t (text mode, default) or b (binary mode).\n",
    "### Text Mode vs. Binary Mode:\n",
    "\n",
    "- Text mode converts line endings `\\n` to two bytes and convert back to newline when read (e.g., Windows) and \n",
    "- One character is encodes characters (e.g., utf-8) to one or two bytes during read or write conversion.\n",
    "- Binary mode handles bytes directly.\n",
    "### Common File Object Methods:\n",
    "\n",
    "- `read(size)`: Read a specific number of characters/bytes.\n",
    "- `write(string)`: Write a string/bytes to a file.\n",
    "- `readline()`: Read a line until the next newline character.\n",
    "- `readlines()`: Return a list of all lines in a file.\n",
    "- `writelines()`: Write a list of lines to a file.\n",
    "- `flush()`: Ensure changes are written to disk immediately.\n",
    "### Context Manager:\n",
    "Use `with open(...) as f:` to automatically close the file.\n",
    "\n",
    "### Iterating Through File Lines:\n",
    "- The file object is iterable; you can use a for loop to iterate through lines.\n",
    "\n",
    "### Standard File Objects:\n",
    "\n",
    "- sys.stdin: Standard input.\n",
    "- sys.stdout: Standard output.\n",
    "- sys.stderr: Standard error.\n",
    "### Reading/Writing from Standard File Objects:\n",
    "\n",
    "- Read from user (keyboard) using sys.stdin.readline().\n",
    "- Write to user (screen) using sys.stdout.write(line).\n",
    "- Use sys.stderr for error messages.\n",
    "### Changing File Object Destinations:\n",
    "- You can redirect standard file objects to point elsewhere, like log files.\n",
    "\n",
    "### sys Module:\n",
    "\n",
    "- sys.path: List of folders to find imported modules.\n",
    "- sys.argv: Command line parameters.\n",
    "    - sys.argv[0] is the program name.\n",
    "    - Additional parameters are in the list.\n",
    "- sys.exit(): Exit a program with a return value (0 for success, non-zero for errors)."
   ]
  },
  {
   "cell_type": "code",
   "execution_count": 20,
   "metadata": {},
   "outputs": [
    {
     "data": {
      "text/plain": [
       "b'\\xc3\\xa4'"
      ]
     },
     "execution_count": 20,
     "metadata": {},
     "output_type": "execute_result"
    }
   ],
   "source": [
    "# Basic file processing\n",
    "# encoding with utf-8\n",
    "\"ä\".encode(\"utf-8\")"
   ]
  },
  {
   "cell_type": "code",
   "execution_count": 22,
   "metadata": {},
   "outputs": [
    {
     "data": {
      "text/plain": [
       "[195, 164]"
      ]
     },
     "execution_count": 22,
     "metadata": {},
     "output_type": "execute_result"
    }
   ],
   "source": [
    "# hex to decimal between 0- 255\n",
    "list(\"ä\".encode(\"utf-8\"))"
   ]
  },
  {
   "cell_type": "code",
   "execution_count": 23,
   "metadata": {},
   "outputs": [
    {
     "ename": "FileNotFoundError",
     "evalue": "[Errno 2] No such file or directory: 'basics.ipynb'",
     "output_type": "error",
     "traceback": [
      "\u001b[0;31m---------------------------------------------------------------------------\u001b[0m",
      "\u001b[0;31mFileNotFoundError\u001b[0m                         Traceback (most recent call last)",
      "\u001b[1;32m/home/student/work/helsinki/tmcdata/mooc-data-analysis-with-python-2023-2024/chapter2.ipynb Cell 14\u001b[0m line \u001b[0;36m2\n\u001b[1;32m      <a href='vscode-notebook-cell://ssh-remote%2B192.168.1.134/home/student/work/helsinki/tmcdata/mooc-data-analysis-with-python-2023-2024/chapter2.ipynb#X16sdnNjb2RlLXJlbW90ZQ%3D%3D?line=0'>1</a>\u001b[0m \u001b[39m# Some common file object methods\u001b[39;00m\n\u001b[0;32m----> <a href='vscode-notebook-cell://ssh-remote%2B192.168.1.134/home/student/work/helsinki/tmcdata/mooc-data-analysis-with-python-2023-2024/chapter2.ipynb#X16sdnNjb2RlLXJlbW90ZQ%3D%3D?line=1'>2</a>\u001b[0m f \u001b[39m=\u001b[39m \u001b[39mopen\u001b[39;49m(\u001b[39m\"\u001b[39;49m\u001b[39mbasics.ipynb\u001b[39;49m\u001b[39m\"\u001b[39;49m, \u001b[39m'\u001b[39;49m\u001b[39mr\u001b[39;49m\u001b[39m'\u001b[39;49m) \u001b[39m# Let's open this notebook file,\u001b[39;00m\n\u001b[1;32m      <a href='vscode-notebook-cell://ssh-remote%2B192.168.1.134/home/student/work/helsinki/tmcdata/mooc-data-analysis-with-python-2023-2024/chapter2.ipynb#X16sdnNjb2RlLXJlbW90ZQ%3D%3D?line=2'>3</a>\u001b[0m \u001b[39m# which is essentially a text file.\u001b[39;00m\n\u001b[1;32m      <a href='vscode-notebook-cell://ssh-remote%2B192.168.1.134/home/student/work/helsinki/tmcdata/mooc-data-analysis-with-python-2023-2024/chapter2.ipynb#X16sdnNjb2RlLXJlbW90ZQ%3D%3D?line=3'>4</a>\u001b[0m \u001b[39m# So you can open it in a texteditor as well.\u001b[39;00m\n\u001b[1;32m      <a href='vscode-notebook-cell://ssh-remote%2B192.168.1.134/home/student/work/helsinki/tmcdata/mooc-data-analysis-with-python-2023-2024/chapter2.ipynb#X16sdnNjb2RlLXJlbW90ZQ%3D%3D?line=4'>5</a>\u001b[0m \u001b[39mfor\u001b[39;00m i \u001b[39min\u001b[39;00m \u001b[39mrange\u001b[39m(\u001b[39m5\u001b[39m):  \u001b[39m# And read the first five lines\u001b[39;00m\n",
      "File \u001b[0;32m~/.local/lib/python3.10/site-packages/IPython/core/interactiveshell.py:308\u001b[0m, in \u001b[0;36m_modified_open\u001b[0;34m(file, *args, **kwargs)\u001b[0m\n\u001b[1;32m    301\u001b[0m \u001b[39mif\u001b[39;00m file \u001b[39min\u001b[39;00m {\u001b[39m0\u001b[39m, \u001b[39m1\u001b[39m, \u001b[39m2\u001b[39m}:\n\u001b[1;32m    302\u001b[0m     \u001b[39mraise\u001b[39;00m \u001b[39mValueError\u001b[39;00m(\n\u001b[1;32m    303\u001b[0m         \u001b[39mf\u001b[39m\u001b[39m\"\u001b[39m\u001b[39mIPython won\u001b[39m\u001b[39m'\u001b[39m\u001b[39mt let you open fd=\u001b[39m\u001b[39m{\u001b[39;00mfile\u001b[39m}\u001b[39;00m\u001b[39m by default \u001b[39m\u001b[39m\"\u001b[39m\n\u001b[1;32m    304\u001b[0m         \u001b[39m\"\u001b[39m\u001b[39mas it is likely to crash IPython. If you know what you are doing, \u001b[39m\u001b[39m\"\u001b[39m\n\u001b[1;32m    305\u001b[0m         \u001b[39m\"\u001b[39m\u001b[39myou can use builtins\u001b[39m\u001b[39m'\u001b[39m\u001b[39m open.\u001b[39m\u001b[39m\"\u001b[39m\n\u001b[1;32m    306\u001b[0m     )\n\u001b[0;32m--> 308\u001b[0m \u001b[39mreturn\u001b[39;00m io_open(file, \u001b[39m*\u001b[39;49margs, \u001b[39m*\u001b[39;49m\u001b[39m*\u001b[39;49mkwargs)\n",
      "\u001b[0;31mFileNotFoundError\u001b[0m: [Errno 2] No such file or directory: 'basics.ipynb'"
     ]
    }
   ],
   "source": [
    "# Some common file object methods\n",
    "# unfortunately we don't have basics.ipynb file\n",
    "f = open(\"basics.ipynb\", 'r') # Let's open this notebook file,\n",
    "# which is essentially a text file.\n",
    "# So you can open it in a texteditor as well.\n",
    "for i in range(5):  # And read the first five lines\n",
    "    line = f.readline()\n",
    "    print(f\"Line {i}: {line}\", end=\"\")\n",
    "f.close()"
   ]
  },
  {
   "cell_type": "code",
   "execution_count": null,
   "metadata": {},
   "outputs": [],
   "source": [
    "# second example for opening file with better opening file method\n",
    "# get the max length of the line from text content\n",
    "max_len = 0\n",
    "with open(\"basics.ipynb\", \"r\") as f:    # the file will be automatically closed.\n",
    "    # when the with block exits\n",
    "    for i in range(5):\n",
    "        line = f.readline()\n",
    "        if len(line) > max_len:\n",
    "            max_len = len(line)\n",
    "        print(f\"Line {i}: {line}\", end=\"\")\n",
    "print(f\"The longest line in this file has length {max_len}\")\n",
    "# out put should something look like this\n",
    "# The longest line in this file has length 1046"
   ]
  },
  {
   "cell_type": "code",
   "execution_count": 24,
   "metadata": {},
   "outputs": [
    {
     "name": "stderr",
     "output_type": "stream",
     "text": [
      "Got a negative integer.\n"
     ]
    }
   ],
   "source": [
    "# Standard file objects\n",
    "# These standard file objects are meant to be a basic input/output mechanism in textual form. \n",
    "import sys\n",
    "import random\n",
    "# we are getting number between -10 and 10\n",
    "i= random.randint(-10, 10)\n",
    "if i >= 0:\n",
    "    sys.stdout.write(\"Got a positive integer.\\n\")\n",
    "else:\n",
    "    sys.stderr.write(\"Got a negative integer.\\n\")\n",
    "# Got a negative integer.\n",
    "\n"
   ]
  },
  {
   "cell_type": "code",
   "execution_count": 45,
   "metadata": {},
   "outputs": [
    {
     "name": "stdout",
     "output_type": "stream",
     "text": [
      "25399 Nov 2 21 25 exception_hierarchy.pdf\n",
      "None\n"
     ]
    }
   ],
   "source": [
    "\"\"\"\n",
    "Exercise 2.2 (file listing)\n",
    "\n",
    "The file src/listing.txt contains a list of files with one line per file. \n",
    "Each line contains seven fields: access rights, number of references, owner's name, name of owning group, file size, date, filename. \n",
    "These fields are separated with one or more spaces. \n",
    "Note that there may be spaces also within these seven fields.\n",
    "\n",
    "Write function file_listing that loads the file src/listing.txt. \n",
    "It should return a list of tuples (size, month, day, hour, minute, filename). \n",
    "Use regular expressions to do this (either match, search, findall, or finditer method).\n",
    "\n",
    "An example: for line\n",
    "\n",
    "-rw-r--r-- 1 jttoivon hyad-all   25399 Nov  2 21:25 exception_hierarchy.pdf\n",
    "the function should create the tuple (25399, \"Nov\", 2, 21, 25, \"exception_hierarchy.pdf\").\n",
    "\"\"\"\n",
    "\n",
    "import re\n",
    "\n",
    "\n",
    "def file_listing(filename=\"src/listing.txt\"):\n",
    "    # function should create the tuple (25399, \"Nov\", 2, 21, 25, \"exception_hierarchy.pdf\")\n",
    "    # re.match is for matching exactly as the input string represent. So it need to consider the rest of none match.\n",
    "    pattern = r'(\\d+)\\s+(\\w{3})\\s+(\\d+)\\s+(\\d{2}):(\\d{2})\\s+(.+)'\n",
    "    \"\"\"\n",
    "    input_string = \"-rw-r--r-- 1 jttoivon hyad-all   25399 Nov  2 21:25 exception_hierarchy.pdf\"\n",
    "    match_group = re.search(pattern, input_string)\n",
    "    size, month, day, hour, minute, filename = match_group.groups()\n",
    "    print(size, month, day, hour, minute, filename)\n",
    "    \"\"\"\n",
    "    result = []\n",
    "    with open(filename,\"r\") as file:\n",
    "        for line in file:\n",
    "           \n",
    "            # first match all the group\n",
    "            match_group = re.search(pattern, line)\n",
    "            if match_group:\n",
    "                size, month, day, hour, minute, filename = match_group.groups()\n",
    "                result.append((int(size), month, int(day), int(hour), int(minute), filename))\n",
    "            \n",
    "    return result\n",
    "\n",
    "\"\"\"\n",
    "# Different version\n",
    "def file_listing(filename=\"src/listing.txt\"):\n",
    "    with open(filename) as f:\n",
    "        lines = f.readlines()\n",
    "    result=[]\n",
    "    for line in lines:\n",
    "        pattern = r\".{10}\\s+\\d+\\s+.+\\s+.+\\s+(\\d+)\\s+(...)\\s+(\\d+)\\s+(\\d\\d):(\\d\\d)\\s+(.+)\"\n",
    "        if True:      # Two alternative ways of doing the same thing\n",
    "            m = re.match(pattern, line)\n",
    "        else:\n",
    "            compiled_pattern = re.compile(pattern)\n",
    "            m = compiled_pattern.match(line)\n",
    "        if m:\n",
    "            t = m.groups()\n",
    "            result.append((int(t[0]), t[1], int(t[2]), int(t[3]), int(t[4]), t[5]))\n",
    "        else:\n",
    "            print(line)\n",
    "    return result\n",
    " \n",
    "\n",
    "\"\"\"\n",
    "  \n",
    "def main():\n",
    "    result = file_listing()\n",
    "    print(result)\n",
    "main()\n"
   ]
  },
  {
   "cell_type": "code",
   "execution_count": 54,
   "metadata": {},
   "outputs": [
    {
     "name": "stdout",
     "output_type": "stream",
     "text": [
      "255\\t250\\t250\\tsnow\n"
     ]
    }
   ],
   "source": [
    "\"\"\"\n",
    "Exercise 2.3 (red green blue)\n",
    "The file src/rgb.txt contains names of colors and their numerical representations in RGB format. \n",
    "The RBG format allows a color to be represented as a mixture of red, green, and blue components. \n",
    "Each component can have an integer value in the range [0,255]. \n",
    "Each line in the file contains four fields: red, green, blue, and colorname. \n",
    "Each field is separated by some amount of whitespace (tab or space in this case). \n",
    "The text file is formatted to make it print nicely, but that makes it harder to process by a computer. \n",
    "Note that some color names can also contain a space character.\n",
    "\n",
    "Write function red_green_blue that reads the file rgb.txt from the folder src. \n",
    "Remove the irrelevant first line of the file. The function should return a list of strings. \n",
    "Clean-up the file so that the strings in the returned list have four fields separated by a single tab character (\\t). \n",
    "Use regular expressions to do this.\n",
    "\n",
    "The first string in the returned list should be:\n",
    "\n",
    "'255\\t250\\t250\\tsnow'\n",
    "\n",
    "str = '''He is a timelord.\n",
    "He has a Tardis.'''\n",
    "newstr = re.sub(r'(\\b[Hh]e\\b)', r'\\1 (The Doctor)', str, 1)\n",
    "\"\"\"\n",
    "import re\n",
    "\n",
    "def red_green_blue(filename=\"src/rgb.txt\"):\n",
    "    result = []\n",
    "    # input string need to be \n",
    "    \"\"\"\n",
    "    ! $Xorg: rgb.txt,v 1.3 2000/08/17 19:54:00 cpqbld Exp $\n",
    "    255 250 250\t\tsnow\n",
    "    \"\"\"\n",
    "    # get rid off the head\n",
    "    # replace all the single space with \\t\n",
    "    # it matches all the single space and we replace them with \\t character\n",
    "    # input_string = \"255 250 250\t\tsnow\"\n",
    "\n",
    "    with open(filename, \"r\") as file:\n",
    "        # we skip the first line\n",
    "        first_line = file.readline()\n",
    "        result = []\n",
    "      \n",
    "        # we iterate through the line\n",
    "        for line in file:\n",
    "            #line = \"255 250 250\t\tsnow white\"\n",
    "          \n",
    "            newstr = re.search(r'(\\d+)\\s+(\\d+)\\s+(\\d+)\\s+(\\w+.*)', line)\n",
    "           \n",
    "            # newstr = re.sub(r'(\\d+)\\s+', r'\\1\\\\t', line)\n",
    "            # 255\\t250\\t250\\tsnow\n",
    "            # eliminate new line at the end\n",
    "            result.append((\"\\t\".join(newstr.groups())).strip())\n",
    "    return result\n",
    "\"\"\"\n",
    "# second version\n",
    "\n",
    "def red_green_blue(filename=\"src/rgb.txt\"):\n",
    "    with open(filename) as in_file:\n",
    "        l = re.findall(r\"(\\d+)\\s+(\\d+)\\s+(\\d+)\\s+(.*)\\n\", in_file.read())\n",
    "        return [\n",
    "            \"{}\\t{}\\t{}\\t{}\".format(r, g, b, name)\n",
    "            for r, g, b, name\n",
    "            in l\n",
    "\"\"\"\n",
    "\n",
    "def main():\n",
    "    red_green_blue()\n",
    "main()\n"
   ]
  },
  {
   "cell_type": "code",
   "execution_count": 74,
   "metadata": {},
   "outputs": [
    {
     "name": "stdout",
     "output_type": "stream",
     "text": [
      "{'The': 1, 'Project': 2, 'Gutenberg': 2, 'EBook': 1, 'of': 3, 'Alice': 1, 'in': 1, 'Wonderland,': 1, 'by': 1, 'Lewis': 1, 'Carroll': 1, 'This': 1, 'eBook': 2, 'is': 1, 'for': 1, 'the': 3, 'use': 1, 'anyone': 1, 'anywhere': 1, 'at': 2, 'no': 2, 'cost': 1, 'and': 1, 'with': 2, 'almost': 1, 'restrictions': 1, 'whatsoever.': 1, 'You': 1, 'may': 1, 'copy': 1, 'it,': 1, 'give': 1, 'it': 2, 'away': 1, 'or': 2, 're-use': 1, 'under': 1, 'terms': 1, 'License': 1, 'included': 1, 'this': 1, 'online': 1, 'www.gutenberg.org': 1}\n"
     ]
    }
   ],
   "source": [
    "\"\"\"\n",
    "Exercise 2.4 (word frequencies)\n",
    "Create function word_frequencies that gets a filename as a parameter and \n",
    "returns a dict with the word frequencies. \n",
    "In the dictionary the keys are the words and \n",
    "the corresponding values are the number of times that word occurred in the file specified by the function parameter. \n",
    "Read all the lines from the file and split the lines into words using the split() method. \n",
    "Further, remove punctuation from the ends of words using the strip(''\"!\"#$%&'()*,-./:;?@[]_''') method call.\n",
    "\n",
    "Test this function in the main function using the file alice.txt. In the output, there should be a word and \n",
    "its count per line separated by a tab:\n",
    "\n",
    "The     64\n",
    "Project 83\n",
    "Gutenberg   26\n",
    "EBook   3\n",
    "of      303\n",
    "\"\"\"\n",
    "def word_frequencies(filename):\n",
    "    test_string = \"\"\"\n",
    "    The Project Gutenberg EBook of Alice in Wonderland, by Lewis Carroll\\n\n",
    "\n",
    "    This eBook is for the use of anyone anywhere at no cost and with\\n\n",
    "    almost no restrictions whatsoever.  You may copy it, give it away or\\n\n",
    "    re-use it under the terms of the Project Gutenberg License included\\n\n",
    "    with this eBook or online at www.gutenberg.org\\n\n",
    "    \"\"\"\n",
    "    result = {}\n",
    "    with open(filename, \"r\") as file:\n",
    "        for input_string in file:\n",
    "            lines = input_string.split()\n",
    "            for word in lines:\n",
    "                strip_word = word.strip(\"\"\"!\"#$%&'()*,-./:;?@[]_\"\"\")\n",
    "                if strip_word not in result or not result:\n",
    "                    result[strip_word] = 0\n",
    "                \n",
    "                result[strip_word] += 1\n",
    "    return(result)\n",
    "'''\n",
    "def word_frequencies(filename):\n",
    "    result = {}\n",
    "    with open(filename) as in_file:\n",
    "        for w in in_file.read().split():\n",
    "            ws = w.strip(\"\"\"!\"#$%&'()*,-./:;?@[]_\"\"\")\n",
    "            if ws not in result:\n",
    "                result[ws] = 0\n",
    "            result[ws] += 1\n",
    "    return result\n",
    "'''\n",
    "def main():\n",
    "    words = word_frequencies(\"src/alice.txt\")\n",
    "    for word, frequency in words.items():\n",
    "        print(f\"{word}\\t{frequency}\")\n",
    "    \n",
    "main()"
   ]
  },
  {
   "cell_type": "code",
   "execution_count": 89,
   "metadata": {},
   "outputs": [
    {
     "name": "stdout",
     "output_type": "stream",
     "text": [
      "File: src/example.txt Sum: 51.400000 Average: 10.280000 Stddev: 8.904606\n"
     ]
    }
   ],
   "source": [
    "\"\"\"\n",
    "Summary of Exercise 2.5:\n",
    "\n",
    "Part 1:\n",
    "\n",
    "Create a function called \"summary\" that takes a filename as a parameter.\n",
    "The file should contain floating point numbers, one per line.\n",
    "The function should read the numbers and return a triple with the sum, average, and standard deviation.\n",
    "Standard deviation formula: √[Σ(xi - x̄)² / (n-1)]\n",
    "The main function should call \"summary\" for each filename in \"sys.argv[1:]\" (excluding the program name).\n",
    "Example usage: python3 src/summary.py src/example.txt src/example2.txt\n",
    "Print results with six decimals precision.\n",
    "Part 2:\n",
    "\n",
    "If a line doesn't represent a number, ignore it using a try-except block.\n",
    "Example:\n",
    "python\n",
    "Copy code\n",
    "try:\n",
    "    x = float(line)\n",
    "except ValueError:\n",
    "    # Handle the exceptional situation\n",
    "Exceptions will be covered in more detail later in the course.\n",
    "\n",
    "\"\"\"\n",
    "import sys\n",
    "import math\n",
    "def summary(filename):\n",
    "    # return a triple with the sum, average, and standard deviation\n",
    "  \n",
    "    \n",
    "    converted_numbers = []\n",
    "    (total_sum,average_number,standard_deviation) = (0,0,0)\n",
    "\n",
    "    with open(filename, 'r') as file:\n",
    "        # conversion\n",
    "        for number in file.read().split():\n",
    "            try:\n",
    "                converted_numbers.append(float(number))\n",
    "            except ValueError:\n",
    "                continue\n",
    "\n",
    "        #convert_number = list(map(float, input_numbers.split()))\n",
    "        total_sum = sum(converted_numbers)\n",
    "        length = len(converted_numbers)\n",
    "        mean = average_number = total_sum/length\n",
    "        sum_of_diff = 0\n",
    "\n",
    "        \n",
    "        for number in converted_numbers:\n",
    "            square_diff = (number - mean)**2\n",
    "            sum_of_diff += square_diff\n",
    "        variance = sum_of_diff / (length - 1)\n",
    "        standard_deviation = math.sqrt(variance)\n",
    "\n",
    "   \n",
    " \n",
    "\n",
    "    return (total_sum,average_number,standard_deviation)\n",
    "\"\"\"\n",
    "# model solution\n",
    "from statistics import stdev\n",
    "import sys\n",
    " \n",
    "def summary(filename):\n",
    "    L=[]\n",
    "    with open(filename) as f:\n",
    "        for line in f:\n",
    "            try:\n",
    "                L.append(float(line))\n",
    "            except ValueError:\n",
    "                continue\n",
    "    s = sum(L)\n",
    "    a = s/len(L)\n",
    "    stddev = stdev(L)\n",
    "    return s, a, stddev\n",
    "\"\"\"\n",
    "def main():\n",
    "    for filename in sys.argv[1:]:\n",
    "        (total_sum,average_number,standard_deviation) = summary(filename)\n",
    "        print(f\"File: {filename} Sum: {total_sum:0.6f} Average: {average_number:0.6f} Stddev: {standard_deviation:0.6f}\")\n",
    "main()"
   ]
  },
  {
   "cell_type": "code",
   "execution_count": null,
   "metadata": {},
   "outputs": [],
   "source": [
    "\"\"\"\n",
    "Exercise 2.6 (file count)\n",
    "This exercise can give two points at maximum!\n",
    "\n",
    "Part 1.\n",
    "\n",
    "Create a function file_count that gets a filename as parameter and returns a triple of numbers. \n",
    "The function should read the file, count the number of lines, words, and characters in the file, and \n",
    "return a triple with these count in this order. \n",
    "You get division into words by splitting at whitespace. \n",
    "You don't have to remove punctuation.\n",
    "\n",
    "Part 2.\n",
    "\n",
    "Create a main function that in a loop calls file_count using \n",
    "each filename in the list of command line parameters sys.argv[1:] as a parameter, in turn. \n",
    "For call python3 src/file_count file1 file2 ... the output should be\n",
    "\n",
    "?      ?       ?       file1\n",
    "?      ?       ?       file2\n",
    "...\n",
    "The fields are separated by tabs (\\t). The fields are in order: linecount, wordcount, charactercount, filename.\n",
    "\"\"\"\n",
    "import sys\n",
    "\n",
    "def file_count(filename):\n",
    "    lines_total, words_total, characters_total = 0, 0, 0\n",
    "    # count the number of lines, words, and characters in the file\n",
    "    with open(filename, \"r\") as file:\n",
    "        for line in file:\n",
    "            \n",
    "            characters_total += len(line)\n",
    "            words_total += len(line.split())\n",
    "            lines_total += 1    \n",
    "\n",
    "    return (lines_total, words_total, characters_total)   \n",
    "\n",
    "def main():\n",
    "    for filename in sys.argv[1:]:\n",
    "        linecount, wordcount, charactercount, filename = file_count(filename)\n",
    "        print(f\"{linecount}\\t{wordcount}\\t{charactercount}\\t{filename}\")\n"
   ]
  },
  {
   "cell_type": "code",
   "execution_count": 105,
   "metadata": {},
   "outputs": [
    {
     "name": "stdout",
     "output_type": "stream",
     "text": [
      "(['test'], {'txt': ['file1.txt', 'file2.txt'], 'pdf': ['mydocument.pdf'], 'gz': ['archive.tar.gz']})\n"
     ]
    }
   ],
   "source": [
    "\"\"\"\n",
    "Exercise 2.7 (file extensions)\n",
    "This exercise can give two points at maximum!\n",
    "\n",
    "Part 1.\n",
    "\n",
    "Write function file_extensions that gets as a parameter a filename. \n",
    "It should read through the lines from this file. \n",
    "Each line contains a filename. \n",
    "Find the extension for each filename. \n",
    "The function should return a pair, where the first element is a list containing all filenames \n",
    "with no extension (with the preceding period (.) removed). \n",
    "The second element of the pair is a dictionary with extensions as keys and \n",
    "corresponding values are lists with filenames having that extension.\n",
    "\n",
    "Sounds a bit complicated, but hopefully the next example will clarify this. \n",
    "If the file contains the following lines\n",
    "\n",
    "file1.txt\n",
    "mydocument.pdf\n",
    "file2.txt\n",
    "archive.tar.gz\n",
    "test\n",
    "\n",
    "then the return value should be the pair: \n",
    "([\"test\"], { \"txt\" : [\"file1.txt\", \"file2.txt\"], \"pdf\" : [\"mydocument.pdf\"], \"gz\" : [\"archive.tar.gz\"] } )\n",
    "\n",
    "Part 2.\n",
    "\n",
    "Write a main method that calls the file_extensions function with \"src/filenames.txt\" as the argument. \n",
    "Then print the results so that for each extension there is a line consisting of the extension and \n",
    "the number of files with that extension. \n",
    "The first line of the output should give the number of files without extensions.\n",
    "\n",
    "With the example in part 1, the output should be\n",
    "\n",
    "1 files with no extension\n",
    "gz 1\n",
    "pdf 1\n",
    "txt 2\n",
    "Had there been no filenames without extension then the first line would have been 0 files with no extension. \n",
    "In the printout list the extensions in alphabetical order.\n",
    "\"\"\"\n",
    "def file_extensions(filename):\n",
    "    # traverse each line and split them with . delimeter\n",
    "    # then assign the dictionary base on file name and file extension\n",
    "    file_with_extension = {}\n",
    "    file_no_extension = []\n",
    "    files = filename\n",
    "    #with open(filename, \"r\") as files:\n",
    "\n",
    "    for file in files:\n",
    "        file = file.strip()\n",
    "        try:\n",
    "            \n",
    "            file_name, file_extension = file.rsplit('.', 1)\n",
    "            file_extension = file_extension.strip()\n",
    "            if file_extension not in file_with_extension:\n",
    "                file_with_extension[file_extension] = []\n",
    "            file_with_extension[file_extension].append(file)\n",
    "        except ValueError:\n",
    "            file_no_extension.append(file)\n",
    "    return (file_no_extension, file_with_extension)\n",
    "\n",
    "input_files = [\"file1.txt\",\"mydocument.pdf\",\"file2.txt\",\"archive.tar.gz\",\"test\"]\n",
    "result = file_extensions(input_files)\n",
    "print(result)\n",
    "def main():\n",
    "    file_extensions(\"filename\")\n",
    "\n",
    "\"\"\"\n",
    "# model solution\n",
    "def file_extensions(filename):\n",
    "    no_extension=[]\n",
    "    d = {}\n",
    "    with open(filename) as f:\n",
    "        for line in f:\n",
    "            line=line.strip()\n",
    "            v = line.split('.')\n",
    "            if len(v) == 1:\n",
    "                no_extension.append(line)\n",
    "            else:\n",
    "                extension = v[-1]\n",
    "                if extension not in d:\n",
    "                    d[extension] = []\n",
    "                d[extension].append(line)\n",
    "    return (no_extension, d)\n",
    " \n",
    "def main():\n",
    "    no_extension, d = file_extensions(\"src/filenames.txt\")\n",
    "    print(f\"{len(no_extension)} files with no extension\")\n",
    "    for extension, files in sorted(d.items()):\n",
    "        print(f\"{extension} {len(files)}\")\n",
    "\"\"\""
   ]
  },
  {
   "cell_type": "markdown",
   "metadata": {},
   "source": [
    "## Objects and Classes:\n",
    "\n",
    "- Python is an object-oriented programming language, similar to Java and C++.\n",
    "- Unlike Java, Python doesn't enforce the use of classes, inheritance, and methods; it also supports a structural programming paradigm with functions and modules.\n",
    "### Objects in Python:\n",
    "\n",
    "- Every value in Python is an object.\n",
    "- Objects combine data and functions, known as attributes.\n",
    "- Data items and functions of objects are attributes, with function attributes being called methods.\n",
    "### First-Class Objects:\n",
    "\n",
    "- Functions, modules, methods, classes, etc., are all first-class objects.\n",
    "- They can be stored in a container, passed as parameters to functions, returned by functions, or bound to a variable.\n",
    "### Attribute Access:\n",
    "\n",
    "- You can access an attribute of an object using the dot operator, like object.attribute.\n",
    "- For example, if L is a list, you can refer to the method append with L.append.\n",
    "### Data Types and Instances:\n",
    "\n",
    "- Numbers (e.g., 2, 100) are instances of types (e.g., int), and strings (e.g., \"hello\") are instances of the str type.\n",
    "- Instances are created using the class constructor, e.g., s = set() creates an instance of type set.\n",
    "### User-Defined Data Types (Classes):\n",
    "\n",
    "- Users can define their own data types called classes.\n",
    "- Classes can be thought of as recipes for creating objects.\n",
    "- Example class definition is shown.\n",
    "### Class Definition:\n",
    "\n",
    "- A class definition starts with the class statement.\n",
    "- It provides a name for the new type and lists the base classes.\n",
    "- The class body defines attributes and methods for the class.\n",
    "- No instances are created at this point.\n",
    "### Methods and Attributes:\n",
    "\n",
    "- Classes have methods (e.g., __init__ and f) with a special first parameter, self.\n",
    "- Class attributes (e.g., a) are shared among all instances.\n",
    "- Instance attributes (e.g., b) are specific to each instance.\n",
    "- Methods whose names begin and end with two underscores are special methods (e.g., __init__).\n",
    "### Instances:\n",
    "\n",
    "- Instances are created by calling a class like a function.\n",
    "- Parameters are passed to the __init__ method for initialization.\n",
    "- You can (re)bind attributes with assignment to create instance-specific attributes.\n",
    "### Attribute Lookup:\n",
    "\n",
    "- Attribute lookup involves checking three phases: \n",
    "    - instance attributes, \n",
    "    - class attributes, and base classes.\n",
    "- Attribute binding is done with assignment, either to the instance or class.\n"
   ]
  },
  {
   "cell_type": "code",
   "execution_count": 106,
   "metadata": {},
   "outputs": [],
   "source": [
    "class MyClass(object):\n",
    "    \"\"\"Documentation string of the class\"\"\"\n",
    "    def __init__(self, param1, param2):\n",
    "        \"This initialises an instance of type ClassName\"\n",
    "        self.b = param1 # creates an instance attribute\n",
    "        c = param2 # creates a local variable of the function\n",
    "        # statements ...\n",
    "    def f(self, param1):\n",
    "        \"\"\"This is a method of the class\"\"\"\n",
    "    \n",
    "    a = 1 # this creates a class attribute"
   ]
  },
  {
   "cell_type": "code",
   "execution_count": 107,
   "metadata": {},
   "outputs": [
    {
     "name": "stdout",
     "output_type": "stream",
     "text": [
      "+++ Hello\n"
     ]
    }
   ],
   "source": [
    "\"\"\"\n",
    "Exercise 2.8 (prepend)\n",
    "Create a class called Prepend. We create an instance of the class by giving a string as a parameter to the initializer. \n",
    "The initializer stores the parameter in an instance attribute start. \n",
    "The class also has a method write(s) which prints the string s prepended with the start string. \n",
    "An example of usage:\n",
    "\n",
    "p = Prepend(\"+++ \")\n",
    "p.write(\"Hello\");\n",
    "Will print\n",
    "\n",
    "+++ Hello\n",
    "Try out using the class from the main function.\n",
    "\"\"\"\n",
    "\n",
    "class Prepend(object):\n",
    "    # Add the methods of the class here\n",
    "    def __init__(self, start):\n",
    "        self.start = start\n",
    "\n",
    "    def write(self, input_string):\n",
    "        print(f\"{self.start + input_string}\")\n",
    "def main():\n",
    "    p = Prepend(\"+++ \")\n",
    "    p.write(\"Hello\")\n",
    "main()"
   ]
  },
  {
   "cell_type": "markdown",
   "metadata": {},
   "source": [
    "## Inheritance:\n",
    "\n",
    "- Inheritance allows code reuse from a base class (B) to create a new class (C).\n",
    "- Attribute lookup starts with the instance dictionary and continues with class attributes.\n",
    "- Attributes are searched recursively in base classes.\n",
    "- Class C can inherit attributes from its base class B.\n",
    "- If an attribute with the same name exists in both the class and its base class, it's overridden.\n",
    "- Class C is referred to as a derived class or subclass, and B is the base class or super class.\n",
    "### Special Methods:\n",
    "\n",
    "- `__init__`: Initializes instance attributes. It takes self as the first parameter and does not return a value.\n",
    "\n",
    "- `__hash__`: Returns an integer used for object storage in dictionaries and sets. Requires that `x == y implies x.__hash__() == y.__hash__()`. Instances x and y must be immutable.\n",
    "\n",
    "- `__call__`: Makes instances of a class callable, allowing them to be used like functions.\n",
    "\n",
    "- `__del__`: Gets called when an instance is deleted.\n",
    "\n",
    "- `__new__`: Controls the creation of new instances. Can be used to create classes with only one instance.\n",
    "\n",
    "- `__str__`: Called when the print statement needs to print the value of an instance. It returns a string and is used for conversion %s.\n",
    "\n",
    "- `__repr__`: Called when the interactive interpreter prints the value of an evaluated expression. Used for conversion %r. Returns a canonical representation string.\n",
    "\n",
    "- Comparison Methods: Special methods like `__eq__, __ge__, __gt__, __le__, __lt__, and __ne__ `get called for corresponding operators (x==y, x>=y, etc.).\n",
    "\n",
    "- Numerical Operations: To support numeric operations like addition, subtraction, multiplication, and division, define special methods like `__add__, __sub__, __mul__, __truediv__, and __floordiv__`.\n",
    "\n",
    "- Augmented Assignments: Augmented assignment operators like +=, -=, *=, and /= have special methods (iadd, isub, imul, idiv).\n",
    "\n",
    "- Conversion Functions: Special methods like `__complex__, __float__, and __int__` are used to convert objects to complex numbers, floats, and integers, respectively.\n",
    "\n",
    "\n",
    "### Container Operations:\n",
    "\n",
    "- Container operations use special methods.\n",
    "- Membership test with x in c calls x.__contains__(y).\n",
    "- Deleting an element with del c[key] calls x.__delitem__.\n",
    "- Reading an item with c[key] calls c.__getitem__(key).\n",
    "- Setting an item with c[key]=value calls c.__setitem__(key, value).\n",
    "- Getting the number of elements with len(c) calls c.__len__.\n",
    "- The call iter(c) calls c.__iter__."
   ]
  },
  {
   "cell_type": "code",
   "execution_count": 108,
   "metadata": {},
   "outputs": [
    {
     "name": "stdout",
     "output_type": "stream",
     "text": [
      "Executing B.f\n",
      "Executing C.g\n"
     ]
    }
   ],
   "source": [
    "class B(object):\n",
    "    def f(self):\n",
    "        print(\"Executing B.f\")\n",
    "    \n",
    "    def g(self):\n",
    "        print(\"Executing B.g\")\n",
    "    \n",
    "class C(B):\n",
    "    def g(self):\n",
    "        print(\"Executing C.g\")\n",
    "x=C()\n",
    "x.f() # inherited from B\n",
    "x.g() # inherited from C"
   ]
  },
  {
   "cell_type": "code",
   "execution_count": 114,
   "metadata": {},
   "outputs": [
    {
     "name": "stdout",
     "output_type": "stream",
     "text": [
      "1/4\n",
      "2/3\n",
      "2/12\n",
      "3/8\n",
      "11/12\n",
      "-5/12\n",
      "True\n",
      "False\n",
      "False\n"
     ]
    }
   ],
   "source": [
    "\"\"\"\n",
    "Exercise 2.9 (rational)\n",
    "Create a class Rational whose instances are rational numbers. \n",
    "A new rational number can be created with the call to the class. \n",
    "For example, the call r=Rational(1,4) creates a rational number “one quarter”. \n",
    "Make the instances support the following operations: + - * / < > == with their natural behaviour. \n",
    "Make the rationals also printable so that from the printout we can clearly see that they are rational numbers.\n",
    "\"\"\"\n",
    "\n",
    "\n",
    "class Rational(object):\n",
    "    def __init__(self, numerator, denominator):\n",
    "        self.numerator = numerator\n",
    "        self.denominator = denominator\n",
    "    \n",
    "    def __str__(self):\n",
    "        return f\"{self.numerator}/{self.denominator}\"\n",
    "    \n",
    "    def __add__(self, r2):\n",
    "        numerator = self.numerator*r2.denominator + self.denominator*r2.numerator\n",
    "        denominator = self.denominator*r2.denominator\n",
    "        return Rational(numerator, denominator)\n",
    "\n",
    "    def __sub__(self, r2):\n",
    "        numerator = self.numerator*r2.denominator - self.denominator*r2.numerator\n",
    "        denomenator = self.denominator*r2.denominator\n",
    "      \n",
    "        return Rational(numerator, denomenator)\n",
    "    def __mul__(self, r2):\n",
    "        mul_rational = Rational(self.numerator*r2.numerator, self.denominator*r2.denominator)\n",
    "        return mul_rational\n",
    "    def __truediv__(self, r2):\n",
    "        div_rational = Rational(self.numerator*r2.denominator, self.denominator*r2.numerator)\n",
    "        return div_rational\n",
    "    \n",
    "    def __lt__(self, r2):\n",
    "        return (self.numerator/self.denominator) < (r2.numerator/r2.denominator)\n",
    "    \n",
    "    def __gt__(self, r2):\n",
    "        return (self.numerator/self.denominator) > (r2.numerator/r2.denominator)\n",
    "    \n",
    "    def __eq__(self, r2):\n",
    "        return (self.numerator/self.denominator) == (r2.numerator/r2.denominator)\n",
    "    \n",
    "def main():\n",
    "    r1=Rational(1,4)\n",
    "    r2=Rational(2,3)\n",
    "    print(r1)\n",
    "    print(r2)\n",
    "  \n",
    "    print(r1*r2)\n",
    "\n",
    "    print(r1/r2)\n",
    "    print(r1+r2)\n",
    "    print(r1-r2)\n",
    "    print(Rational(1,2) == Rational(2,4))\n",
    "    print(Rational(1,2) > Rational(2,4))\n",
    "    print(Rational(1,2) < Rational(2,4))\n",
    "\n",
    "main()"
   ]
  },
  {
   "cell_type": "markdown",
   "metadata": {},
   "source": [
    "## Exception Handling:\n",
    "\n",
    "- When an error occurs, how to respond.\n",
    "- Options include printing an error message, stopping program execution, indicating errors with special values, or ignoring errors.\n",
    "### Separation of Error Recognition and Handling:\n",
    "\n",
    "- Most modern programming languages have an exception handling system.\n",
    "- Separates the detection of errors from the handling of errors.\n",
    "- Errors can be signaled by raising exceptions.\n",
    "### Raising Exceptions in Python:\n",
    "\n",
    "- Exceptions are raised in Python using the raise statement.\n",
    "- It can raise specific exception classes or create custom exceptions.\n",
    "- Exceptions are used to indicate various situations, including non-error conditions like StopIteration.\n",
    "### Exception Catching:\n",
    "\n",
    "- Try-except blocks are used for catching and handling exceptions.\n",
    "- The try block contains code that may raise exceptions.\n",
    "- The except block handles exceptions.\n",
    "- The else block executes if no exceptions occurred.\n",
    "- The finally block is for cleanup code and always executes.\n",
    "### Specific Exception Handling:\n",
    "\n",
    "- Handling specific exceptions allows for better error diagnosis.\n",
    "- Over-general exception specifications, like except Exception:, can hide the true cause of an error.\n",
    "### Exception Hierarchy:\n",
    "\n",
    "- Python exceptions are objects instantiated from exception classes.\n",
    "- Exception classes form hierarchies, with the root being the class Exception.\n",
    "- New exception classes can be created by inheriting from existing ones.\n",
    "### Error Handling Policy in Python:\n",
    "\n",
    "- Python employs dynamic error checking, where operations are attempted, and exceptions are checked.\n",
    "- Duck typing is used, allowing functions to work for inputs that make sense for the operations within the function.\n",
    "\n",
    "```\n",
    "try:\n",
    "    # here are the statements that can cause exceptions\n",
    "except (Exceptionname1, Exceptionname2, ....):\n",
    "    # here we handle the exceptions\n",
    "finally:\n",
    "    pass\n",
    "    # this is always executed, clean-up code\n",
    "```"
   ]
  },
  {
   "cell_type": "code",
   "execution_count": 115,
   "metadata": {},
   "outputs": [
    {
     "name": "stdout",
     "output_type": "stream",
     "text": [
      "Index does not exist\n"
     ]
    }
   ],
   "source": [
    "L=[1,2,3]\n",
    "try:\n",
    "    print(L[3])\n",
    "except IndexError:\n",
    "    print(\"Index does not exist\")\n",
    "    "
   ]
  },
  {
   "cell_type": "code",
   "execution_count": 118,
   "metadata": {},
   "outputs": [
    {
     "name": "stdout",
     "output_type": "stream",
     "text": [
      "Average is 1.0\n"
     ]
    }
   ],
   "source": [
    "def compute_average(L):\n",
    "    n = len(L)\n",
    "    s = sum(L)\n",
    "\n",
    "    return float(s)/n # error is noticed here !!!\n",
    "\n",
    "mylist = []\n",
    "\n",
    "while True:\n",
    "    try:\n",
    "        x = float(input(\"Give a number (non-number quits): \"))\n",
    "        mylist.append(x)\n",
    "    except ValueError:\n",
    "        break\n",
    "try:\n",
    "    average = compute_average(mylist)\n",
    "    print(\"Average is\", average)\n",
    "except ZeroDivisionError:\n",
    "    # and the error is handled here\n",
    "    if len(mylist) == 0:\n",
    "        print(\"Tried to cmpute the average of empty list of numbers\")\n",
    "    else:\n",
    "        print(\"Something strange happened\")"
   ]
  },
  {
   "cell_type": "code",
   "execution_count": 129,
   "metadata": {},
   "outputs": [
    {
     "name": "stdout",
     "output_type": "stream",
     "text": [
      "werwe\n",
      "You didn't enter a number invalid literal for int() with base 10: 'werwe'\n"
     ]
    }
   ],
   "source": [
    "# Too general exception specifications\n",
    "import sys\n",
    "s = input(\"Give a number: \")\n",
    "\n",
    "s = s[:-1] # strip the \\n character from the end\n",
    "try:\n",
    "    print(s)\n",
    "    x= int(s)\n",
    "    sys.stdout.wr1te(f\"You entered {x}\\n\")\n",
    "# cause typing error\n",
    "#except Exception:\n",
    "except ValueError as e:\n",
    "    print(f\"You didn't enter a number {e}\")"
   ]
  },
  {
   "cell_type": "code",
   "execution_count": 1,
   "metadata": {},
   "outputs": [
    {
     "name": "stdout",
     "output_type": "stream",
     "text": [
      "[123, 1.2, 13.2, -1]\n"
     ]
    }
   ],
   "source": [
    "\"\"\"\n",
    "Exercise 2.10 (extract numbers)\n",
    "Write a function extract_numbers that gets a string as a parameter. \n",
    "It should return a list of numbers that can be both ints and floats. \n",
    "Split the string to words at whitespace using the split() method. \n",
    "Then iterate through each word, and initially try to convert to an int. \n",
    "If unsuccesful, then try to convert to a float. If not a number then skip the word.\n",
    "\n",
    "Example run: print(extract_numbers(\"abd 123 1.2 test 13.2 -1\")) will return [123, 1.2, 13.2, -1]\n",
    "\"\"\"\n",
    "\n",
    "def extract_numbers(s):\n",
    "    result = []\n",
    "    for number in s.split():\n",
    "        try:\n",
    "            # convert to integer \n",
    "            int_number = int(number)\n",
    "            result.append(int_number)\n",
    "        except ValueError:\n",
    "            try:\n",
    "                float_number = float(number)\n",
    "                result.append(float_number)\n",
    "            except ValueError:\n",
    "                pass\n",
    "    return result\n",
    "\n",
    "def main():\n",
    "    print(extract_numbers(\"abd 123 1.2 test 13.2 -1\"))\n",
    "main()"
   ]
  },
  {
   "cell_type": "markdown",
   "metadata": {},
   "source": [
    "## 1. Sequences:\n",
    "\n",
    "- Sequences are a type of iterable.\n",
    "- They are containers that can be traversed using a for loop.\n",
    "- Typically, sequences allow indexing using brackets [].\n",
    "- Examples of sequences include strings, lists, and tuples.\n",
    "### 2. Iterables:\n",
    "\n",
    "- An iterable is a more general concept than sequences.\n",
    "- Any container that can be traversed using a for loop is an iterable.\n",
    "- To create a custom iterable, a class should define a special method `__iter__` that returns an iterator for the container.\n",
    "- An iterator is an object with a `__next__` method that provides the next element from the container.\n",
    "- An iterable can be checked using the isinstance(obj, abc.Iterable) function from the collections module.\n",
    "### 3. Generators:\n",
    "\n",
    "- Generators provide an easier way to create iterators.\n",
    "- A generator is a function containing the yield statement.\n",
    "- Generator functions can yield values one at a time when iterated over.\n",
    "- Generator expressions, while also producing iterables, are different from generator functions.\n",
    "### 4. Example: WeekdayIterator:\n",
    "\n",
    "- Demonstrates a custom iterator for weekdays.\n",
    "- The class defines `__iter__ and __next__` methods.\n",
    "- It is an iterable but not a sequence, as it doesn't support indexing.\n",
    "### 5. Example: mydate Generator:\n",
    "\n",
    "- Shows an example of a generator function.\n",
    "- Generates dates starting from a given date.\n",
    "- Yields date values as they are requested.\n",
    "- More convenient than writing custom iterators explicitly."
   ]
  },
  {
   "cell_type": "code",
   "execution_count": 2,
   "metadata": {},
   "outputs": [
    {
     "name": "stdout",
     "output_type": "stream",
     "text": [
      "Monday\n",
      "Tuesday\n",
      "Wednesday\n",
      "Thursday\n",
      "Friday\n",
      "Saturday\n",
      "Sunday\n"
     ]
    }
   ],
   "source": [
    "class WeekdayIterator(object):\n",
    "    \"\"\"Iterator over the weekdays.\"\"\"\n",
    "    def __init__(self):\n",
    "        self.i= 0 # Start from Monday\n",
    "        self.weekdays =  (\"Monday\", \"Tuesday\", \"Wednesday\", \"Thursday\", \"Friday\", \"Saturday\", \"Sunday\")\n",
    "    \n",
    "    def __iter__(self): \n",
    "        # If this object were a container, then this method would return the iterator over the\n",
    "        # elements of the container.\n",
    "        # Hoever, this object is already an iterator, hence we return self.\n",
    "        return self\n",
    "    \n",
    "    def __next__(self):\n",
    "        # Returns the next weekday\n",
    "        if self.i == 7:\n",
    "            raise StopIteration\n",
    "            # Signal that all weekdays were already iterated over\n",
    "        else:\n",
    "            weekday = self.weekdays[self.i]\n",
    "            self.i += 1\n",
    "            return weekday\n",
    "\n",
    "for w in WeekdayIterator():\n",
    "    print(w)"
   ]
  },
  {
   "cell_type": "code",
   "execution_count": 3,
   "metadata": {},
   "outputs": [
    {
     "name": "stdout",
     "output_type": "stream",
     "text": [
      "efg is a sequence\n",
      "[1, 2, 3] is a sequence\n",
      "(4, 5) is a sequence\n",
      "<__main__.WeekdayIterator object at 0x7f8257e814b0> is not a sequence\n"
     ]
    }
   ],
   "source": [
    "from collections import abc \n",
    "# Get the abstract base classes\n",
    "containers = [\"efg\", [1,2,3], (4,5), WeekdayIterator()]\n",
    "\n",
    "for c in containers:\n",
    "    if isinstance(c, abc.Sequence):\n",
    "        print(c, \"is a sequence\")\n",
    "    else:\n",
    "        print(c, \"is not a sequence\")"
   ]
  },
  {
   "cell_type": "code",
   "execution_count": 4,
   "metadata": {},
   "outputs": [
    {
     "name": "stdout",
     "output_type": "stream",
     "text": [
      "Index 0, day 26, month 2\n",
      "Index 1, day 27, month 2\n",
      "Index 2, day 28, month 2\n",
      "Index 3, day 1, month 3\n",
      "Index 4, day 2, month 3\n"
     ]
    }
   ],
   "source": [
    "# Generator example\n",
    "def mydate(day=1, month=1): \n",
    "    # Generates dates starting from the given date\n",
    "    lengths=(31,28,31,30, 31, 30, 31, 31, 30, 31, 30, 31)\n",
    "    # How many days in a month\n",
    "\n",
    "    first_day = day\n",
    "    for m in range(month, 13):\n",
    "        for d in range(first_day, lengths[m-1] + 1):\n",
    "            yield(d, m)\n",
    "\n",
    "        first_day = 1\n",
    "\n",
    "# Create the generator by calling the function:\n",
    "gen = mydate(26, 2) # Start from 26 of February\n",
    "for i, (day, month) in enumerate(gen):\n",
    "    if i == 5: \n",
    "        break # Print only the first five dates from the generator\n",
    "    print(f\"Index {i}, day {day}, month {month}\")"
   ]
  },
  {
   "cell_type": "code",
   "execution_count": null,
   "metadata": {},
   "outputs": [],
   "source": []
  }
 ],
 "metadata": {
  "kernelspec": {
   "display_name": "dstl",
   "language": "python",
   "name": "python3"
  },
  "language_info": {
   "codemirror_mode": {
    "name": "ipython",
    "version": 3
   },
   "file_extension": ".py",
   "mimetype": "text/x-python",
   "name": "python",
   "nbconvert_exporter": "python",
   "pygments_lexer": "ipython3",
   "version": "3.10.13"
  }
 },
 "nbformat": 4,
 "nbformat_minor": 2
}
