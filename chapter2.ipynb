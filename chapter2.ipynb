{
 "cells": [
  {
   "cell_type": "markdown",
   "metadata": {},
   "source": [
    "## Regular Expressions (RE)\n",
    "\n",
    "- Patterns to match strings.\n",
    "- Enclosed in r\"\" notation.\n",
    "- Use square brackets for character choices, e.g., [Aa].\n",
    "- | for alternatives, like [Aa]pple|[Bb]anana.\n",
    "- Legal variable names pattern: r\"[A-Za-z_][A-Za-z_0-9]*\\Z\".\n",
    "- Use raw strings (r\"\") for RE patterns to avoid conflicts with special notations.\n",
    "## Common RE Notations\n",
    "\n",
    "- . matches any character.\n",
    "- [...] matches characters in brackets.\n",
    "- [^...] matches characters not in brackets.\n",
    "- ^ matches start of the string.\n",
    "- $ matches end of the string.\n",
    "- '*' matches zero or more.\n",
    "- '+' matches one or more.\n",
    "- {m,n} matches m to n occurrences.\n",
    "- ? matches zero or one occurrence.\n",
    "## Grouping and Shorthand\n",
    "\n",
    "- Grouping with parentheses.\n",
    "- Backreferences with \\number.\n",
    "- Shorthand notations: \\d, \\D, \\s, \\S, \\w, \\W.\n",
    "## Matching Functions\n",
    "\n",
    "- `re.match` for the start of a string.\n",
    "- `re.search` for matching anywhere.\n",
    "- `re.findall` finds all occurrences.\n",
    "- `re.finditer` returns an iterator of match objects.\n",
    "- `re.sub` replaces pattern matches.\n",
    "## Pattern Compilation\n",
    "\n",
    "- Precompile patterns for efficiency with re.compile.\n",
    "- Flags like `re.IGNORECASE, re.MULTILINE`, and `re.DOTALL` modify matching behavior.\n",
    "## Match Objects\n",
    "\n",
    "- Returned by re.match and re.search.\n",
    "- Access matched substrings and groups with methods.\n",
    "- Use boolean checks like if mo: or convert with bool(mo)."
   ]
  },
  {
   "cell_type": "code",
   "execution_count": 1,
   "metadata": {},
   "outputs": [
    {
     "data": {
      "text/plain": [
       "['Doing', 'going', 'staying', 'sleeping']"
      ]
     },
     "execution_count": 1,
     "metadata": {},
     "output_type": "execute_result"
    }
   ],
   "source": [
    "# Match and search functions\n",
    "import re\n",
    "s = \"Doing things, going home, staying awake, sleeping later\"\n",
    "re.findall(r'\\w+ing\\b', s)"
   ]
  },
  {
   "cell_type": "code",
   "execution_count": 2,
   "metadata": {},
   "outputs": [
    {
     "data": {
      "text/plain": [
       "['23', '-24', '-1']"
      ]
     },
     "execution_count": 2,
     "metadata": {},
     "output_type": "execute_result"
    }
   ],
   "source": [
    "re.findall(r'[+-]?\\d+', \"23 + -24 = -1\")"
   ]
  },
  {
   "cell_type": "code",
   "execution_count": 4,
   "metadata": {},
   "outputs": [
    {
     "data": {
      "text/plain": [
       "[\"I'm not in a hurry, then I should stay.  On the other hand, if I leave\"]"
      ]
     },
     "execution_count": 4,
     "metadata": {},
     "output_type": "execute_result"
    }
   ],
   "source": [
    "s = (\"if I'm not in a hurry, then I should stay. \" + \" On the other hand, if I leave, then I can sleep.\")\n",
    "# Greedy matching (.*) tries to match as many characters as possible\n",
    "re.findall(r'[Ii]f (.*), then', s)"
   ]
  },
  {
   "cell_type": "code",
   "execution_count": 5,
   "metadata": {},
   "outputs": [
    {
     "data": {
      "text/plain": [
       "[\"I'm not in a hurry\", 'I leave']"
      ]
     },
     "execution_count": 5,
     "metadata": {},
     "output_type": "execute_result"
    }
   ],
   "source": [
    "\"\"\"\n",
    "The repetition specifiers +, *, ?, and {m,n} have corresponding non-greedy versions: +?, *?, ??, and {m,n}?. \n",
    "These expressions use as few characters as possible to make the whole pattern match some substring. \n",
    "\"\"\"\n",
    "s = (\"if I'm not in a hurry, then I should stay. \" + \" On the other hand, if I leave, then I can sleep.\")\n",
    "# Non - Greedy matching (.*?) tries to match as many characters as possible\n",
    "re.findall(r'[Ii]f (.*?), then', s)"
   ]
  },
  {
   "cell_type": "code",
   "execution_count": 6,
   "metadata": {},
   "outputs": [
    {
     "name": "stdout",
     "output_type": "stream",
     "text": [
      "he goes where he wants to, he's a sheriff.\n"
     ]
    }
   ],
   "source": [
    "# Functions in the re module\n",
    "import re\n",
    "str = \"She goes where she wants to, she's a sheriff.\"\n",
    "newstr = re.sub(r'\\b[Ss]he\\b', 'he', str)\n",
    "print(newstr)"
   ]
  },
  {
   "cell_type": "code",
   "execution_count": 11,
   "metadata": {},
   "outputs": [
    {
     "name": "stdout",
     "output_type": "stream",
     "text": [
      "He (The Doctor) is a timelord.\n",
      "He has a Tardis.\n"
     ]
    }
   ],
   "source": [
    "import re\n",
    "str = \"\"\"He is a timelord.\n",
    "He has a Tardis.\"\"\"\n",
    "newstr = re.sub(r'(\\b[Hh]e\\b)', r'\\1 (The Doctor)', str, 1)\n",
    "print(newstr)"
   ]
  },
  {
   "cell_type": "code",
   "execution_count": 13,
   "metadata": {},
   "outputs": [
    {
     "name": "stdout",
     "output_type": "stream",
     "text": [
      "<re.Match object; span=(6, 19), match='123 45 67 890'>\n"
     ]
    }
   ],
   "source": [
    "# Match Object\n",
    "\n",
    "mo = re.search(r'\\d+ (\\d+) \\d+ (\\d+)', 'first 123 45 67 890 last')\n",
    "if mo:\n",
    "    print(mo)"
   ]
  },
  {
   "cell_type": "code",
   "execution_count": 15,
   "metadata": {},
   "outputs": [
    {
     "data": {
      "text/plain": [
       "re.compile(r'hello world', re.MULTILINE|re.DOTALL|re.UNICODE)"
      ]
     },
     "execution_count": 15,
     "metadata": {},
     "output_type": "execute_result"
    }
   ],
   "source": [
    "# ignore cases\n",
    "# pre compile pattern for faster response \n",
    "# (?i) > re.IGNORECASE\n",
    "# (?m) > re.MULTILINE\n",
    "# (?s) > re.DOTALL\n",
    "import re\n",
    "pattern = r'hello world'\n",
    "re.compile(pattern, re.MULTILINE | re.DOTALL)"
   ]
  },
  {
   "cell_type": "code",
   "execution_count": 19,
   "metadata": {},
   "outputs": [
    {
     "name": "stdout",
     "output_type": "stream",
     "text": [
      "['12', '-43', '+12']\n"
     ]
    }
   ],
   "source": [
    "\"\"\"\n",
    "Write function integers_in_brackets that finds from a given string all integers that are enclosed in brackets.\n",
    "Example run: \n",
    "integers_in_brackets(\" afd [asd] [12 ] [a34] [ -43 ]tt [+12]xxx\") \n",
    "returns [12, -43, 12]. \n",
    "So there can be whitespace between the number and the brackets, \n",
    "but no other character besides those that make up the integer.\n",
    "\n",
    "Test your function from the main function.\n",
    "\"\"\"\n",
    "import re\n",
    "def integers_in_brackets(s):\n",
    "    pattern = r'\\[\\s*?([-+]?\\d+)\\s*?\\]'\n",
    "    result = re.findall(pattern, s)\n",
    "    return(result)\n",
    "\n",
    "def main():\n",
    "    result = integers_in_brackets(\" afd [asd] [12 ] [a34] [ -43 ]tt [+12]xxx\")\n",
    "    print(result)\n",
    "main()\n"
   ]
  },
  {
   "cell_type": "markdown",
   "metadata": {},
   "source": [
    "## Basic File Processing:\n",
    "\n",
    "- Open a file with open(filename, mode=\"r\").\n",
    "- Use the file object to read or write.\n",
    "- Close the file with close() when done.\n",
    "### File Opening Modes:\n",
    "\n",
    "- r: Read-only, file must exist.\n",
    "- w: Write-only, creates or overwrites.\n",
    "- a: Write-only, appends to the end.\n",
    "- r+: Read/write, file must exist.\n",
    "- w+: Read/write, creates or overwrites.\n",
    "- a+: Read/write, appends to the end.\n",
    "- t (text mode, default) or b (binary mode).\n",
    "### Text Mode vs. Binary Mode:\n",
    "\n",
    "- Text mode converts line endings `\\n` to two bytes and convert back to newline when read (e.g., Windows) and \n",
    "- One character is encodes characters (e.g., utf-8) to one or two bytes during read or write conversion.\n",
    "- Binary mode handles bytes directly.\n",
    "### Common File Object Methods:\n",
    "\n",
    "- `read(size)`: Read a specific number of characters/bytes.\n",
    "- `write(string)`: Write a string/bytes to a file.\n",
    "- `readline()`: Read a line until the next newline character.\n",
    "- `readlines()`: Return a list of all lines in a file.\n",
    "- `writelines()`: Write a list of lines to a file.\n",
    "- `flush()`: Ensure changes are written to disk immediately.\n",
    "### Context Manager:\n",
    "Use `with open(...) as f:` to automatically close the file.\n",
    "\n",
    "### Iterating Through File Lines:\n",
    "- The file object is iterable; you can use a for loop to iterate through lines.\n",
    "\n",
    "### Standard File Objects:\n",
    "\n",
    "- sys.stdin: Standard input.\n",
    "- sys.stdout: Standard output.\n",
    "- sys.stderr: Standard error.\n",
    "### Reading/Writing from Standard File Objects:\n",
    "\n",
    "- Read from user (keyboard) using sys.stdin.readline().\n",
    "- Write to user (screen) using sys.stdout.write(line).\n",
    "- Use sys.stderr for error messages.\n",
    "### Changing File Object Destinations:\n",
    "- You can redirect standard file objects to point elsewhere, like log files.\n",
    "\n",
    "### sys Module:\n",
    "\n",
    "- sys.path: List of folders to find imported modules.\n",
    "- sys.argv: Command line parameters.\n",
    "    - sys.argv[0] is the program name.\n",
    "    - Additional parameters are in the list.\n",
    "- sys.exit(): Exit a program with a return value (0 for success, non-zero for errors)."
   ]
  },
  {
   "cell_type": "code",
   "execution_count": 20,
   "metadata": {},
   "outputs": [
    {
     "data": {
      "text/plain": [
       "b'\\xc3\\xa4'"
      ]
     },
     "execution_count": 20,
     "metadata": {},
     "output_type": "execute_result"
    }
   ],
   "source": [
    "# Basic file processing\n",
    "# encoding with utf-8\n",
    "\"ä\".encode(\"utf-8\")"
   ]
  },
  {
   "cell_type": "code",
   "execution_count": 22,
   "metadata": {},
   "outputs": [
    {
     "data": {
      "text/plain": [
       "[195, 164]"
      ]
     },
     "execution_count": 22,
     "metadata": {},
     "output_type": "execute_result"
    }
   ],
   "source": [
    "# hex to decimal between 0- 255\n",
    "list(\"ä\".encode(\"utf-8\"))"
   ]
  },
  {
   "cell_type": "code",
   "execution_count": 23,
   "metadata": {},
   "outputs": [
    {
     "ename": "FileNotFoundError",
     "evalue": "[Errno 2] No such file or directory: 'basics.ipynb'",
     "output_type": "error",
     "traceback": [
      "\u001b[0;31m---------------------------------------------------------------------------\u001b[0m",
      "\u001b[0;31mFileNotFoundError\u001b[0m                         Traceback (most recent call last)",
      "\u001b[1;32m/home/student/work/helsinki/tmcdata/mooc-data-analysis-with-python-2023-2024/chapter2.ipynb Cell 14\u001b[0m line \u001b[0;36m2\n\u001b[1;32m      <a href='vscode-notebook-cell://ssh-remote%2B192.168.1.134/home/student/work/helsinki/tmcdata/mooc-data-analysis-with-python-2023-2024/chapter2.ipynb#X16sdnNjb2RlLXJlbW90ZQ%3D%3D?line=0'>1</a>\u001b[0m \u001b[39m# Some common file object methods\u001b[39;00m\n\u001b[0;32m----> <a href='vscode-notebook-cell://ssh-remote%2B192.168.1.134/home/student/work/helsinki/tmcdata/mooc-data-analysis-with-python-2023-2024/chapter2.ipynb#X16sdnNjb2RlLXJlbW90ZQ%3D%3D?line=1'>2</a>\u001b[0m f \u001b[39m=\u001b[39m \u001b[39mopen\u001b[39;49m(\u001b[39m\"\u001b[39;49m\u001b[39mbasics.ipynb\u001b[39;49m\u001b[39m\"\u001b[39;49m, \u001b[39m'\u001b[39;49m\u001b[39mr\u001b[39;49m\u001b[39m'\u001b[39;49m) \u001b[39m# Let's open this notebook file,\u001b[39;00m\n\u001b[1;32m      <a href='vscode-notebook-cell://ssh-remote%2B192.168.1.134/home/student/work/helsinki/tmcdata/mooc-data-analysis-with-python-2023-2024/chapter2.ipynb#X16sdnNjb2RlLXJlbW90ZQ%3D%3D?line=2'>3</a>\u001b[0m \u001b[39m# which is essentially a text file.\u001b[39;00m\n\u001b[1;32m      <a href='vscode-notebook-cell://ssh-remote%2B192.168.1.134/home/student/work/helsinki/tmcdata/mooc-data-analysis-with-python-2023-2024/chapter2.ipynb#X16sdnNjb2RlLXJlbW90ZQ%3D%3D?line=3'>4</a>\u001b[0m \u001b[39m# So you can open it in a texteditor as well.\u001b[39;00m\n\u001b[1;32m      <a href='vscode-notebook-cell://ssh-remote%2B192.168.1.134/home/student/work/helsinki/tmcdata/mooc-data-analysis-with-python-2023-2024/chapter2.ipynb#X16sdnNjb2RlLXJlbW90ZQ%3D%3D?line=4'>5</a>\u001b[0m \u001b[39mfor\u001b[39;00m i \u001b[39min\u001b[39;00m \u001b[39mrange\u001b[39m(\u001b[39m5\u001b[39m):  \u001b[39m# And read the first five lines\u001b[39;00m\n",
      "File \u001b[0;32m~/.local/lib/python3.10/site-packages/IPython/core/interactiveshell.py:308\u001b[0m, in \u001b[0;36m_modified_open\u001b[0;34m(file, *args, **kwargs)\u001b[0m\n\u001b[1;32m    301\u001b[0m \u001b[39mif\u001b[39;00m file \u001b[39min\u001b[39;00m {\u001b[39m0\u001b[39m, \u001b[39m1\u001b[39m, \u001b[39m2\u001b[39m}:\n\u001b[1;32m    302\u001b[0m     \u001b[39mraise\u001b[39;00m \u001b[39mValueError\u001b[39;00m(\n\u001b[1;32m    303\u001b[0m         \u001b[39mf\u001b[39m\u001b[39m\"\u001b[39m\u001b[39mIPython won\u001b[39m\u001b[39m'\u001b[39m\u001b[39mt let you open fd=\u001b[39m\u001b[39m{\u001b[39;00mfile\u001b[39m}\u001b[39;00m\u001b[39m by default \u001b[39m\u001b[39m\"\u001b[39m\n\u001b[1;32m    304\u001b[0m         \u001b[39m\"\u001b[39m\u001b[39mas it is likely to crash IPython. If you know what you are doing, \u001b[39m\u001b[39m\"\u001b[39m\n\u001b[1;32m    305\u001b[0m         \u001b[39m\"\u001b[39m\u001b[39myou can use builtins\u001b[39m\u001b[39m'\u001b[39m\u001b[39m open.\u001b[39m\u001b[39m\"\u001b[39m\n\u001b[1;32m    306\u001b[0m     )\n\u001b[0;32m--> 308\u001b[0m \u001b[39mreturn\u001b[39;00m io_open(file, \u001b[39m*\u001b[39;49margs, \u001b[39m*\u001b[39;49m\u001b[39m*\u001b[39;49mkwargs)\n",
      "\u001b[0;31mFileNotFoundError\u001b[0m: [Errno 2] No such file or directory: 'basics.ipynb'"
     ]
    }
   ],
   "source": [
    "# Some common file object methods\n",
    "# unfortunately we don't have basics.ipynb file\n",
    "f = open(\"basics.ipynb\", 'r') # Let's open this notebook file,\n",
    "# which is essentially a text file.\n",
    "# So you can open it in a texteditor as well.\n",
    "for i in range(5):  # And read the first five lines\n",
    "    line = f.readline()\n",
    "    print(f\"Line {i}: {line}\", end=\"\")\n",
    "f.close()"
   ]
  },
  {
   "cell_type": "code",
   "execution_count": null,
   "metadata": {},
   "outputs": [],
   "source": [
    "# second example for opening file with better opening file method\n",
    "# get the max length of the line from text content\n",
    "max_len = 0\n",
    "with open(\"basics.ipynb\", \"r\") as f:    # the file will be automatically closed.\n",
    "    # when the with block exits\n",
    "    for i in range(5):\n",
    "        line = f.readline()\n",
    "        if len(line) > max_len:\n",
    "            max_len = len(line)\n",
    "        print(f\"Line {i}: {line}\", end=\"\")\n",
    "print(f\"The longest line in this file has length {max_len}\")\n",
    "# out put should something look like this\n",
    "# The longest line in this file has length 1046"
   ]
  },
  {
   "cell_type": "code",
   "execution_count": 24,
   "metadata": {},
   "outputs": [
    {
     "name": "stderr",
     "output_type": "stream",
     "text": [
      "Got a negative integer.\n"
     ]
    }
   ],
   "source": [
    "# Standard file objects\n",
    "# These standard file objects are meant to be a basic input/output mechanism in textual form. \n",
    "import sys\n",
    "import random\n",
    "# we are getting number between -10 and 10\n",
    "i= random.randint(-10, 10)\n",
    "if i >= 0:\n",
    "    sys.stdout.write(\"Got a positive integer.\\n\")\n",
    "else:\n",
    "    sys.stderr.write(\"Got a negative integer.\\n\")\n",
    "# Got a negative integer.\n",
    "\n"
   ]
  },
  {
   "cell_type": "code",
   "execution_count": 45,
   "metadata": {},
   "outputs": [
    {
     "name": "stdout",
     "output_type": "stream",
     "text": [
      "25399 Nov 2 21 25 exception_hierarchy.pdf\n",
      "None\n"
     ]
    }
   ],
   "source": [
    "\"\"\"\n",
    "Exercise 2.2 (file listing)\n",
    "\n",
    "The file src/listing.txt contains a list of files with one line per file. \n",
    "Each line contains seven fields: access rights, number of references, owner's name, name of owning group, file size, date, filename. \n",
    "These fields are separated with one or more spaces. \n",
    "Note that there may be spaces also within these seven fields.\n",
    "\n",
    "Write function file_listing that loads the file src/listing.txt. \n",
    "It should return a list of tuples (size, month, day, hour, minute, filename). \n",
    "Use regular expressions to do this (either match, search, findall, or finditer method).\n",
    "\n",
    "An example: for line\n",
    "\n",
    "-rw-r--r-- 1 jttoivon hyad-all   25399 Nov  2 21:25 exception_hierarchy.pdf\n",
    "the function should create the tuple (25399, \"Nov\", 2, 21, 25, \"exception_hierarchy.pdf\").\n",
    "\"\"\"\n",
    "\n",
    "import re\n",
    "\n",
    "\n",
    "def file_listing(filename=\"src/listing.txt\"):\n",
    "    # function should create the tuple (25399, \"Nov\", 2, 21, 25, \"exception_hierarchy.pdf\")\n",
    "    # re.match is for matching exactly as the input string represent. So it need to consider the rest of none match.\n",
    "    pattern = r'(\\d+)\\s+(\\w{3})\\s+(\\d+)\\s+(\\d{2}):(\\d{2})\\s+(.+)'\n",
    "    \"\"\"\n",
    "    input_string = \"-rw-r--r-- 1 jttoivon hyad-all   25399 Nov  2 21:25 exception_hierarchy.pdf\"\n",
    "    match_group = re.search(pattern, input_string)\n",
    "    size, month, day, hour, minute, filename = match_group.groups()\n",
    "    print(size, month, day, hour, minute, filename)\n",
    "    \"\"\"\n",
    "    result = []\n",
    "    with open(filename,\"r\") as file:\n",
    "        for line in file:\n",
    "           \n",
    "            # first match all the group\n",
    "            match_group = re.search(pattern, line)\n",
    "            if match_group:\n",
    "                size, month, day, hour, minute, filename = match_group.groups()\n",
    "                result.append((int(size), month, int(day), int(hour), int(minute), filename))\n",
    "            \n",
    "    return result\n",
    "\n",
    "\"\"\"\n",
    "# Different version\n",
    "def file_listing(filename=\"src/listing.txt\"):\n",
    "    with open(filename) as f:\n",
    "        lines = f.readlines()\n",
    "    result=[]\n",
    "    for line in lines:\n",
    "        pattern = r\".{10}\\s+\\d+\\s+.+\\s+.+\\s+(\\d+)\\s+(...)\\s+(\\d+)\\s+(\\d\\d):(\\d\\d)\\s+(.+)\"\n",
    "        if True:      # Two alternative ways of doing the same thing\n",
    "            m = re.match(pattern, line)\n",
    "        else:\n",
    "            compiled_pattern = re.compile(pattern)\n",
    "            m = compiled_pattern.match(line)\n",
    "        if m:\n",
    "            t = m.groups()\n",
    "            result.append((int(t[0]), t[1], int(t[2]), int(t[3]), int(t[4]), t[5]))\n",
    "        else:\n",
    "            print(line)\n",
    "    return result\n",
    " \n",
    "\n",
    "\"\"\"\n",
    "  \n",
    "def main():\n",
    "    result = file_listing()\n",
    "    print(result)\n",
    "main()\n"
   ]
  },
  {
   "cell_type": "code",
   "execution_count": 54,
   "metadata": {},
   "outputs": [
    {
     "name": "stdout",
     "output_type": "stream",
     "text": [
      "255\\t250\\t250\\tsnow\n"
     ]
    }
   ],
   "source": [
    "\"\"\"\n",
    "Exercise 2.3 (red green blue)\n",
    "The file src/rgb.txt contains names of colors and their numerical representations in RGB format. \n",
    "The RBG format allows a color to be represented as a mixture of red, green, and blue components. \n",
    "Each component can have an integer value in the range [0,255]. \n",
    "Each line in the file contains four fields: red, green, blue, and colorname. \n",
    "Each field is separated by some amount of whitespace (tab or space in this case). \n",
    "The text file is formatted to make it print nicely, but that makes it harder to process by a computer. \n",
    "Note that some color names can also contain a space character.\n",
    "\n",
    "Write function red_green_blue that reads the file rgb.txt from the folder src. \n",
    "Remove the irrelevant first line of the file. The function should return a list of strings. \n",
    "Clean-up the file so that the strings in the returned list have four fields separated by a single tab character (\\t). \n",
    "Use regular expressions to do this.\n",
    "\n",
    "The first string in the returned list should be:\n",
    "\n",
    "'255\\t250\\t250\\tsnow'\n",
    "\n",
    "str = '''He is a timelord.\n",
    "He has a Tardis.'''\n",
    "newstr = re.sub(r'(\\b[Hh]e\\b)', r'\\1 (The Doctor)', str, 1)\n",
    "\"\"\"\n",
    "import re\n",
    "\n",
    "def red_green_blue(filename=\"src/rgb.txt\"):\n",
    "    result = []\n",
    "    # input string need to be \n",
    "    \"\"\"\n",
    "    ! $Xorg: rgb.txt,v 1.3 2000/08/17 19:54:00 cpqbld Exp $\n",
    "    255 250 250\t\tsnow\n",
    "    \"\"\"\n",
    "    # get rid off the head\n",
    "    # replace all the single space with \\t\n",
    "    # it matches all the single space and we replace them with \\t character\n",
    "    # input_string = \"255 250 250\t\tsnow\"\n",
    "\n",
    "    with open(filename, \"r\") as file:\n",
    "        # we skip the first line\n",
    "        first_line = file.readline()\n",
    "        result = []\n",
    "      \n",
    "        # we iterate through the line\n",
    "        for line in file:\n",
    "            #line = \"255 250 250\t\tsnow white\"\n",
    "          \n",
    "            newstr = re.search(r'(\\d+)\\s+(\\d+)\\s+(\\d+)\\s+(\\w+.*)', line)\n",
    "           \n",
    "            # newstr = re.sub(r'(\\d+)\\s+', r'\\1\\\\t', line)\n",
    "            # 255\\t250\\t250\\tsnow\n",
    "            # eliminate new line at the end\n",
    "            result.append((\"\\t\".join(newstr.groups())).strip())\n",
    "    return result\n",
    "\"\"\"\n",
    "# second version\n",
    "\n",
    "def red_green_blue(filename=\"src/rgb.txt\"):\n",
    "    with open(filename) as in_file:\n",
    "        l = re.findall(r\"(\\d+)\\s+(\\d+)\\s+(\\d+)\\s+(.*)\\n\", in_file.read())\n",
    "        return [\n",
    "            \"{}\\t{}\\t{}\\t{}\".format(r, g, b, name)\n",
    "            for r, g, b, name\n",
    "            in l\n",
    "\"\"\"\n",
    "\n",
    "def main():\n",
    "    red_green_blue()\n",
    "main()\n"
   ]
  },
  {
   "cell_type": "code",
   "execution_count": 74,
   "metadata": {},
   "outputs": [
    {
     "name": "stdout",
     "output_type": "stream",
     "text": [
      "{'The': 1, 'Project': 2, 'Gutenberg': 2, 'EBook': 1, 'of': 3, 'Alice': 1, 'in': 1, 'Wonderland,': 1, 'by': 1, 'Lewis': 1, 'Carroll': 1, 'This': 1, 'eBook': 2, 'is': 1, 'for': 1, 'the': 3, 'use': 1, 'anyone': 1, 'anywhere': 1, 'at': 2, 'no': 2, 'cost': 1, 'and': 1, 'with': 2, 'almost': 1, 'restrictions': 1, 'whatsoever.': 1, 'You': 1, 'may': 1, 'copy': 1, 'it,': 1, 'give': 1, 'it': 2, 'away': 1, 'or': 2, 're-use': 1, 'under': 1, 'terms': 1, 'License': 1, 'included': 1, 'this': 1, 'online': 1, 'www.gutenberg.org': 1}\n"
     ]
    }
   ],
   "source": [
    "\"\"\"\n",
    "Exercise 2.4 (word frequencies)\n",
    "Create function word_frequencies that gets a filename as a parameter and \n",
    "returns a dict with the word frequencies. \n",
    "In the dictionary the keys are the words and \n",
    "the corresponding values are the number of times that word occurred in the file specified by the function parameter. \n",
    "Read all the lines from the file and split the lines into words using the split() method. \n",
    "Further, remove punctuation from the ends of words using the strip(''\"!\"#$%&'()*,-./:;?@[]_''') method call.\n",
    "\n",
    "Test this function in the main function using the file alice.txt. In the output, there should be a word and \n",
    "its count per line separated by a tab:\n",
    "\n",
    "The     64\n",
    "Project 83\n",
    "Gutenberg   26\n",
    "EBook   3\n",
    "of      303\n",
    "\"\"\"\n",
    "def word_frequencies(filename):\n",
    "    input_string = \"\"\"\n",
    "    The Project Gutenberg EBook of Alice in Wonderland, by Lewis Carroll\\n\n",
    "\n",
    "    This eBook is for the use of anyone anywhere at no cost and with\\n\n",
    "    almost no restrictions whatsoever.  You may copy it, give it away or\\n\n",
    "    re-use it under the terms of the Project Gutenberg License included\\n\n",
    "    with this eBook or online at www.gutenberg.org\\n\n",
    "    \"\"\"\n",
    "    result = {}\n",
    "    with open(filename, \"r\") as file:\n",
    "        for input_string in file:\n",
    "            lines = input_string.split()\n",
    "            for word in lines:\n",
    "                strip_word = word.strip(\"\"\"!\"#$%&'()*,-./:;?@[]_\"\"\")\n",
    "                if strip_word not in result or not result:\n",
    "                    result[strip_word] = 0\n",
    "                \n",
    "                result[strip_word] += 1\n",
    "    return(result)\n",
    "'''\n",
    "def word_frequencies(filename):\n",
    "    result = {}\n",
    "    with open(filename) as in_file:\n",
    "        for w in in_file.read().split():\n",
    "            ws = w.strip(\"\"\"!\"#$%&'()*,-./:;?@[]_\"\"\")\n",
    "            if ws not in result:\n",
    "                result[ws] = 0\n",
    "            result[ws] += 1\n",
    "    return result\n",
    "'''\n",
    "def main():\n",
    "    words = word_frequencies(\"src/alice.txt\")\n",
    "    for word, frequency in words.items():\n",
    "        print(f\"{word}\\t{frequency}\")\n",
    "    \n",
    "main()"
   ]
  },
  {
   "cell_type": "code",
   "execution_count": null,
   "metadata": {},
   "outputs": [],
   "source": []
  }
 ],
 "metadata": {
  "kernelspec": {
   "display_name": "dstl",
   "language": "python",
   "name": "python3"
  },
  "language_info": {
   "codemirror_mode": {
    "name": "ipython",
    "version": 3
   },
   "file_extension": ".py",
   "mimetype": "text/x-python",
   "name": "python",
   "nbconvert_exporter": "python",
   "pygments_lexer": "ipython3",
   "version": "3.10.13"
  }
 },
 "nbformat": 4,
 "nbformat_minor": 2
}
