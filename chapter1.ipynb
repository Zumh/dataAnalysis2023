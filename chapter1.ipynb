{
 "cells": [
  {
   "cell_type": "markdown",
   "metadata": {},
   "source": [
    "## Basic input and output\n",
    "\n",
    "This text discusses basic input and output operations in Python. It begins by introducing a simple \"Hello, world\" program that can be executed in a Python environment. Users are encouraged to edit the text within quotes and rerun the program.\n",
    "\n",
    "The text also demonstrates how to print multiple strings, which are concatenated by default with spaces. It explains that numerical expressions within the print function are evaluated and converted to strings, and then concatenated with spaces.\n",
    "\n",
    "Additionally, the text introduces the input function, which allows users to read textual input from the user. This function is given a string parameter, which is printed as a prompt to the user. The example provided shows how to use the input function to store a user's name in a variable and then print a greeting with that name.\n",
    "\n",
    "In summary, the text covers basic Python concepts related to printing, user input, and program execution."
   ]
  },
  {
   "cell_type": "code",
   "execution_count": 1,
   "metadata": {},
   "outputs": [
    {
     "name": "stdout",
     "output_type": "stream",
     "text": [
      "Hello, world!\n"
     ]
    }
   ],
   "source": [
    "print(\"Hello, world!\")"
   ]
  },
  {
   "cell_type": "code",
   "execution_count": 2,
   "metadata": {},
   "outputs": [
    {
     "name": "stdout",
     "output_type": "stream",
     "text": [
      "Hello John! How are you?\n"
     ]
    }
   ],
   "source": [
    "print(\"Hello\", \"John!\", \"How are you?\")"
   ]
  },
  {
   "cell_type": "code",
   "execution_count": 3,
   "metadata": {},
   "outputs": [
    {
     "name": "stdout",
     "output_type": "stream",
     "text": [
      "1 plus 2 equals 3\n"
     ]
    }
   ],
   "source": [
    "print(1, \"plus\", 2, \"equals\", 1+2)"
   ]
  },
  {
   "cell_type": "code",
   "execution_count": 4,
   "metadata": {},
   "outputs": [
    {
     "name": "stdout",
     "output_type": "stream",
     "text": [
      "Hello, John\n"
     ]
    }
   ],
   "source": [
    "name=input(\"Give me your name: \")\n",
    "print(\"Hello,\", name)"
   ]
  },
  {
   "cell_type": "markdown",
   "metadata": {},
   "source": [
    "## Indentation\n",
    "- For Loops in Python\n",
    "\n",
    "Repetition is possible with the for loop in Python.\n",
    "The body of the for loop is indented with a tabulator or four spaces.\n",
    "\n",
    "Unlike some other languages, Python doesn't use braces to denote the body of the loop.\n",
    "When the indentation stops, the body of the loop ends.\n",
    "\n",
    "Example:\n",
    "\n",
    "```python\n",
    "\n",
    "for i in range(3):\n",
    "    print(\"Hello\")\n",
    "print(\"Bye!\")\n",
    "```\n",
    "Output:\n",
    "Hello\n",
    "Hello\n",
    "Hello\n",
    "Bye!\n",
    "\n",
    "Indentation in Python:\n",
    "\n",
    "Indentation is a crucial part of Python syntax.\n",
    "It is used not only in for loops but also in other compound statements, such as function bodies, different branches of if statements, and while loops.\n",
    "\n",
    "- The range() Function:\n",
    "The range(3) expression results in a sequence of integers: 0, 1, and 2.\n",
    "In Python, range represents a half-open interval, with the end point excluded from the range.\n",
    "In general, range(n) gives integers from 0 up to (n-1).\n",
    "\n",
    "- Printing Variable Values in a For Loop\n",
    "\n",
    "You can modify the code to print the value of the variable i at each iteration of the loop.\n",
    "This is done by adding print(i) inside the for loop.\n",
    "\n",
    "- Modified Example:\n",
    "\n",
    "```python\n",
    "for i in range(3):\n",
    "    print(\"Hello\")\n",
    "    print(i)  # Added to print the value of i\n",
    "print(\"Bye!\")\n",
    "```\n",
    "When you run this modified code, it will print the value of i along with \"Hello\" and \"Bye!\" at the end."
   ]
  },
  {
   "cell_type": "markdown",
   "metadata": {},
   "source": [
    "## Exercise 1.1 (Hello world)"
   ]
  },
  {
   "cell_type": "code",
   "execution_count": null,
   "metadata": {},
   "outputs": [],
   "source": []
  }
 ],
 "metadata": {
  "kernelspec": {
   "display_name": "dstl",
   "language": "python",
   "name": "python3"
  },
  "language_info": {
   "codemirror_mode": {
    "name": "ipython",
    "version": 3
   },
   "file_extension": ".py",
   "mimetype": "text/x-python",
   "name": "python",
   "nbconvert_exporter": "python",
   "pygments_lexer": "ipython3",
   "version": "3.10.13"
  }
 },
 "nbformat": 4,
 "nbformat_minor": 2
}
