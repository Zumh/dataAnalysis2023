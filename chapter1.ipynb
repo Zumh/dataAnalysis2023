{
 "cells": [
  {
   "cell_type": "markdown",
   "metadata": {},
   "source": [
    "## Basic input and output\n",
    "\n",
    "This text discusses basic input and output operations in Python. It begins by introducing a simple \"Hello, world\" program that can be executed in a Python environment. Users are encouraged to edit the text within quotes and rerun the program.\n",
    "\n",
    "The text also demonstrates how to print multiple strings, which are concatenated by default with spaces. It explains that numerical expressions within the print function are evaluated and converted to strings, and then concatenated with spaces.\n",
    "\n",
    "Additionally, the text introduces the input function, which allows users to read textual input from the user. This function is given a string parameter, which is printed as a prompt to the user. The example provided shows how to use the input function to store a user's name in a variable and then print a greeting with that name.\n",
    "\n",
    "In summary, the text covers basic Python concepts related to printing, user input, and program execution."
   ]
  },
  {
   "cell_type": "code",
   "execution_count": 1,
   "metadata": {},
   "outputs": [
    {
     "name": "stdout",
     "output_type": "stream",
     "text": [
      "Hello, world!\n"
     ]
    }
   ],
   "source": [
    "print(\"Hello, world!\")"
   ]
  },
  {
   "cell_type": "code",
   "execution_count": 2,
   "metadata": {},
   "outputs": [
    {
     "name": "stdout",
     "output_type": "stream",
     "text": [
      "Hello John! How are you?\n"
     ]
    }
   ],
   "source": [
    "print(\"Hello\", \"John!\", \"How are you?\")"
   ]
  },
  {
   "cell_type": "code",
   "execution_count": 3,
   "metadata": {},
   "outputs": [
    {
     "name": "stdout",
     "output_type": "stream",
     "text": [
      "1 plus 2 equals 3\n"
     ]
    }
   ],
   "source": [
    "print(1, \"plus\", 2, \"equals\", 1+2)"
   ]
  },
  {
   "cell_type": "code",
   "execution_count": 4,
   "metadata": {},
   "outputs": [
    {
     "name": "stdout",
     "output_type": "stream",
     "text": [
      "Hello, John\n"
     ]
    }
   ],
   "source": [
    "name=input(\"Give me your name: \")\n",
    "print(\"Hello,\", name)"
   ]
  },
  {
   "cell_type": "markdown",
   "metadata": {},
   "source": [
    "## Indentation\n",
    "- For Loops in Python\n",
    "\n",
    "Repetition is possible with the for loop in Python.\n",
    "The body of the for loop is indented with a tabulator or four spaces.\n",
    "\n",
    "Unlike some other languages, Python doesn't use braces to denote the body of the loop.\n",
    "When the indentation stops, the body of the loop ends.\n",
    "\n",
    "Example:\n",
    "\n",
    "```python\n",
    "\n",
    "for i in range(3):\n",
    "    print(\"Hello\")\n",
    "print(\"Bye!\")\n",
    "```\n",
    "Output:\n",
    "Hello\n",
    "Hello\n",
    "Hello\n",
    "Bye!\n",
    "\n",
    "Indentation in Python:\n",
    "\n",
    "Indentation is a crucial part of Python syntax.\n",
    "It is used not only in for loops but also in other compound statements, such as function bodies, different branches of if statements, and while loops.\n",
    "\n",
    "- The range() Function:\n",
    "The range(3) expression results in a sequence of integers: 0, 1, and 2.\n",
    "In Python, range represents a half-open interval, with the end point excluded from the range.\n",
    "In general, range(n) gives integers from 0 up to (n-1).\n",
    "\n",
    "- Printing Variable Values in a For Loop\n",
    "\n",
    "You can modify the code to print the value of the variable i at each iteration of the loop.\n",
    "This is done by adding print(i) inside the for loop.\n",
    "\n",
    "- Modified Example:\n",
    "\n",
    "```python\n",
    "for i in range(3):\n",
    "    print(\"Hello\")\n",
    "    print(i)  # Added to print the value of i\n",
    "print(\"Bye!\")\n",
    "```\n",
    "When you run this modified code, it will print the value of i along with \"Hello\" and \"Bye!\" at the end."
   ]
  },
  {
   "cell_type": "markdown",
   "metadata": {},
   "source": [
    "## Exercise 1.1 (Hello world)\n",
    "\n",
    "Fill in the missing piece in the solution stub file hello_world.py in folder src to make it print the following:\n",
    "\n",
    "Hello, world!\n",
    "Make sure you use correct indenting. You can run it with command python3 src/hello_world.py. If the output looks good, then you can test it with command tmc test. If the tests pass, submit your solution to the server with command tmc submit."
   ]
  },
  {
   "cell_type": "code",
   "execution_count": 6,
   "metadata": {},
   "outputs": [
    {
     "name": "stdout",
     "output_type": "stream",
     "text": [
      "Hello, world!\n"
     ]
    }
   ],
   "source": [
    "print(\"Hello, world!\")"
   ]
  },
  {
   "cell_type": "markdown",
   "metadata": {},
   "source": [
    "## Exercise 1.2 (compliment)\n",
    "Fill in the stub solution to make the program work as follows. The program should ask the user for an input, and then print an answer as the examples below show.\n",
    "\n",
    "What country are you from? Sweden\n",
    "I have heard that Sweden is a beautiful country.\n",
    "\n",
    "What country are you from? Chile  \n",
    "I have heard that Chile is a beautiful country."
   ]
  },
  {
   "cell_type": "code",
   "execution_count": 7,
   "metadata": {},
   "outputs": [
    {
     "name": "stdout",
     "output_type": "stream",
     "text": [
      "I have heard that China is a beautiful country.\n"
     ]
    }
   ],
   "source": [
    "country = input(\"What country are you from? \")\n",
    "print(f\"I have heard that {country} is a beautiful country.\")"
   ]
  },
  {
   "cell_type": "markdown",
   "metadata": {},
   "source": [
    "## Exercise 1.3 (multiplication)\n",
    "Make a program that gives the following output. You should use a for loop in your solution.\n",
    "\n",
    "4 multiplied by 0 is 0"
   ]
  },
  {
   "cell_type": "code",
   "execution_count": 9,
   "metadata": {},
   "outputs": [
    {
     "name": "stdout",
     "output_type": "stream",
     "text": [
      "4 multiplied by 0 is 0\n",
      "4 multiplied by 1 is 4\n",
      "4 multiplied by 2 is 8\n",
      "4 multiplied by 3 is 12\n",
      "4 multiplied by 4 is 16\n",
      "4 multiplied by 5 is 20\n",
      "4 multiplied by 6 is 24\n",
      "4 multiplied by 7 is 28\n",
      "4 multiplied by 8 is 32\n",
      "4 multiplied by 9 is 36\n",
      "4 multiplied by 10 is 40\n"
     ]
    }
   ],
   "source": [
    "number = 4\n",
    "for first in range(11):\n",
    "    product = first * number\n",
    "    print(f\"{number} multiplied by {first} is {product}\")"
   ]
  },
  {
   "cell_type": "markdown",
   "metadata": {},
   "source": [
    "## Variables and data types\n",
    "\n",
    "Python allows simple variable assignment, e.g., a = 1, without explicitly specifying the variable type.\n",
    "\n",
    "You can determine a variable's type using the type function.\n",
    "\n",
    "Python uses dynamic typing, meaning the type of a variable is based on its value, not its name.\n",
    "\n",
    "Variables are names that refer to values, and the assignment operator binds the name to the value.\n",
    "\n",
    "Basic data types in Python include int, float, complex, str, bool, and bytes.\n",
    "\n",
    "Examples of data type usage: i = 5, f = 1.5, b = i == 4, c = 0 + 2j, s = \"conca\" + \"tenation\".\n",
    "\n",
    "Type names can be used for type conversion, e.g., int(-2.8), float(2), int(\"123\"), bool(-2), bool(0), str(234).\n",
    "\n",
    "Bytes are used to represent information with values between 0 and 255, consisting of 8 bits, commonly used in storage and data transmission.\n",
    "\n",
    "Characters are encoded as sequences of bytes, and you can encode and decode them using methods like .encode() and .decode().\n",
    "\n",
    "Understanding bytes may be necessary when dealing with specific data sets and specifying character encoding"
   ]
  },
  {
   "cell_type": "code",
   "execution_count": 10,
   "metadata": {},
   "outputs": [
    {
     "name": "stdout",
     "output_type": "stream",
     "text": [
      "1\n"
     ]
    }
   ],
   "source": [
    "a = 1\n",
    "print(a)"
   ]
  },
  {
   "cell_type": "code",
   "execution_count": 11,
   "metadata": {},
   "outputs": [
    {
     "data": {
      "text/plain": [
       "int"
      ]
     },
     "execution_count": 11,
     "metadata": {},
     "output_type": "execute_result"
    }
   ],
   "source": [
    "type(a)"
   ]
  },
  {
   "cell_type": "code",
   "execution_count": 12,
   "metadata": {},
   "outputs": [
    {
     "data": {
      "text/plain": [
       "str"
      ]
     },
     "execution_count": 12,
     "metadata": {},
     "output_type": "execute_result"
    }
   ],
   "source": [
    "a = \"some text\"\n",
    "type(a)"
   ]
  },
  {
   "cell_type": "code",
   "execution_count": 13,
   "metadata": {},
   "outputs": [
    {
     "name": "stdout",
     "output_type": "stream",
     "text": [
      "Result of the comparison: False\n",
      "Complex multiplication: (-4+0j)\n",
      "concatenation\n"
     ]
    }
   ],
   "source": [
    "i = 5\n",
    "f = 1.5\n",
    "b = i == 4\n",
    "print(\"Result of the comparison:\", b)\n",
    "c=0+2j # Note that j denotes the imaginary unit of complex numbers.\n",
    "print(\"Complex multiplication:\", c * c)\n",
    "s=\"conca\" + \"tenation\"\n",
    "print(s)"
   ]
  },
  {
   "cell_type": "code",
   "execution_count": 14,
   "metadata": {},
   "outputs": [
    {
     "name": "stdout",
     "output_type": "stream",
     "text": [
      "-2\n",
      "2.0\n",
      "123\n",
      "True False\n",
      "234\n"
     ]
    }
   ],
   "source": [
    "print(int(-2.8))\n",
    "print(float(2))\n",
    "print(int(\"123\"))\n",
    "print(bool(-2), bool(0)) # Zero is interpreted as False\n",
    "print(str(234))\n"
   ]
  },
  {
   "cell_type": "code",
   "execution_count": 16,
   "metadata": {},
   "outputs": [
    {
     "name": "stdout",
     "output_type": "stream",
     "text": [
      "b'\\xc3\\xa4'\n",
      "[195, 164]\n"
     ]
    }
   ],
   "source": [
    "b = \"ä\".encode(\"utf-8\") # Convert characters(s) to a sequence of bytes\n",
    "\n",
    "print(b) # Prints bytes in hexadecimal notation\n",
    "\n",
    "print(list(b))  # Prints bytes in decimal notation\n"
   ]
  },
  {
   "cell_type": "code",
   "execution_count": 18,
   "metadata": {},
   "outputs": [
    {
     "data": {
      "text/plain": [
       "'ä'"
      ]
     },
     "execution_count": 18,
     "metadata": {},
     "output_type": "execute_result"
    }
   ],
   "source": [
    "bytes.decode(b, \"utf-8\") # convert sequence of bytes to character(s)"
   ]
  },
  {
   "cell_type": "markdown",
   "metadata": {},
   "source": [
    "## Creating strings\n",
    "A string is a sequence of characters enclosed in single ('') or double (\"\") quotes, allowing for flexibility when dealing with quotation marks inside a string.\n",
    "\n",
    "Strings can contain escape sequences like '\\n' for a newline and '\\t' for a tab.\n",
    "\n",
    "Triple quotes (''' or \"\"\") are used to create multiline strings.\n",
    "\n",
    "Concatenating strings with the '+' operator is less efficient for many strings. The 'join' method is recommended for efficiency.\n",
    "\n",
    "String interpolation is a way to insert values into strings. It offers more readability and is available through various methods, including Python format strings, the format method, and f-strings.\n",
    "\n",
    "Examples of string interpolation methods: % for Python format strings, format() method, and f-strings (f\"...\").\n",
    "\n",
    "Format specifiers (e.g., %i, %f, :d, .1f) allow you to control the formatting of values within the string.\n",
    "\n",
    "String interpolation is a matter of personal preference; commonly used methods are f-strings and the format method.\n",
    "\n",
    "Overall, string interpolation provides a cleaner and more efficient way to embed values within strings."
   ]
  },
  {
   "cell_type": "code",
   "execution_count": 19,
   "metadata": {},
   "outputs": [
    {
     "name": "stdout",
     "output_type": "stream",
     "text": [
      "One\tTwo\n",
      "Three\tFour\n"
     ]
    }
   ],
   "source": [
    "print(\"One\\tTwo\\nThree\\tFour\")"
   ]
  },
  {
   "cell_type": "code",
   "execution_count": 20,
   "metadata": {},
   "outputs": [],
   "source": [
    "s=\"\"\"A string\n",
    "spanning over\n",
    "several lines\"\"\""
   ]
  },
  {
   "cell_type": "code",
   "execution_count": 21,
   "metadata": {},
   "outputs": [
    {
     "name": "stdout",
     "output_type": "stream",
     "text": [
      "firstsecond\n",
      "first second second first\n"
     ]
    }
   ],
   "source": [
    "a=\"first\"\n",
    "b=\"second\"\n",
    "print(a+b)\n",
    "print(\" \".join([a, b, b, a])) # More about the join method later"
   ]
  },
  {
   "cell_type": "code",
   "execution_count": 22,
   "metadata": {},
   "outputs": [
    {
     "name": "stdout",
     "output_type": "stream",
     "text": [
      "1 plus 3 is equal to 4\n",
      "1 plus 3 is equal to 4\n"
     ]
    }
   ],
   "source": [
    "print(str(1) + \" plus \" + str(3) + \" is equal to \" + str(4))\n",
    "# slightly better\n",
    "print(1, \"plus\", 3, \"is equal to\", 4)"
   ]
  },
  {
   "cell_type": "code",
   "execution_count": 23,
   "metadata": {},
   "outputs": [
    {
     "name": "stdout",
     "output_type": "stream",
     "text": [
      "1 plus 3 is equal to 4\n",
      "1 plus 3 is equal to 4\n",
      "1 plus 3 is equal to 4\n"
     ]
    }
   ],
   "source": [
    "print(\"%i plus %i is equal to %i\" % (1, 3, 4)) # Format syntax\n",
    "\n",
    "print(\"{} plus {} is equal to {}\".format(1, 3, 4)) # Format method\n",
    "\n",
    "print(f\"{1} plus {3} is equal to {4}\") # f-string"
   ]
  },
  {
   "cell_type": "code",
   "execution_count": 24,
   "metadata": {},
   "outputs": [
    {
     "name": "stdout",
     "output_type": "stream",
     "text": [
      "1.6 1.70 1.800\n",
      "1.6 1.70 1.800\n",
      "1.6 1.70 1.800\n"
     ]
    }
   ],
   "source": [
    "print(\"%.1f %.2f %.3f\" % (1.6, 1.7, 1.8)) # Old style \n",
    "\n",
    "print(\"{:.1f} {:.2f} {:.3f}\".format(1.6, 1.7, 1.8)) # newer style\n",
    "\n",
    "print(f\"{1.6:.1f} {1.7:.2f} {1.8:.3f}\") # f-string"
   ]
  },
  {
   "cell_type": "code",
   "execution_count": 26,
   "metadata": {},
   "outputs": [
    {
     "name": "stdout",
     "output_type": "stream",
     "text": [
      "water concatenated with melon produces watermelon\n",
      "water concatenated with melon produces watermelon\n",
      "water concatenated with melon produces watermelon\n"
     ]
    }
   ],
   "source": [
    "print(\"%s concatenated with %s produces %s\" % (\"water\", \"melon\", \"water\"+\"melon\"))\n",
    "print(\"{0} concatenated with {1} produces {0}{1}\".format(\"water\", \"melon\"))\n",
    "print(f\"{'water'} concatenated with {'melon'} produces {'water' + 'melon'}\")"
   ]
  },
  {
   "cell_type": "markdown",
   "metadata": {},
   "source": [
    "## Expressions\n",
    "\n",
    "Expressions:\n",
    "\n",
    "An expression in Python is a piece of code that evaluates to a value. It combines values (literals or variables) with operators.\n",
    "\n",
    "Values in expressions can be literals (e.g., numbers, strings) or variables.\n",
    "\n",
    "Operators used in expressions include arithmetic operators (+, -, *, /), comparison operators (<, >, ==), function calls (e.g., cos(0)), indexing (e.g., mylist[1]), and attribute references (e.g., obj.attr).\n",
    "\n",
    "Examples of expressions include mathematical calculations (e.g., 1+2, 7/(2+0.1), variable references (e.g., a), and logical expressions (e.g., c > 0 and c != 1).\n",
    "\n",
    "Expressions are used to perform calculations, generate results, and can be part of statements or other expressions.\n",
    "\n",
    "Expressions are fundamental building blocks in Python programming.\n",
    "\n",
    "Statements:\n",
    "\n",
    "Statements are commands in Python that perform some action or have an effect. They include variable assignments, function calls (not part of an expression), and control flow statements.\n",
    "\n",
    "Variable assignments, like i = 5, assign a value to a variable. You can increment variables using i = i + 1 or use the shorthand i += 1.\n",
    "\n",
    "Python lacks ++ and -- operators seen in some other languages.\n",
    "\n",
    "Augmented assignment operators, such as +=, -= are available for the arithmetic operators, making operations like incrementing simpler.\n",
    "\n",
    "Flow control statements like if-else, for loops, and while loops are used to control the flow of a program and execute code conditionally or iteratively.\n",
    "\n",
    "Statements are essential for creating structured and meaningful programs.\n",
    "\n",
    "Understanding the distinction between expressions and statements is important for writing Python code and controlling program execution. Expressions evaluate to values, while statements are commands that perform actions.\n"
   ]
  },
  {
   "cell_type": "markdown",
   "metadata": {},
   "source": [
    "## For loop and While loop\n",
    "\n",
    "A for loop is used to execute a block of statements a specific number of times or for each item in an iterable.\n",
    "\n",
    "In a for loop, the variable (commonly named i or any name you choose) represents the current item from the iterable on each iteration.\n",
    "\n",
    "You can use a for loop with a list, generator, or any iterable object to iterate through its elements.\n",
    "\n",
    "The range() function generates a sequence of values from 0 to n-1, making it a common choice for simple iteration.\n",
    "\n",
    "In Python, for loops are suitable for iterating through elements in an iterable, such as lists, dictionaries, strings, and more.\n",
    "\n",
    "While loops are an alternative when you need to iterate based on a condition or until a specific condition is met, making them useful for cases like generating Fibonacci numbers within a limit.\n",
    "\n",
    "Python provides a clean and concise way to work with for loops, making them a natural choice for many iteration tasks.\n",
    "\n",
    "Iterables and generators are concepts that are closely related to the use of for loops, and they provide a way to work with sequences of data. These will be discussed in more detail in later lessons.\n",
    "\n",
    "For loops are a powerful tool for iterating through sequences, making them a fundamental part of Python programming. Depending on the specific use case, you can choose between for loops and while loops to achieve your desired iteration behavior."
   ]
  },
  {
   "cell_type": "code",
   "execution_count": 27,
   "metadata": {},
   "outputs": [
    {
     "name": "stdout",
     "output_type": "stream",
     "text": [
      "Square of 1 is 1\n",
      "Square of 2 is 4\n",
      "Square of 3 is 9\n",
      "Square of 4 is 16\n",
      "Square of 5 is 25\n",
      "Square of 6 is 36\n",
      "Square of 7 is 49\n",
      "Square of 8 is 64\n",
      "Square of 9 is 81\n",
      "Square of 10 is 100\n",
      "Square of 11 is 121\n",
      "Square of 12 is 144\n",
      "Square of 13 is 169\n",
      "Square of 14 is 196\n",
      "Square of 15 is 225\n",
      "Square of 16 is 256\n",
      "Square of 17 is 289\n",
      "Square of 18 is 324\n",
      "Square of 19 is 361\n",
      "Square of 20 is 400\n",
      "Square of 21 is 441\n",
      "Square of 22 is 484\n",
      "Square of 23 is 529\n",
      "Square of 24 is 576\n",
      "Square of 25 is 625\n",
      "Square of 26 is 676\n",
      "Square of 27 is 729\n",
      "Square of 28 is 784\n",
      "Square of 29 is 841\n",
      "Square of 30 is 900\n",
      "Square of 31 is 961\n",
      "Square of 32 is 1024\n",
      "Square of 33 is 1089\n",
      "Square of 34 is 1156\n",
      "Square of 35 is 1225\n",
      "Square of 36 is 1296\n",
      "Square of 37 is 1369\n",
      "Square of 38 is 1444\n",
      "Square of 39 is 1521\n",
      "Square of 40 is 1600\n",
      "Square of 41 is 1681\n",
      "Square of 42 is 1764\n",
      "Square of 43 is 1849\n",
      "Square of 44 is 1936\n",
      "Square of 45 is 2025\n",
      "Square of 46 is 2116\n",
      "Square of 47 is 2209\n",
      "Square of 48 is 2304\n",
      "Square of 49 is 2401\n",
      "Square of 50 is 2500\n",
      "Square of 51 is 2601\n",
      "Square of 52 is 2704\n",
      "Square of 53 is 2809\n",
      "Square of 54 is 2916\n",
      "Square of 55 is 3025\n",
      "Square of 56 is 3136\n",
      "Square of 57 is 3249\n",
      "Square of 58 is 3364\n",
      "Square of 59 is 3481\n",
      "Square of 60 is 3600\n",
      "Square of 61 is 3721\n",
      "Square of 62 is 3844\n",
      "Square of 63 is 3969\n",
      "Square of 64 is 4096\n",
      "Square of 65 is 4225\n",
      "Square of 66 is 4356\n",
      "Square of 67 is 4489\n",
      "Square of 68 is 4624\n",
      "Square of 69 is 4761\n",
      "Square of 70 is 4900\n",
      "Square of 71 is 5041\n",
      "Square of 72 is 5184\n",
      "Square of 73 is 5329\n",
      "Square of 74 is 5476\n",
      "Square of 75 is 5625\n",
      "Square of 76 is 5776\n",
      "Square of 77 is 5929\n",
      "Square of 78 is 6084\n",
      "Square of 79 is 6241\n",
      "Square of 80 is 6400\n",
      "Square of 81 is 6561\n",
      "Square of 82 is 6724\n",
      "Square of 83 is 6889\n",
      "Square of 84 is 7056\n",
      "Square of 85 is 7225\n",
      "Square of 86 is 7396\n",
      "Square of 87 is 7569\n",
      "Square of 88 is 7744\n",
      "Square of 89 is 7921\n",
      "Square of 90 is 8100\n",
      "Square of 91 is 8281\n",
      "Square of 92 is 8464\n",
      "Square of 93 is 8649\n",
      "Square of 94 is 8836\n",
      "Square of 95 is 9025\n",
      "Square of 96 is 9216\n",
      "Square of 97 is 9409\n",
      "Square of 98 is 9604\n",
      "Square of 99 is 9801\n",
      "Square of 100 is 10000\n",
      "Square of 101 is 10201\n",
      "Square of 102 is 10404\n",
      "Square of 103 is 10609\n",
      "Square of 104 is 10816\n",
      "Square of 105 is 11025\n",
      "Square of 106 is 11236\n",
      "Square of 107 is 11449\n",
      "Square of 108 is 11664\n",
      "Square of 109 is 11881\n",
      "Square of 110 is 12100\n",
      "Square of 111 is 12321\n",
      "Square of 112 is 12544\n",
      "Square of 113 is 12769\n",
      "Square of 114 is 12996\n",
      "Square of 115 is 13225\n",
      "Square of 116 is 13456\n",
      "Square of 117 is 13689\n",
      "Square of 118 is 13924\n",
      "Square of 119 is 14161\n",
      "Square of 120 is 14400\n",
      "Square of 121 is 14641\n",
      "Square of 122 is 14884\n",
      "Square of 123 is 15129\n",
      "Square of 124 is 15376\n",
      "Square of 125 is 15625\n",
      "Square of 126 is 15876\n",
      "Square of 127 is 16129\n",
      "Square of 128 is 16384\n",
      "Square of 129 is 16641\n",
      "Square of 130 is 16900\n",
      "Square of 131 is 17161\n",
      "Square of 132 is 17424\n",
      "Square of 133 is 17689\n",
      "Square of 134 is 17956\n",
      "Square of 135 is 18225\n",
      "Square of 136 is 18496\n",
      "Square of 137 is 18769\n",
      "Square of 138 is 19044\n",
      "Square of 139 is 19321\n",
      "Square of 140 is 19600\n",
      "Square of 141 is 19881\n",
      "Square of 142 is 20164\n",
      "Square of 143 is 20449\n",
      "Square of 144 is 20736\n",
      "Square of 145 is 21025\n",
      "Square of 146 is 21316\n",
      "Square of 147 is 21609\n",
      "Square of 148 is 21904\n",
      "Square of 149 is 22201\n",
      "Square of 150 is 22500\n",
      "Square of 151 is 22801\n",
      "Square of 152 is 23104\n",
      "Square of 153 is 23409\n",
      "Square of 154 is 23716\n",
      "Square of 155 is 24025\n",
      "Square of 156 is 24336\n",
      "Square of 157 is 24649\n",
      "Square of 158 is 24964\n",
      "Square of 159 is 25281\n",
      "Square of 160 is 25600\n",
      "Square of 161 is 25921\n",
      "Square of 162 is 26244\n",
      "Square of 163 is 26569\n",
      "Square of 164 is 26896\n",
      "Square of 165 is 27225\n",
      "Square of 166 is 27556\n",
      "Square of 167 is 27889\n",
      "Square of 168 is 28224\n",
      "Square of 169 is 28561\n",
      "Square of 170 is 28900\n",
      "Square of 171 is 29241\n",
      "Square of 172 is 29584\n",
      "Square of 173 is 29929\n",
      "Square of 174 is 30276\n",
      "Square of 175 is 30625\n",
      "Square of 176 is 30976\n",
      "Square of 177 is 31329\n",
      "Square of 178 is 31684\n",
      "Square of 179 is 32041\n",
      "Square of 180 is 32400\n",
      "Square of 181 is 32761\n",
      "Square of 182 is 33124\n",
      "Square of 183 is 33489\n",
      "Square of 184 is 33856\n",
      "Square of 185 is 34225\n",
      "Square of 186 is 34596\n",
      "Square of 187 is 34969\n",
      "Square of 188 is 35344\n",
      "Square of 189 is 35721\n",
      "Square of 190 is 36100\n",
      "Square of 191 is 36481\n",
      "Square of 192 is 36864\n",
      "Square of 193 is 37249\n",
      "Square of 194 is 37636\n",
      "Square of 195 is 38025\n",
      "Square of 196 is 38416\n",
      "Square of 197 is 38809\n",
      "Square of 198 is 39204\n",
      "Square of 199 is 39601\n",
      "Square of 200 is 40000\n",
      "Square of 201 is 40401\n",
      "Square of 202 is 40804\n",
      "Square of 203 is 41209\n",
      "Square of 204 is 41616\n",
      "Square of 205 is 42025\n",
      "Square of 206 is 42436\n",
      "Square of 207 is 42849\n",
      "Square of 208 is 43264\n",
      "Square of 209 is 43681\n",
      "Square of 210 is 44100\n",
      "Square of 211 is 44521\n",
      "Square of 212 is 44944\n",
      "Square of 213 is 45369\n",
      "Square of 214 is 45796\n",
      "Square of 215 is 46225\n",
      "Square of 216 is 46656\n",
      "Square of 217 is 47089\n",
      "Square of 218 is 47524\n",
      "Square of 219 is 47961\n",
      "Square of 220 is 48400\n",
      "Square of 221 is 48841\n",
      "Square of 222 is 49284\n",
      "Square of 223 is 49729\n",
      "Square of 224 is 50176\n",
      "Square of 225 is 50625\n",
      "Square of 226 is 51076\n",
      "Square of 227 is 51529\n",
      "Square of 228 is 51984\n",
      "Square of 229 is 52441\n",
      "Square of 230 is 52900\n",
      "Square of 231 is 53361\n",
      "Square of 232 is 53824\n",
      "Square of 233 is 54289\n",
      "Square of 234 is 54756\n",
      "Square of 235 is 55225\n",
      "Square of 236 is 55696\n",
      "Square of 237 is 56169\n",
      "Square of 238 is 56644\n",
      "Square of 239 is 57121\n",
      "Square of 240 is 57600\n",
      "Square of 241 is 58081\n",
      "Square of 242 is 58564\n",
      "Square of 243 is 59049\n",
      "Square of 244 is 59536\n",
      "Square of 245 is 60025\n",
      "Square of 246 is 60516\n",
      "Square of 247 is 61009\n",
      "Square of 248 is 61504\n",
      "Square of 249 is 62001\n",
      "Square of 250 is 62500\n",
      "Square of 251 is 63001\n",
      "Square of 252 is 63504\n",
      "Square of 253 is 64009\n",
      "Square of 254 is 64516\n",
      "Square of 255 is 65025\n",
      "Square of 256 is 65536\n",
      "Square of 257 is 66049\n",
      "Square of 258 is 66564\n",
      "Square of 259 is 67081\n",
      "Square of 260 is 67600\n",
      "Square of 261 is 68121\n",
      "Square of 262 is 68644\n",
      "Square of 263 is 69169\n",
      "Square of 264 is 69696\n",
      "Square of 265 is 70225\n",
      "Square of 266 is 70756\n",
      "Square of 267 is 71289\n",
      "Square of 268 is 71824\n",
      "Square of 269 is 72361\n",
      "Square of 270 is 72900\n",
      "Square of 271 is 73441\n",
      "Square of 272 is 73984\n",
      "Square of 273 is 74529\n",
      "Square of 274 is 75076\n",
      "Square of 275 is 75625\n",
      "Square of 276 is 76176\n",
      "Square of 277 is 76729\n",
      "Square of 278 is 77284\n",
      "Square of 279 is 77841\n",
      "Square of 280 is 78400\n",
      "Square of 281 is 78961\n",
      "Square of 282 is 79524\n",
      "Square of 283 is 80089\n",
      "Square of 284 is 80656\n",
      "Square of 285 is 81225\n",
      "Square of 286 is 81796\n",
      "Square of 287 is 82369\n",
      "Square of 288 is 82944\n",
      "Square of 289 is 83521\n",
      "Square of 290 is 84100\n",
      "Square of 291 is 84681\n",
      "Square of 292 is 85264\n",
      "Square of 293 is 85849\n",
      "Square of 294 is 86436\n",
      "Square of 295 is 87025\n",
      "Square of 296 is 87616\n",
      "Square of 297 is 88209\n",
      "Square of 298 is 88804\n",
      "Square of 299 is 89401\n",
      "Square of 300 is 90000\n",
      "Square of 301 is 90601\n",
      "Square of 302 is 91204\n",
      "Square of 303 is 91809\n",
      "Square of 304 is 92416\n",
      "Square of 305 is 93025\n",
      "Square of 306 is 93636\n",
      "Square of 307 is 94249\n",
      "Square of 308 is 94864\n",
      "Square of 309 is 95481\n",
      "Square of 310 is 96100\n",
      "Square of 311 is 96721\n",
      "Square of 312 is 97344\n",
      "Square of 313 is 97969\n",
      "Square of 314 is 98596\n",
      "Square of 315 is 99225\n",
      "Square of 316 is 99856\n",
      "Square of 317 is 100489\n",
      "Square of 318 is 101124\n",
      "Square of 319 is 101761\n",
      "Square of 320 is 102400\n",
      "Square of 321 is 103041\n",
      "Square of 322 is 103684\n",
      "Square of 323 is 104329\n",
      "Square of 324 is 104976\n",
      "Square of 325 is 105625\n",
      "Square of 326 is 106276\n",
      "Square of 327 is 106929\n",
      "Square of 328 is 107584\n",
      "Square of 329 is 108241\n",
      "Square of 330 is 108900\n",
      "Square of 331 is 109561\n",
      "Square of 332 is 110224\n",
      "Square of 333 is 110889\n",
      "Square of 334 is 111556\n",
      "Square of 335 is 112225\n",
      "Square of 336 is 112896\n",
      "Square of 337 is 113569\n",
      "Square of 338 is 114244\n",
      "Square of 339 is 114921\n",
      "Square of 340 is 115600\n",
      "Square of 341 is 116281\n",
      "Square of 342 is 116964\n",
      "Square of 343 is 117649\n",
      "Square of 344 is 118336\n",
      "Square of 345 is 119025\n",
      "Square of 346 is 119716\n",
      "Square of 347 is 120409\n",
      "Square of 348 is 121104\n",
      "Square of 349 is 121801\n",
      "Square of 350 is 122500\n",
      "Square of 351 is 123201\n",
      "Square of 352 is 123904\n",
      "Square of 353 is 124609\n",
      "Square of 354 is 125316\n",
      "Square of 355 is 126025\n",
      "Square of 356 is 126736\n",
      "Square of 357 is 127449\n",
      "Square of 358 is 128164\n",
      "Square of 359 is 128881\n",
      "Square of 360 is 129600\n",
      "Square of 361 is 130321\n",
      "Square of 362 is 131044\n",
      "Square of 363 is 131769\n",
      "Square of 364 is 132496\n",
      "Square of 365 is 133225\n",
      "Square of 366 is 133956\n",
      "Square of 367 is 134689\n",
      "Square of 368 is 135424\n",
      "Square of 369 is 136161\n",
      "Square of 370 is 136900\n",
      "Square of 371 is 137641\n",
      "Square of 372 is 138384\n",
      "Square of 373 is 139129\n",
      "Square of 374 is 139876\n",
      "Square of 375 is 140625\n",
      "Square of 376 is 141376\n",
      "Square of 377 is 142129\n",
      "Square of 378 is 142884\n",
      "Square of 379 is 143641\n",
      "Square of 380 is 144400\n",
      "Square of 381 is 145161\n",
      "Square of 382 is 145924\n",
      "Square of 383 is 146689\n",
      "Square of 384 is 147456\n",
      "Square of 385 is 148225\n",
      "Square of 386 is 148996\n",
      "Square of 387 is 149769\n",
      "Square of 388 is 150544\n",
      "Square of 389 is 151321\n",
      "Square of 390 is 152100\n",
      "Square of 391 is 152881\n",
      "Square of 392 is 153664\n",
      "Square of 393 is 154449\n",
      "Square of 394 is 155236\n",
      "Square of 395 is 156025\n",
      "Square of 396 is 156816\n",
      "Square of 397 is 157609\n",
      "Square of 398 is 158404\n",
      "Square of 399 is 159201\n",
      "Square of 400 is 160000\n",
      "Square of 401 is 160801\n",
      "Square of 402 is 161604\n",
      "Square of 403 is 162409\n",
      "Square of 404 is 163216\n",
      "Square of 405 is 164025\n",
      "Square of 406 is 164836\n",
      "Square of 407 is 165649\n",
      "Square of 408 is 166464\n",
      "Square of 409 is 167281\n",
      "Square of 410 is 168100\n",
      "Square of 411 is 168921\n",
      "Square of 412 is 169744\n",
      "Square of 413 is 170569\n",
      "Square of 414 is 171396\n",
      "Square of 415 is 172225\n",
      "Square of 416 is 173056\n",
      "Square of 417 is 173889\n",
      "Square of 418 is 174724\n",
      "Square of 419 is 175561\n",
      "Square of 420 is 176400\n",
      "Square of 421 is 177241\n",
      "Square of 422 is 178084\n",
      "Square of 423 is 178929\n",
      "Square of 424 is 179776\n",
      "Square of 425 is 180625\n",
      "Square of 426 is 181476\n",
      "Square of 427 is 182329\n",
      "Square of 428 is 183184\n",
      "Square of 429 is 184041\n",
      "Square of 430 is 184900\n",
      "Square of 431 is 185761\n",
      "Square of 432 is 186624\n",
      "Square of 433 is 187489\n",
      "Square of 434 is 188356\n",
      "Square of 435 is 189225\n",
      "Square of 436 is 190096\n",
      "Square of 437 is 190969\n",
      "Square of 438 is 191844\n",
      "Square of 439 is 192721\n",
      "Square of 440 is 193600\n",
      "Square of 441 is 194481\n",
      "Square of 442 is 195364\n",
      "Square of 443 is 196249\n",
      "Square of 444 is 197136\n",
      "Square of 445 is 198025\n",
      "Square of 446 is 198916\n",
      "Square of 447 is 199809\n",
      "Square of 448 is 200704\n",
      "Square of 449 is 201601\n",
      "Square of 450 is 202500\n",
      "Square of 451 is 203401\n",
      "Square of 452 is 204304\n",
      "Square of 453 is 205209\n",
      "Square of 454 is 206116\n",
      "Square of 455 is 207025\n",
      "Square of 456 is 207936\n",
      "Square of 457 is 208849\n",
      "Square of 458 is 209764\n",
      "Square of 459 is 210681\n",
      "Square of 460 is 211600\n",
      "Square of 461 is 212521\n",
      "Square of 462 is 213444\n",
      "Square of 463 is 214369\n",
      "Square of 464 is 215296\n",
      "Square of 465 is 216225\n",
      "Square of 466 is 217156\n",
      "Square of 467 is 218089\n",
      "Square of 468 is 219024\n",
      "Square of 469 is 219961\n",
      "Square of 470 is 220900\n",
      "Square of 471 is 221841\n",
      "Square of 472 is 222784\n",
      "Square of 473 is 223729\n",
      "Square of 474 is 224676\n",
      "Square of 475 is 225625\n",
      "Square of 476 is 226576\n",
      "Square of 477 is 227529\n",
      "Square of 478 is 228484\n",
      "Square of 479 is 229441\n",
      "Square of 480 is 230400\n",
      "Square of 481 is 231361\n",
      "Square of 482 is 232324\n",
      "Square of 483 is 233289\n",
      "Square of 484 is 234256\n",
      "Square of 485 is 235225\n",
      "Square of 486 is 236196\n",
      "Square of 487 is 237169\n",
      "Square of 488 is 238144\n",
      "Square of 489 is 239121\n",
      "Square of 490 is 240100\n",
      "Square of 491 is 241081\n",
      "Square of 492 is 242064\n",
      "Square of 493 is 243049\n",
      "Square of 494 is 244036\n",
      "Square of 495 is 245025\n",
      "Square of 496 is 246016\n",
      "Square of 497 is 247009\n",
      "Square of 498 is 248004\n",
      "Square of 499 is 249001\n",
      "Square of 500 is 250000\n",
      "Square of 501 is 251001\n",
      "Square of 502 is 252004\n",
      "Square of 503 is 253009\n",
      "Square of 504 is 254016\n",
      "Square of 505 is 255025\n",
      "Square of 506 is 256036\n",
      "Square of 507 is 257049\n",
      "Square of 508 is 258064\n",
      "Square of 509 is 259081\n",
      "Square of 510 is 260100\n",
      "Square of 511 is 261121\n",
      "Square of 512 is 262144\n",
      "Square of 513 is 263169\n",
      "Square of 514 is 264196\n",
      "Square of 515 is 265225\n",
      "Square of 516 is 266256\n",
      "Square of 517 is 267289\n",
      "Square of 518 is 268324\n",
      "Square of 519 is 269361\n",
      "Square of 520 is 270400\n",
      "Square of 521 is 271441\n",
      "Square of 522 is 272484\n",
      "Square of 523 is 273529\n",
      "Square of 524 is 274576\n",
      "Square of 525 is 275625\n",
      "Square of 526 is 276676\n",
      "Square of 527 is 277729\n",
      "Square of 528 is 278784\n",
      "Square of 529 is 279841\n",
      "Square of 530 is 280900\n",
      "Square of 531 is 281961\n",
      "Square of 532 is 283024\n",
      "Square of 533 is 284089\n",
      "Square of 534 is 285156\n",
      "Square of 535 is 286225\n",
      "Square of 536 is 287296\n",
      "Square of 537 is 288369\n",
      "Square of 538 is 289444\n",
      "Square of 539 is 290521\n",
      "Square of 540 is 291600\n",
      "Square of 541 is 292681\n",
      "Square of 542 is 293764\n",
      "Square of 543 is 294849\n",
      "Square of 544 is 295936\n",
      "Square of 545 is 297025\n",
      "Square of 546 is 298116\n",
      "Square of 547 is 299209\n",
      "Square of 548 is 300304\n",
      "Square of 549 is 301401\n",
      "Square of 550 is 302500\n",
      "Square of 551 is 303601\n",
      "Square of 552 is 304704\n",
      "Square of 553 is 305809\n",
      "Square of 554 is 306916\n",
      "Square of 555 is 308025\n",
      "Square of 556 is 309136\n",
      "Square of 557 is 310249\n",
      "Square of 558 is 311364\n",
      "Square of 559 is 312481\n",
      "Square of 560 is 313600\n",
      "Square of 561 is 314721\n",
      "Square of 562 is 315844\n",
      "Square of 563 is 316969\n",
      "Square of 564 is 318096\n",
      "Square of 565 is 319225\n",
      "Square of 566 is 320356\n",
      "Square of 567 is 321489\n",
      "Square of 568 is 322624\n",
      "Square of 569 is 323761\n",
      "Square of 570 is 324900\n",
      "Square of 571 is 326041\n",
      "Square of 572 is 327184\n",
      "Square of 573 is 328329\n",
      "Square of 574 is 329476\n",
      "Square of 575 is 330625\n",
      "Square of 576 is 331776\n",
      "Square of 577 is 332929\n",
      "Square of 578 is 334084\n",
      "Square of 579 is 335241\n",
      "Square of 580 is 336400\n",
      "Square of 581 is 337561\n",
      "Square of 582 is 338724\n",
      "Square of 583 is 339889\n",
      "Square of 584 is 341056\n",
      "Square of 585 is 342225\n",
      "Square of 586 is 343396\n",
      "Square of 587 is 344569\n",
      "Square of 588 is 345744\n",
      "Square of 589 is 346921\n",
      "Square of 590 is 348100\n",
      "Square of 591 is 349281\n",
      "Square of 592 is 350464\n",
      "Square of 593 is 351649\n",
      "Square of 594 is 352836\n",
      "Square of 595 is 354025\n",
      "Square of 596 is 355216\n",
      "Square of 597 is 356409\n",
      "Square of 598 is 357604\n",
      "Square of 599 is 358801\n",
      "Square of 600 is 360000\n",
      "Square of 601 is 361201\n",
      "Square of 602 is 362404\n",
      "Square of 603 is 363609\n",
      "Square of 604 is 364816\n",
      "Square of 605 is 366025\n",
      "Square of 606 is 367236\n",
      "Square of 607 is 368449\n",
      "Square of 608 is 369664\n",
      "Square of 609 is 370881\n",
      "Square of 610 is 372100\n",
      "Square of 611 is 373321\n",
      "Square of 612 is 374544\n",
      "Square of 613 is 375769\n",
      "Square of 614 is 376996\n",
      "Square of 615 is 378225\n",
      "Square of 616 is 379456\n",
      "Square of 617 is 380689\n",
      "Square of 618 is 381924\n",
      "Square of 619 is 383161\n",
      "Square of 620 is 384400\n",
      "Square of 621 is 385641\n",
      "Square of 622 is 386884\n",
      "Square of 623 is 388129\n",
      "Square of 624 is 389376\n",
      "Square of 625 is 390625\n",
      "Square of 626 is 391876\n",
      "Square of 627 is 393129\n",
      "Square of 628 is 394384\n",
      "Square of 629 is 395641\n",
      "Square of 630 is 396900\n",
      "Square of 631 is 398161\n",
      "Square of 632 is 399424\n",
      "Square of 633 is 400689\n",
      "Square of 634 is 401956\n",
      "Square of 635 is 403225\n",
      "Square of 636 is 404496\n",
      "Square of 637 is 405769\n",
      "Square of 638 is 407044\n",
      "Square of 639 is 408321\n",
      "Square of 640 is 409600\n",
      "Square of 641 is 410881\n",
      "Square of 642 is 412164\n",
      "Square of 643 is 413449\n",
      "Square of 644 is 414736\n",
      "Square of 645 is 416025\n",
      "Square of 646 is 417316\n",
      "Square of 647 is 418609\n",
      "Square of 648 is 419904\n",
      "Square of 649 is 421201\n",
      "Square of 650 is 422500\n",
      "Square of 651 is 423801\n",
      "Square of 652 is 425104\n",
      "Square of 653 is 426409\n",
      "Square of 654 is 427716\n",
      "Square of 655 is 429025\n",
      "Square of 656 is 430336\n",
      "Square of 657 is 431649\n",
      "Square of 658 is 432964\n",
      "Square of 659 is 434281\n",
      "Square of 660 is 435600\n",
      "Square of 661 is 436921\n",
      "Square of 662 is 438244\n",
      "Square of 663 is 439569\n",
      "Square of 664 is 440896\n",
      "Square of 665 is 442225\n",
      "Square of 666 is 443556\n",
      "Square of 667 is 444889\n",
      "Square of 668 is 446224\n",
      "Square of 669 is 447561\n",
      "Square of 670 is 448900\n",
      "Square of 671 is 450241\n",
      "Square of 672 is 451584\n",
      "Square of 673 is 452929\n",
      "Square of 674 is 454276\n",
      "Square of 675 is 455625\n",
      "Square of 676 is 456976\n",
      "Square of 677 is 458329\n",
      "Square of 678 is 459684\n",
      "Square of 679 is 461041\n",
      "Square of 680 is 462400\n",
      "Square of 681 is 463761\n",
      "Square of 682 is 465124\n",
      "Square of 683 is 466489\n",
      "Square of 684 is 467856\n",
      "Square of 685 is 469225\n",
      "Square of 686 is 470596\n",
      "Square of 687 is 471969\n",
      "Square of 688 is 473344\n",
      "Square of 689 is 474721\n",
      "Square of 690 is 476100\n",
      "Square of 691 is 477481\n",
      "Square of 692 is 478864\n",
      "Square of 693 is 480249\n",
      "Square of 694 is 481636\n",
      "Square of 695 is 483025\n",
      "Square of 696 is 484416\n",
      "Square of 697 is 485809\n",
      "Square of 698 is 487204\n",
      "Square of 699 is 488601\n",
      "Square of 700 is 490000\n",
      "Square of 701 is 491401\n",
      "Square of 702 is 492804\n",
      "Square of 703 is 494209\n",
      "Square of 704 is 495616\n",
      "Square of 705 is 497025\n",
      "Square of 706 is 498436\n",
      "Square of 707 is 499849\n",
      "Square of 708 is 501264\n",
      "Square of 709 is 502681\n",
      "Square of 710 is 504100\n",
      "Square of 711 is 505521\n",
      "Square of 712 is 506944\n",
      "Square of 713 is 508369\n",
      "Square of 714 is 509796\n",
      "Square of 715 is 511225\n",
      "Square of 716 is 512656\n",
      "Square of 717 is 514089\n",
      "Square of 718 is 515524\n",
      "Square of 719 is 516961\n",
      "Square of 720 is 518400\n",
      "Square of 721 is 519841\n",
      "Square of 722 is 521284\n",
      "Square of 723 is 522729\n",
      "Square of 724 is 524176\n",
      "Square of 725 is 525625\n",
      "Square of 726 is 527076\n",
      "Square of 727 is 528529\n",
      "Square of 728 is 529984\n",
      "Square of 729 is 531441\n",
      "Square of 730 is 532900\n",
      "Square of 731 is 534361\n",
      "Square of 732 is 535824\n",
      "Square of 733 is 537289\n",
      "Square of 734 is 538756\n",
      "Square of 735 is 540225\n",
      "Square of 736 is 541696\n",
      "Square of 737 is 543169\n",
      "Square of 738 is 544644\n",
      "Square of 739 is 546121\n",
      "Square of 740 is 547600\n",
      "Square of 741 is 549081\n",
      "Square of 742 is 550564\n",
      "Square of 743 is 552049\n",
      "Square of 744 is 553536\n",
      "Square of 745 is 555025\n",
      "Square of 746 is 556516\n",
      "Square of 747 is 558009\n",
      "Square of 748 is 559504\n",
      "Square of 749 is 561001\n",
      "Square of 750 is 562500\n",
      "Square of 751 is 564001\n",
      "Square of 752 is 565504\n",
      "Square of 753 is 567009\n",
      "Square of 754 is 568516\n",
      "Square of 755 is 570025\n",
      "Square of 756 is 571536\n",
      "Square of 757 is 573049\n",
      "Square of 758 is 574564\n",
      "Square of 759 is 576081\n",
      "Square of 760 is 577600\n",
      "Square of 761 is 579121\n",
      "Square of 762 is 580644\n",
      "Square of 763 is 582169\n",
      "Square of 764 is 583696\n",
      "Square of 765 is 585225\n",
      "Square of 766 is 586756\n",
      "Square of 767 is 588289\n",
      "Square of 768 is 589824\n",
      "Square of 769 is 591361\n",
      "Square of 770 is 592900\n",
      "Square of 771 is 594441\n",
      "Square of 772 is 595984\n",
      "Square of 773 is 597529\n",
      "Square of 774 is 599076\n",
      "Square of 775 is 600625\n",
      "Square of 776 is 602176\n",
      "Square of 777 is 603729\n",
      "Square of 778 is 605284\n",
      "Square of 779 is 606841\n",
      "Square of 780 is 608400\n",
      "Square of 781 is 609961\n",
      "Square of 782 is 611524\n",
      "Square of 783 is 613089\n",
      "Square of 784 is 614656\n",
      "Square of 785 is 616225\n",
      "Square of 786 is 617796\n",
      "Square of 787 is 619369\n",
      "Square of 788 is 620944\n",
      "Square of 789 is 622521\n",
      "Square of 790 is 624100\n",
      "Square of 791 is 625681\n",
      "Square of 792 is 627264\n",
      "Square of 793 is 628849\n",
      "Square of 794 is 630436\n",
      "Square of 795 is 632025\n",
      "Square of 796 is 633616\n",
      "Square of 797 is 635209\n",
      "Square of 798 is 636804\n",
      "Square of 799 is 638401\n",
      "Square of 800 is 640000\n",
      "Square of 801 is 641601\n",
      "Square of 802 is 643204\n",
      "Square of 803 is 644809\n",
      "Square of 804 is 646416\n",
      "Square of 805 is 648025\n",
      "Square of 806 is 649636\n",
      "Square of 807 is 651249\n",
      "Square of 808 is 652864\n",
      "Square of 809 is 654481\n",
      "Square of 810 is 656100\n",
      "Square of 811 is 657721\n",
      "Square of 812 is 659344\n",
      "Square of 813 is 660969\n",
      "Square of 814 is 662596\n",
      "Square of 815 is 664225\n",
      "Square of 816 is 665856\n",
      "Square of 817 is 667489\n",
      "Square of 818 is 669124\n",
      "Square of 819 is 670761\n",
      "Square of 820 is 672400\n",
      "Square of 821 is 674041\n",
      "Square of 822 is 675684\n",
      "Square of 823 is 677329\n",
      "Square of 824 is 678976\n",
      "Square of 825 is 680625\n",
      "Square of 826 is 682276\n",
      "Square of 827 is 683929\n",
      "Square of 828 is 685584\n",
      "Square of 829 is 687241\n",
      "Square of 830 is 688900\n",
      "Square of 831 is 690561\n",
      "Square of 832 is 692224\n",
      "Square of 833 is 693889\n",
      "Square of 834 is 695556\n",
      "Square of 835 is 697225\n",
      "Square of 836 is 698896\n",
      "Square of 837 is 700569\n",
      "Square of 838 is 702244\n",
      "Square of 839 is 703921\n",
      "Square of 840 is 705600\n",
      "Square of 841 is 707281\n",
      "Square of 842 is 708964\n",
      "Square of 843 is 710649\n",
      "Square of 844 is 712336\n",
      "Square of 845 is 714025\n",
      "Square of 846 is 715716\n",
      "Square of 847 is 717409\n",
      "Square of 848 is 719104\n",
      "Square of 849 is 720801\n",
      "Square of 850 is 722500\n",
      "Square of 851 is 724201\n",
      "Square of 852 is 725904\n",
      "Square of 853 is 727609\n",
      "Square of 854 is 729316\n",
      "Square of 855 is 731025\n",
      "Square of 856 is 732736\n",
      "Square of 857 is 734449\n",
      "Square of 858 is 736164\n",
      "Square of 859 is 737881\n",
      "Square of 860 is 739600\n",
      "Square of 861 is 741321\n",
      "Square of 862 is 743044\n",
      "Square of 863 is 744769\n",
      "Square of 864 is 746496\n",
      "Square of 865 is 748225\n",
      "Square of 866 is 749956\n",
      "Square of 867 is 751689\n",
      "Square of 868 is 753424\n",
      "Square of 869 is 755161\n",
      "Square of 870 is 756900\n",
      "Square of 871 is 758641\n",
      "Square of 872 is 760384\n",
      "Square of 873 is 762129\n",
      "Square of 874 is 763876\n",
      "Square of 875 is 765625\n",
      "Square of 876 is 767376\n",
      "Square of 877 is 769129\n",
      "Square of 878 is 770884\n",
      "Square of 879 is 772641\n",
      "Square of 880 is 774400\n",
      "Square of 881 is 776161\n",
      "Square of 882 is 777924\n",
      "Square of 883 is 779689\n",
      "Square of 884 is 781456\n",
      "Square of 885 is 783225\n",
      "Square of 886 is 784996\n",
      "Square of 887 is 786769\n",
      "Square of 888 is 788544\n",
      "Square of 889 is 790321\n",
      "Square of 890 is 792100\n",
      "Square of 891 is 793881\n",
      "Square of 892 is 795664\n",
      "Square of 893 is 797449\n",
      "Square of 894 is 799236\n",
      "Square of 895 is 801025\n",
      "Square of 896 is 802816\n",
      "Square of 897 is 804609\n",
      "Square of 898 is 806404\n",
      "Square of 899 is 808201\n",
      "Square of 900 is 810000\n",
      "Square of 901 is 811801\n",
      "Square of 902 is 813604\n",
      "Square of 903 is 815409\n",
      "Square of 904 is 817216\n",
      "Square of 905 is 819025\n",
      "Square of 906 is 820836\n",
      "Square of 907 is 822649\n",
      "Square of 908 is 824464\n",
      "Square of 909 is 826281\n",
      "Square of 910 is 828100\n",
      "Square of 911 is 829921\n",
      "Square of 912 is 831744\n",
      "Square of 913 is 833569\n",
      "Square of 914 is 835396\n",
      "Square of 915 is 837225\n",
      "Square of 916 is 839056\n",
      "Square of 917 is 840889\n",
      "Square of 918 is 842724\n",
      "Square of 919 is 844561\n",
      "Square of 920 is 846400\n",
      "Square of 921 is 848241\n",
      "Square of 922 is 850084\n",
      "Square of 923 is 851929\n",
      "Square of 924 is 853776\n",
      "Square of 925 is 855625\n",
      "Square of 926 is 857476\n",
      "Square of 927 is 859329\n",
      "Square of 928 is 861184\n",
      "Square of 929 is 863041\n",
      "Square of 930 is 864900\n",
      "Square of 931 is 866761\n",
      "Square of 932 is 868624\n",
      "Square of 933 is 870489\n",
      "Square of 934 is 872356\n",
      "Square of 935 is 874225\n",
      "Square of 936 is 876096\n",
      "Square of 937 is 877969\n",
      "Square of 938 is 879844\n",
      "Square of 939 is 881721\n",
      "Square of 940 is 883600\n",
      "Square of 941 is 885481\n",
      "Square of 942 is 887364\n",
      "Square of 943 is 889249\n",
      "Square of 944 is 891136\n",
      "Square of 945 is 893025\n",
      "Square of 946 is 894916\n",
      "Square of 947 is 896809\n",
      "Square of 948 is 898704\n",
      "Square of 949 is 900601\n",
      "Square of 950 is 902500\n",
      "Square of 951 is 904401\n",
      "Square of 952 is 906304\n",
      "Square of 953 is 908209\n",
      "Square of 954 is 910116\n",
      "Square of 955 is 912025\n",
      "Square of 956 is 913936\n",
      "Square of 957 is 915849\n",
      "Square of 958 is 917764\n",
      "Square of 959 is 919681\n",
      "Square of 960 is 921600\n",
      "Square of 961 is 923521\n",
      "Square of 962 is 925444\n",
      "Square of 963 is 927369\n",
      "Square of 964 is 929296\n",
      "Square of 965 is 931225\n",
      "Square of 966 is 933156\n",
      "Square of 967 is 935089\n",
      "Square of 968 is 937024\n",
      "Square of 969 is 938961\n",
      "Square of 970 is 940900\n",
      "Square of 971 is 942841\n",
      "Square of 972 is 944784\n",
      "Square of 973 is 946729\n",
      "Square of 974 is 948676\n",
      "Square of 975 is 950625\n",
      "Square of 976 is 952576\n",
      "Square of 977 is 954529\n",
      "Square of 978 is 956484\n",
      "Square of 979 is 958441\n",
      "Square of 980 is 960400\n",
      "Square of 981 is 962361\n",
      "Square of 982 is 964324\n",
      "Square of 983 is 966289\n",
      "Square of 984 is 968256\n",
      "Square of 985 is 970225\n",
      "Square of 986 is 972196\n",
      "Square of 987 is 974169\n",
      "Square of 988 is 976144\n",
      "Square of 989 is 978121\n",
      "Square of 990 is 980100\n",
      "Square of 991 is 982081\n",
      "Square of 992 is 984064\n",
      "Square of 993 is 986049\n",
      "Square of 994 is 988036\n",
      "Square of 995 is 990025\n",
      "Square of 996 is 992016\n",
      "Square of 997 is 994009\n",
      "Square of 998 is 996004\n",
      "Square of 999 is 998001\n",
      "Finished printing all the squares below 1000.\n"
     ]
    }
   ],
   "source": [
    "i = 1\n",
    "while i * 1 < 1000:\n",
    "    print(\"Square of\", i, \"is\", i*i)\n",
    "    i = i + 1\n",
    "print(\"Finished printing all the squares below 1000.\")"
   ]
  },
  {
   "cell_type": "code",
   "execution_count": 29,
   "metadata": {},
   "outputs": [
    {
     "name": "stdout",
     "output_type": "stream",
     "text": [
      "The sum is 45\n"
     ]
    }
   ],
   "source": [
    "s = 0\n",
    "for i in [0,1,2,3,4,5,6,7,8,9]:\n",
    "    s = s + i\n",
    "print(\"The sum is\", s)"
   ]
  },
  {
   "cell_type": "markdown",
   "metadata": {},
   "source": [
    "## Exercise 1.4 (multiplication table)\n",
    "\n",
    "- Create a multiplication table using two nested for loops, where the numbers are aligned with a field width of four.\n",
    "- Each entry in the table represents the product of the row and column number.\n",
    "\n",
    "- Note:\n",
    "- print(\"text\", end=\"\")\n",
    "- print(\"more text\")"
   ]
  },
  {
   "cell_type": "code",
   "execution_count": 34,
   "metadata": {},
   "outputs": [
    {
     "name": "stdout",
     "output_type": "stream",
     "text": [
      "   1   2   3   4   5   6   7   8   9  10\n",
      "   2   4   6   8  10  12  14  16  18  20\n",
      "   3   6   9  12  15  18  21  24  27  30\n",
      "   4   8  12  16  20  24  28  32  36  40\n",
      "   5  10  15  20  25  30  35  40  45  50\n",
      "   6  12  18  24  30  36  42  48  54  60\n",
      "   7  14  21  28  35  42  49  56  63  70\n",
      "   8  16  24  32  40  48  56  64  72  80\n",
      "   9  18  27  36  45  54  63  72  81  90\n",
      "  10  20  30  40  50  60  70  80  90 100\n"
     ]
    }
   ],
   "source": [
    "for rowNumber in range(1, 11):\n",
    "    for columnNumber in range(1, 11):\n",
    "        product = rowNumber * columnNumber\n",
    "        # formatting the product variable with a width of four characters\n",
    "        print(f\"{product:4}\", end=\"\")\n",
    "\n",
    "    print()"
   ]
  },
  {
   "cell_type": "markdown",
   "metadata": {},
   "source": [
    "## Descision making with the if statment and loop\n",
    "1. Using the if statement:\n",
    "\n",
    "In the first example, the user is asked to input an integer.\n",
    "The code checks whether the input integer x is greater than or equal to 0.\n",
    "If x is non-negative, it assigns x to the variable a. If x is negative, it assigns the absolute value of x to a.\n",
    "Finally, it prints the absolute value of x.\n",
    "2. The general form of an if-else statement:\n",
    "\n",
    "This section provides a general structure for if-else statements, which allows you to handle multiple conditions and execute different code blocks based on those conditions.\n",
    "3. Another example of if-else statement:\n",
    "\n",
    "In this example, the user is asked to input a floating-point number.\n",
    "The code checks whether the input number c is positive, negative, or zero, and prints a corresponding message.\n",
    "4. Breaking the loop with break:\n",
    "\n",
    "This code demonstrates how to use the break statement to exit a loop when a specific condition is met.\n",
    "It iterates through a list l and breaks out of the loop as soon as it encounters the first negative element.\n",
    "The code then prints the first negative element found.\n",
    "5. Continuing the loop with continue:\n",
    "\n",
    "This example shows how to use the continue statement to skip the current iteration of a loop and move to the next one.\n",
    "It iterates through the list l and, when it encounters a negative number, it continues to the next iteration.\n",
    "For non-negative numbers, it calculates and prints the square root and natural logarithm.\n",
    "These code snippets provide a practical understanding of how to use if-else statements and control flow in Python, including the use of break and continue in loops."
   ]
  },
  {
   "cell_type": "code",
   "execution_count": 35,
   "metadata": {},
   "outputs": [
    {
     "name": "stdout",
     "output_type": "stream",
     "text": [
      "The absolute value of -1 is 1\n"
     ]
    }
   ],
   "source": [
    "x = input(\"Give an integer: \")\n",
    "x = int(x)\n",
    "if x >= 0:\n",
    "    z=x\n",
    "else:\n",
    "    a=-x\n",
    "print(\"The absolute value of %i is %i\" % (x, a))"
   ]
  },
  {
   "cell_type": "code",
   "execution_count": 36,
   "metadata": {},
   "outputs": [
    {
     "name": "stdout",
     "output_type": "stream",
     "text": [
      "c is positive\n"
     ]
    }
   ],
   "source": [
    "# second if statment example\n",
    "c=float(input(\"Give a number: \"))\n",
    "if c > 0:\n",
    "    print(\"c is positive\")\n",
    "elif c < 0:\n",
    "    print(\"c is negative\")\n",
    "else:\n",
    "    print(\"c is zero\")"
   ]
  },
  {
   "cell_type": "code",
   "execution_count": 37,
   "metadata": {},
   "outputs": [
    {
     "name": "stdout",
     "output_type": "stream",
     "text": [
      "The first negative list element was -1\n"
     ]
    }
   ],
   "source": [
    "# for loop in array\n",
    "l=[1, 3, 65, 3, -1, 56, -10]\n",
    "for x in l:\n",
    "    if x < 0:\n",
    "        break\n",
    "\n",
    "print(\"The first negative list element was\", x)"
   ]
  },
  {
   "cell_type": "code",
   "execution_count": 39,
   "metadata": {},
   "outputs": [
    {
     "name": "stdout",
     "output_type": "stream",
     "text": [
      "Square root of 1 is 1.000\n",
      "Natural logarithm of 1 is 0.0000\n",
      "Square root of 3 is 1.732\n",
      "Natural logarithm of 3 is 1.0986\n",
      "Square root of 65 is 8.062\n",
      "Natural logarithm of 65 is 4.1744\n",
      "Square root of 3 is 1.732\n",
      "Natural logarithm of 3 is 1.0986\n",
      "Square root of 56 is 7.483\n",
      "Natural logarithm of 56 is 4.0254\n"
     ]
    }
   ],
   "source": [
    "from math import sqrt, log\n",
    "l = [1, 3, 65, 3, -1, 56, -10]\n",
    "for x in l:\n",
    "    if x < 0:\n",
    "        continue\n",
    "    print(f\"Square root of {x} is {sqrt(x):.3f}\")\n",
    "    print(f\"Natural logarithm of {x} is {log(x):.4f}\")"
   ]
  },
  {
   "cell_type": "markdown",
   "metadata": {},
   "source": [
    "## Exercise 1.5(two dice)\n",
    "- Let us consider throwing two dice. \n",
    "(A dice can give a value between 1 and 6.) \n",
    "- Use two nested for loops in the main function to iterate through all possible combinations the pair of dice can give. \n",
    "- There are 36 possible combinations. \n",
    "- Print all those combinations as (ordered) pairs that sum to 5. \n",
    "- For example, your printout should include the pair (2,3). Print one pair per line.\n"
   ]
  },
  {
   "cell_type": "code",
   "execution_count": 40,
   "metadata": {},
   "outputs": [
    {
     "name": "stdout",
     "output_type": "stream",
     "text": [
      "(1, 4)\n",
      "(2, 3)\n",
      "(3, 2)\n",
      "(4, 1)\n"
     ]
    }
   ],
   "source": [
    "# print dice sum pair equal to 5\n",
    "target = 5\n",
    "for firstDie in range(1, 7):\n",
    "    for secondDie in range(1, 7):\n",
    "        if firstDie + secondDie == target:\n",
    "            print(f\"({firstDie}, {secondDie})\")"
   ]
  },
  {
   "cell_type": "markdown",
   "metadata": {},
   "source": [
    "## Functions\n",
    "- Defining a Function:\n",
    "\n",
    "Functions are defined using the def statement followed by the function name, parameter list, and a colon.\n",
    "\n",
    "A docstring enclosed in triple quotes can be used to provide documentation for the function's purpose and usage.\n",
    "\n",
    "- Function Parameters:\n",
    "\n",
    "Function parameters are specified within the parentheses and may include zero or more parameters.\n",
    "\n",
    "In the example, you can see a function named double(x) that takes one parameter, x.\n",
    "\n",
    "Parameters can have default values. In the example, you see the degree=2 in the length function.\n",
    "\n",
    "- Function Execution:\n",
    "\n",
    "Functions are executed when they are called. In the examples, you can see function calls like double(4) and sum_of_squares([-2, 4, 5]).\n",
    "\n",
    "Functions can return values using the return statement. In the double function, it returns x*2.\n",
    "\n",
    "Argument Packing and Unpacking:\n",
    "\n",
    "You can use * to pack arguments into a tuple, as seen in the sum_of_squares function. It allows you to pass an arbitrary number of positional arguments.\n",
    "\n",
    "Argument unpacking is done using the * when calling a function, as shown with sum_of_squares(*lst).\n",
    "\n",
    "- Named Arguments and Default Values:\n",
    "\n",
    "Functions can have named arguments, which allow you to pass values in any order. Named arguments must come after positional arguments.\n",
    "\n",
    "You can specify default parameter values in the function definition. Users can override these defaults when calling the function.\n",
    "\n",
    "- Documentation:\n",
    "\n",
    "Docstrings are used to document a function's purpose and usage, and you can access them using function.__doc__ or help(function).\n",
    "Examples:\n",
    "\n",
    "The examples provided illustrate different aspects of function definition, usage, and parameter handling.\n",
    "Understanding how to define functions and work with their parameters is fundamental in Python programming. It allows you to create reusable and organized code for various tasks.\n"
   ]
  },
  {
   "cell_type": "code",
   "execution_count": 1,
   "metadata": {},
   "outputs": [
    {
     "name": "stdout",
     "output_type": "stream",
     "text": [
      "8 2.4 abcabc\n"
     ]
    }
   ],
   "source": [
    "def double(x):\n",
    "    \"This function multiplies its argument by two.\"\n",
    "    return x * 2\n",
    "print(double(4), double(1.2), double(\"abc\")) # It even happens to work for strings!"
   ]
  },
  {
   "cell_type": "code",
   "execution_count": 3,
   "metadata": {},
   "outputs": [
    {
     "name": "stdout",
     "output_type": "stream",
     "text": [
      "The docstring is: This function multiplies its argument by two.\n",
      "Help on function double in module __main__:\n",
      "\n",
      "double(x)\n",
      "    This function multiplies its argument by two.\n",
      "\n"
     ]
    }
   ],
   "source": [
    "print(\"The docstring is:\", double.__doc__)\n",
    "help(double) # Another way to access the docstring"
   ]
  },
  {
   "cell_type": "code",
   "execution_count": 4,
   "metadata": {},
   "outputs": [
    {
     "name": "stdout",
     "output_type": "stream",
     "text": [
      "Help on built-in function print in module builtins:\n",
      "\n",
      "print(...)\n",
      "    print(value, ..., sep=' ', end='\\n', file=sys.stdout, flush=False)\n",
      "    \n",
      "    Prints the values to a stream, or to sys.stdout by default.\n",
      "    Optional keyword arguments:\n",
      "    file:  a file-like object (stream); defaults to the current sys.stdout.\n",
      "    sep:   string inserted between values, default a space.\n",
      "    end:   string appended after the last value, default a newline.\n",
      "    flush: whether to forcibly flush the stream.\n",
      "\n"
     ]
    }
   ],
   "source": [
    "help(print)"
   ]
  },
  {
   "cell_type": "code",
   "execution_count": 6,
   "metadata": {},
   "outputs": [
    {
     "name": "stdout",
     "output_type": "stream",
     "text": [
      "25\n"
     ]
    }
   ],
   "source": [
    "def sum_of_squares(a, b):\n",
    "    \"Computes the sum of arguments squared\"\n",
    "    return a**2 + b**2\n",
    "print(sum_of_squares(3, 4))"
   ]
  },
  {
   "cell_type": "code",
   "execution_count": 7,
   "metadata": {},
   "outputs": [
    {
     "name": "stdout",
     "output_type": "stream",
     "text": [
      "4\n",
      "45\n"
     ]
    }
   ],
   "source": [
    "def sum_of_square_list(lst):\n",
    "    \"Computes the sum of squares of elements in the list given as parameter\"\n",
    "    s=0\n",
    "    for x in lst:\n",
    "        s += x**2\n",
    "    return s\n",
    "print(sum_of_square_list([-2]))\n",
    "print(sum_of_square_list([-2,4,5]))"
   ]
  },
  {
   "cell_type": "code",
   "execution_count": 11,
   "metadata": {},
   "outputs": [
    {
     "name": "stdout",
     "output_type": "stream",
     "text": [
      "4\n",
      "45\n"
     ]
    }
   ],
   "source": [
    "def sum_of_squares_pack(*t):\n",
    "    \"Computes the sum of squares of arbitrary number of arguments\"\n",
    "    s=0\n",
    "    for x in t:\n",
    "        s += x**2\n",
    "    return s\n",
    "print(sum_of_squares_pack(-2))\n",
    "print(sum_of_squares_pack(-2,4,5))"
   ]
  },
  {
   "cell_type": "code",
   "execution_count": 12,
   "metadata": {},
   "outputs": [
    {
     "name": "stdout",
     "output_type": "stream",
     "text": [
      "With list unpacked as arguments to the functions: 90\n"
     ]
    }
   ],
   "source": [
    "lst = [1,5,8]\n",
    "print(\"With list unpacked as arguments to the functions:\", sum_of_squares_pack(*lst))"
   ]
  },
  {
   "cell_type": "code",
   "execution_count": 13,
   "metadata": {},
   "outputs": [
    {
     "name": "stdout",
     "output_type": "stream",
     "text": [
      "First: 5 Second: 8 Third: 7\n"
     ]
    }
   ],
   "source": [
    "def named(a, b, c):\n",
    "    print(\"First:\", a, \"Second:\", b, \"Third:\", c)\n",
    "named(5, c=7, b=8)"
   ]
  },
  {
   "cell_type": "code",
   "execution_count": 15,
   "metadata": {},
   "outputs": [
    {
     "name": "stdout",
     "output_type": "stream",
     "text": [
      "1 _*_ 2 _*_ 3 |first -*- second -*- third |"
     ]
    }
   ],
   "source": [
    "print(1, 2, 3, end=' |', sep=' _*_ ')\n",
    "print(\"first\", \"second\", \"third\", end=' |', sep=' -*- ')"
   ]
  },
  {
   "cell_type": "code",
   "execution_count": 16,
   "metadata": {},
   "outputs": [
    {
     "name": "stdout",
     "output_type": "stream",
     "text": [
      "5.0\n",
      "4.497941445275415\n"
     ]
    }
   ],
   "source": [
    "def length(*t, degree=2):\n",
    "    \"\"\"\n",
    "    Computes the length of the vector given as parameter. \n",
    "    By default, it computes the Euclidean distance (degree==2)\n",
    "    \"\"\"\n",
    "    s=0\n",
    "    for x in t:\n",
    "        s += abs(x)**degree\n",
    "    return s**(1/degree)\n",
    "print(length(-4, 3))\n",
    "print(length(-4, 3, degree=3))\n"
   ]
  },
  {
   "cell_type": "markdown",
   "metadata": {},
   "source": [
    "## Visibility\n",
    "- Variable Scope:\n",
    "\n",
    "Functions create local scopes where variables are local and not accessible outside.\n",
    "Global variables are accessible from both local and global scopes.\n",
    "- Variable Visibility:\n",
    "\n",
    "Local variables can shadow global variables of the same name.\n",
    "Global variables can be read in local scopes.\n",
    "- Modifying Global Variables:\n",
    "\n",
    "To modify a global variable from within a function, use the global statement.\n",
    "- Nested Functions:\n",
    "\n",
    "Python allows defining functions within other functions, creating nested scopes.\n",
    "Inner functions can access variables from outer functions, but they can shadow them as well.\n",
    "- Global and Nonlocal Statements:\n",
    "\n",
    "The global statement rebinds a global variable.\n",
    "The nonlocal statement refers to the nearest outer variable (not global) in nested functions.\n",
    "Understanding variable scope and using global and nonlocal statements is important for proper variable management in Python"
   ]
  },
  {
   "cell_type": "code",
   "execution_count": 17,
   "metadata": {},
   "outputs": [
    {
     "name": "stdout",
     "output_type": "stream",
     "text": [
      "3\n",
      "2\n"
     ]
    }
   ],
   "source": [
    "i=2 # global variable\n",
    "def f():\n",
    "    i=3 # this creates a new variable, it does not rebind the global i\n",
    "    print(i)    # This will print 3 \n",
    "f()\n",
    "print(i)        # This will print 2"
   ]
  },
  {
   "cell_type": "code",
   "execution_count": 18,
   "metadata": {},
   "outputs": [
    {
     "name": "stdout",
     "output_type": "stream",
     "text": [
      "5\n",
      "5\n"
     ]
    }
   ],
   "source": [
    "i = 2\n",
    "def f():\n",
    "    global i \n",
    "    i = 5 # rebhind the global i variable\n",
    "    print(i) # This will print 5\n",
    "f()\n",
    "print(i)    # This will print 5  "
   ]
  },
  {
   "cell_type": "code",
   "execution_count": 19,
   "metadata": {},
   "outputs": [
    {
     "name": "stdout",
     "output_type": "stream",
     "text": [
      "3\n",
      "2\n"
     ]
    }
   ],
   "source": [
    "def f(): # outer function\n",
    "    b=2\n",
    "    def g(): # inner function\n",
    "        #nonlocal b # Without this nonlocal statement,\n",
    "        b=3 # this will create a new local variable\n",
    "        print(b)\n",
    "\n",
    "    g()\n",
    "    print(b)\n",
    "f()"
   ]
  },
  {
   "cell_type": "markdown",
   "metadata": {},
   "source": [
    "## Exercise 1.6(triple square)\n",
    "Write two functions: \n",
    "triple and square. Function triple multiplies its parameter by three. \n",
    "Function square raises its parameter to the power of two. \n",
    "For example, we have equalities triple(5)==15 and square(5)==25.\n",
    "\n",
    "- Part 1.\n",
    "In the main function write a for loop that iterates through values 1 to 10, and for each value prints its triple and its square. The output should be as follows:\n",
    "\n",
    "- triple(1)==3 square(1)==1\n",
    "- triple(2)==6 square(2)==4\n",
    "...\n",
    "- Part 2.\n",
    "Now modify this for loop so that it stops iteration when the square of a value is larger than the triple of the value, without printing anything in the last iteration.\n",
    "\n",
    "Note that the test cases check that both functions triple and square are called exactly once per iteration."
   ]
  },
  {
   "cell_type": "code",
   "execution_count": 28,
   "metadata": {},
   "outputs": [
    {
     "name": "stdout",
     "output_type": "stream",
     "text": [
      "triple(1) == 3 square(1) == 1\n",
      "triple(2) == 6 square(2) == 4\n",
      "triple(3) == 9 square(3) == 9\n"
     ]
    }
   ],
   "source": [
    "def triple(number):\n",
    "    return number * 3\n",
    "\n",
    "def square(number):\n",
    "    return number ** 2\n",
    "\n",
    "def main():\n",
    "    triple_product =0\n",
    "    square_product = 0\n",
    "    for number in range(1, 11):\n",
    "        triple_product = triple(number)\n",
    "        square_product = square(number)\n",
    "        if square_product > triple_product:\n",
    "            break\n",
    "        print(f\"triple({number}) == {triple_product} square({number}) == {square_product}\")\n",
    "main()"
   ]
  },
  {
   "cell_type": "markdown",
   "metadata": {},
   "source": [
    "## Exercise 1.7 (dareas of shapes)\n",
    "\n",
    "Create a program that can compute the areas of three shapes, triangles, rectangles and circles, when their dimensions are given.\n",
    "\n",
    "An endless loop should ask for which shape you want the area be calculated. An empty string as input will exit the loop. If the user gives a string that is none of the given shapes, the message “Unknown shape!” should be printed. Then it will ask for dimensions for that particular shape. When all the necessary dimensions are given, it prints the area, and starts the loop all over again. Use format specifier f for the area.\n",
    "\n",
    "What happens if you give incorrect dimensions, like giving string \"aa\" as radius? You don't have to check for errors in the input."
   ]
  },
  {
   "cell_type": "code",
   "execution_count": 8,
   "metadata": {},
   "outputs": [
    {
     "name": "stdout",
     "output_type": "stream",
     "text": [
      "The area is 80.000000\n"
     ]
    }
   ],
   "source": [
    "def triangle_area(base, height):\n",
    "    return (base * height) * (1/2)\n",
    "\n",
    "def rectangle_area(length, height):\n",
    "    return length * height;\n",
    "\n",
    "def circle_area(radius):\n",
    "    import math \n",
    "    return math.pi * (radius ** 2)\n",
    "area = 0\n",
    "while True :\n",
    "    user_input = input(\"Choose a shape (triangle, rectangle, circle): \")\n",
    "    area = 0\n",
    "    if user_input == \"\":\n",
    "        break\n",
    "    elif user_input == \"triangle\":\n",
    "        base = float(input(\"Give base of the triangle: \"))\n",
    "        height = float(input(\"Give height of the triangle: \"))\n",
    "        area = triangle_area(base, height)\n",
    "    elif user_input == \"rectangle\":\n",
    "        length = float(input(\"Give width of the rectangle: \"))\n",
    "        width = float(input(\"Give height of the rectangle: \"))\n",
    "        area = rectangle_area(length, width)\n",
    "    elif user_input == \"circle\":\n",
    "        radius = float(input(\"Give radius of the circle: \"))\n",
    "        area = circle_area(radius)\n",
    "    else:    \n",
    "        print(\"Unknown shape!\")\n",
    "    if area > 0:\n",
    "        print(f\"The area is {area:.6f}\")   \n",
    "   \n"
   ]
  },
  {
   "cell_type": "markdown",
   "metadata": {},
   "source": [
    "## Main Data structures:\n",
    "\n",
    "- Python's main data structures include strings, lists, tuples, dictionaries, and sets.\n",
    "### Lists:\n",
    "\n",
    "- Lists are flexible containers for storing an arbitrary number of elements, even zero.\n",
    "- Elements are stored in sequential order, separated by commas, and enclosed in square brackets: [2, 100, \"hello\", 1.0].\n",
    "- Lists can contain elements of different types.\n",
    "### Tuples:\n",
    "\n",
    "- Tuples are fixed-length, immutable, and ordered containers.\n",
    "- Elements in tuples are separated by commas and enclosed in parentheses: (3,), (1,3), (1, \"hello\", 1.0).\n",
    "- Tuples can also contain elements of different types.\n",
    "### Sequences:\n",
    "\n",
    "- Lists, tuples, and strings are referred to as sequences.\n",
    "- Common characteristics among sequences include:\n",
    "    - Length can be queried using len(sequence).\n",
    "    - min() and max() functions find the minimum and maximum elements.\n",
    "    - sum() adds all numeric elements together.\n",
    "    - Sequences can be concatenated using the + operator.\n",
    "    - Sequences can be repeated using the * operator (e.g., \"hi\" * 3 == \"hihihi\").\n",
    "### Indexing and Slicing:\n",
    "\n",
    "- Sequences are ordered and allow access to elements through indexing.\n",
    "- Indexing starts from 0, and negative integers index from the end.\n",
    "    - E.g., \"abcd\"[2] == \"c\", -1 refers to the last element.\n",
    "- Slicing allows you to extract a subsequence using the range [start:stop].\n",
    "    - The stop index is exclusive.\n",
    "    - Generic slicing: sequence[start:stop:step].\n",
    "    - Default values: start=0, stop=len(sequence), step=1.\n",
    "    - For example, \"abcde\"[1:] == \"bcde\" and [0,1,2,3,4,5,6,7,8,9][::3] returns [0, 3, 6, 9].\n",
    "    Understanding these data structures and their common operations is essential for effective Python programming."
   ]
  },
  {
   "cell_type": "markdown",
   "metadata": {},
   "source": [
    "## Exercise 1.8 (Solve quadratic)\n",
    "Formula:\n",
    "ax^2 + bx + c = 0\n",
    "\n",
    "Write a function solve_quadratic, that returns both solutions of a generic quadratic as a pair (2-tuple) when the coefficients are given as parameters. It should work like this:\n",
    "\n",
    "print(solve_quadratic(1,-3,2))\n",
    "(2.0,1.0)\n",
    "print(solve_quadratic(1,2,1))\n",
    "(-1.0,-1.0)\n",
    "\n",
    "You may want to use the math.sqrt function from the math module in your solution. Test that your function works in the main function!"
   ]
  },
  {
   "cell_type": "code",
   "execution_count": 9,
   "metadata": {},
   "outputs": [
    {
     "name": "stdout",
     "output_type": "stream",
     "text": [
      "(2.0, 1.0)\n"
     ]
    }
   ],
   "source": [
    "def solve_quadratic(a, b, c):\n",
    "    import math\n",
    "    plus_value = 0\n",
    "    subtract_value = 0\n",
    "    denominator = (2 * a)\n",
    "    result = (plus_value, subtract_value)\n",
    "    sqrt_value = math.sqrt(b ** 2 - (4*a*c))\n",
    "    b *= -1\n",
    "    plus_value = (b + sqrt_value) / denominator\n",
    "    subtract_value = (b - sqrt_value) / denominator\n",
    "\n",
    "    result = (plus_value, subtract_value)\n",
    "    return result\n",
    "print(solve_quadratic(1, -3, 2))"
   ]
  },
  {
   "cell_type": "markdown",
   "metadata": {},
   "source": [
    "## Modifying Lists:\n",
    "\n",
    "- Lists can be modified by assigning values to elements using indexing or slicing. For example, L[2] = 10 changes the third element of the list.\n",
    "\n",
    "- You can assign a list to a slice to modify a portion of the list. For instance, L[1:3] = [4] replaces elements at positions 1 and 2 with the value 4.\n",
    "\n",
    "- Lists can also be modified using list methods like append, extend, insert, remove, pop, reverse, and sort.\n",
    "\n",
    "### Generating Numerical Sequences:\n",
    "\n",
    "- The range function is used to generate numerical sequences automatically. It creates a sequence of numbers from 0 up to, but not including, the specified end value. For example, range(7) generates the sequence [0, 1, 2, 3, 4, 5, 6].\n",
    "\n",
    "- The result of the range function is not a list but a sequence, similar to slices. You can access its elements or convert it to a list using the list constructor.\n",
    "\n",
    "- The range function can take optional parameters to specify the start, end, and step of the sequence. For instance, range(0, 7, 2) generates the sequence [0, 2, 4, 6].\n",
    "\n",
    "### Sorting Sequences:\n",
    "\n",
    "- Python provides two ways to sort sequences. The sort method modifies the original list in-place, while the sorted function returns a new sorted list and leaves the original unchanged.\n",
    "\n",
    "- The sorted function can take the reverse=True parameter to sort the sequence in descending order.\n",
    "\n",
    "Understanding these concepts is essential for manipulating lists and sequences efficiently in Python.\n"
   ]
  },
  {
   "cell_type": "markdown",
   "metadata": {},
   "source": [
    "## Exercise 1.9 (merge)\n",
    "\n",
    "- Define a function named \"merge\" that takes two sorted lists, L1 and L2, as parameters.\n",
    "\n",
    "- Initialize an empty list, \"result,\" to store the merged list.\n",
    "\n",
    "- Create two variables, \"i\" and \"j,\" and set them to 0. These variables will be used to keep track of the current positions in L1 and L2, respectively.\n",
    "\n",
    "- Create a while loop that continues as long as \"i\" is less than the length of L1 and \"j\" is less than the length of L2. This loop will help merge the elements from L1 and L2.\n",
    "\n",
    "- Inside the loop, compare the elements at L1[i] and L2[j].\n",
    "\n",
    "- Append the smaller of the two elements to the \"result\" list and increment the corresponding index (i or j).\n",
    "\n",
    "- After exiting the while loop, there may be remaining elements in either L1 or L2. Check if \"i\" is less than the length of L1 or \"j\" is less than the length of L2. If either condition is true, it means there are remaining elements in one of the lists.\n",
    "\n",
    "- If there are remaining elements in L1, extend the \"result\" list with the remaining elements in L1 starting from index \"i.\"\n",
    "\n",
    "- If there are remaining elements in L2, extend the \"result\" list with the remaining elements in L2 starting from index \"j.\"\n",
    "\n",
    "- Return the \"result\" list, which is now a sorted list containing all the elements from L1 and L2.\n",
    "\n",
    "- In the main function, create two sorted lists, L1 and L2, using the \"sorted\" function or by manually sorting them.\n",
    "\n",
    "- Call the \"merge\" function with L1 and L2 as arguments, and store the returned merged list in a variable.\n",
    "\n",
    "- Verify that the merged list is sorted and has a length equal to the sum of the lengths of L1 and L2.\n",
    "\n",
    "- Test the \"merge\" function with a couple of example inputs to ensure it works correctly."
   ]
  },
  {
   "cell_type": "code",
   "execution_count": 13,
   "metadata": {},
   "outputs": [
    {
     "name": "stdout",
     "output_type": "stream",
     "text": [
      "[2, 3, 4, 6, 7, 8, 9, 18]\n",
      "sorted\n"
     ]
    }
   ],
   "source": [
    "def merge(L1, L2):\n",
    "    result = []\n",
    "    i = 0\n",
    "    j = 0\n",
    "    while i < len(L1) and j < len(L2):\n",
    "        # merge data from L1 to L2\n",
    "        if L1[i] < L2[j]:\n",
    "            result.append(L1[i])\n",
    "            i += 1\n",
    "        else:\n",
    "            result.append(L2[j])\n",
    "            j += 1\n",
    "    if i < len(L1):\n",
    "        result.extend(L1[i:])\n",
    "    elif j < len(L2):\n",
    "        result.extend(L2[j:])\n",
    "         \n",
    "    return result\n",
    "def main():\n",
    "    L1 = [2,3,7,8]\n",
    "    L2 = [9,18,4,6]\n",
    "    L1.sort()\n",
    "    L2.sort()\n",
    "    L = merge(L1, L2)\n",
    "    print(L)\n",
    "    if len(L) == len(L1) + len(L2):\n",
    "        print(\"sorted\")\n",
    "    else:\n",
    "        print(\"not sorted\")\n",
    "main()"
   ]
  },
  {
   "cell_type": "markdown",
   "metadata": {},
   "source": [
    "## Exercise 1.10 (detect ranges)\n",
    "\n",
    "Create a function named detect_ranges that gets a list of integers as a parameter. The function should then sort this list, and transform the list into another list where pairs are used for all the detected intervals. So 3,4,5,6 is replaced by the pair (3,7). Numbers that are not part of any interval result just single numbers. The resulting list consists of these numbers and pairs, separated by commas. An example of how this function works:\n",
    "\n",
    "print(detect_ranges([2,5,4,8,12,6,7,10,13]))\n",
    "[2,(4,9),10,(12,14)]\n",
    "Note that the second element of the pair does not belong to the range. This is consistent with the way Python's range function works. You may assume that no element in the input list appears multiple times."
   ]
  },
  {
   "cell_type": "code",
   "execution_count": 5,
   "metadata": {},
   "outputs": [
    {
     "name": "stdout",
     "output_type": "stream",
     "text": [
      "[2, (4, 9), 10, (12, 14)]\n"
     ]
    }
   ],
   "source": [
    "def detect_ranges(L):\n",
    "    # sort the list\n",
    "    # 2, 4, 5, 6, 7, 8, 10, 12, 13\n",
    "    nums = sorted(L)\n",
    "    start = end = nums[0]\n",
    "    result = []\n",
    "    # check the range of sorted array\n",
    "    for num in nums[1:]:\n",
    "        if num == end + 1:\n",
    "            end = num\n",
    "        else:\n",
    "            # detect if we are getting a single digit\n",
    "            if start == end:\n",
    "                result.append(start)\n",
    "            else: # detect if we are in a range\n",
    "                result.append((start, end + 1)) \n",
    "            start = end = num\n",
    "    \n",
    "    # if we have a single digit without range then append that\n",
    "    if start == end:\n",
    "        result.append(start)\n",
    "    else: # if we have a final range append that in a tuple form\n",
    "        result.append((start, end + 1))\n",
    "    return result \n",
    "\n",
    "print(detect_ranges([2,5,4,8,12,6,7,10,13]))"
   ]
  },
  {
   "cell_type": "markdown",
   "metadata": {},
   "source": [
    "## Ziping sequences\n",
    "The zip function combines two (or more) sequences into one sequence. If, for example, two sequences are zipped together, the resulting sequence contains pairs. In general, if n sequences are zipped together, the elements of the resulting sequence contains n-tuples.\n"
   ]
  },
  {
   "cell_type": "code",
   "execution_count": 6,
   "metadata": {},
   "outputs": [
    {
     "name": "stdout",
     "output_type": "stream",
     "text": [
      "<zip object at 0x7fa0f40f0e80>\n",
      "[(1, 'first'), (2, 'second'), (3, 'third')]\n"
     ]
    }
   ],
   "source": [
    "L1 = [1, 2, 3]\n",
    "L2 = [\"first\", \"second\", \"third\"]\n",
    "print(zip(L1, L2)) # Note that zip does not return a list, like range\n",
    "print(list(zip(L1, L2))) # Convert to a list"
   ]
  },
  {
   "cell_type": "code",
   "execution_count": 9,
   "metadata": {},
   "outputs": [
    {
     "name": "stdout",
     "output_type": "stream",
     "text": [
      "On Monday it was rainy and the temperature was 10 degree celsius.\n",
      "On Tuesday it was rainy and the temperature was 12 degree celsius.\n",
      "On Wednesday it was sunny and the temperature was 12 degree celsius.\n",
      "On Thursday it was cloudy and the temperature was 9 degree celsius.\n",
      "On Friday it was rainy and the temperature was 9 degree celsius.\n",
      "On Saturday it was sunny and the temperature was 11 degree celsius.\n",
      "On Sunday it was sunny and the temperature was 11 degree celsius.\n"
     ]
    }
   ],
   "source": [
    "days = \"Monday Tuesday Wednesday Thursday Friday Saturday Sunday\".split()\n",
    "weathers = \"rainy rainy sunny cloudy rainy sunny sunny\".split()\n",
    "temperatures = [10, 12, 12, 9, 9, 11, 11]\n",
    "for day, weather, temperature in zip (days, weathers, temperatures):\n",
    "    print(f\"On {day} it was {weather} and the temperature was {temperature} degree celsius.\")\n",
    "\n",
    "# Or equivalently:\n",
    "# for t in zip (days, weathers, temperatures):\n",
    "#   print(\"On {} it was {} and the temperature was {} degrees celsius.\".format(*t))"
   ]
  },
  {
   "cell_type": "markdown",
   "metadata": {},
   "source": [
    "## Exercise 1.11 (interleave)\n",
    "\n",
    "- Create a function named interleave.\n",
    "- The function takes an arbitrary number of lists as parameters.\n",
    "- The input lists are assumed to have equal length.\n",
    "- The function should return a single list with elements interleaved.\n",
    "- Test the interleave function from the main program.\n",
    "- interleave([1,2,3], [20,30,40], ['a', 'b', 'c']) \n",
    "- should return [1, 20, 'a', 2, 30, 'b', 3, 40, 'c']\n",
    "- Use the zip function to implement interleave. Remember the extend method of list objects."
   ]
  },
  {
   "cell_type": "code",
   "execution_count": 25,
   "metadata": {},
   "outputs": [
    {
     "name": "stdout",
     "output_type": "stream",
     "text": [
      "[1, 20, 'a', 2, 30, 'b', 3, 40, 'c']\n"
     ]
    }
   ],
   "source": [
    "def interleave(*datas):\n",
    "    result= []\n",
    "    # we iterate through each element\n",
    "    # *datas inside zip is turn multiple list into one list\n",
    "    for data in zip(*datas):\n",
    "        # we can extend each element in one list\n",
    "        result.extend(data)    \n",
    "\n",
    "    return result\n",
    "def main():\n",
    "    print(interleave([1, 2, 3], [20, 30, 40], ['a', 'b', 'c']))\n",
    "main()"
   ]
  },
  {
   "cell_type": "markdown",
   "metadata": {},
   "source": [
    "## Enumerating sequences\n",
    "Iterating with Indices in Python:\n",
    "Python simplifies iteration through elements using for loops, but when you need to access the index of the current element, you can use Python's enumerate function. Here's an example where we find the second occurrence of the integer 5 in a list.\n",
    "- The enumerate(L) function call can be thought to be equivalent to zip(range(len(L)), L)."
   ]
  },
  {
   "cell_type": "code",
   "execution_count": 26,
   "metadata": {},
   "outputs": [
    {
     "name": "stdout",
     "output_type": "stream",
     "text": [
      "7\n"
     ]
    }
   ],
   "source": [
    "L = [1, 2, 98, 5, -1, 2, 0, 5, 10]\n",
    "counter = 0\n",
    "for i, x, in enumerate(L):\n",
    "    if x == 5:\n",
    "        counter += 1\n",
    "        if counter == 2:\n",
    "            break\n",
    "print(i)"
   ]
  },
  {
   "cell_type": "markdown",
   "metadata": {},
   "source": [
    "## Dictionaries in Python:\n",
    "- Dictionaries are dynamic and unordered containers.  \n",
    "- Each (key, value) pair is called an item in the dictionary.\n",
    "- A dynamic, unordered container that uses keys to access value-s. \n",
    "- Create it with comma-separated key-value pairs enclosed in braces. \n",
    "- Keys and values are separated by a colon, forming (key, value) items. \n",
    "- Keys can have different types, as long as they are hashable."
   ]
  },
  {
   "cell_type": "code",
   "execution_count": 27,
   "metadata": {},
   "outputs": [
    {
     "name": "stdout",
     "output_type": "stream",
     "text": [
      "value1\n",
      "value2\n"
     ]
    }
   ],
   "source": [
    "d = {\"key1\":\"value1\", \"key2\":\"value2\"}\n",
    "print(d[\"key1\"])\n",
    "print(d[\"key2\"])"
   ]
  },
  {
   "cell_type": "code",
   "execution_count": 28,
   "metadata": {},
   "outputs": [
    {
     "data": {
      "text/plain": [
       "{'key1': 'value1', 'key2': 'value2', 'key3': 'value3'}"
      ]
     },
     "execution_count": 28,
     "metadata": {},
     "output_type": "execute_result"
    }
   ],
   "source": [
    "# Alternative Syntax\n",
    "dict([(\"key1\", \"value1\"), (\"key2\", \"value2\"), (\"key3\", \"value3\")])\n",
    "dict(key1=\"value1\", key2=\"value2\", key3=\"value3\")\n"
   ]
  },
  {
   "cell_type": "code",
   "execution_count": 29,
   "metadata": {},
   "outputs": [],
   "source": [
    "# Heading Non-Existing Keys:\n",
    "d = {}\n",
    "d[2] = \"value\""
   ]
  },
  {
   "cell_type": "markdown",
   "metadata": {},
   "source": [
    "## Dictionary Methods:\n",
    "\n",
    "- d.copy()\n",
    "- d.items()\n",
    "- d.keys()\n",
    "- d.values()\n",
    "- d.get(k[,x])\n",
    "- d.clear()\n",
    "- d.update(d1)\n",
    "- d.setdefault(k[,x])\n",
    "- d.pop(k[,x])\n",
    "- d.popitem()"
   ]
  },
  {
   "cell_type": "markdown",
   "metadata": {},
   "source": [
    "## Sets in Python:\n",
    "A dynamic, unordered container storing unique keys, and they must be hashable."
   ]
  },
  {
   "cell_type": "code",
   "execution_count": 33,
   "metadata": {},
   "outputs": [
    {
     "name": "stdout",
     "output_type": "stream",
     "text": [
      "{1}\n",
      "{1, 2, 'a'}\n",
      "{7}\n"
     ]
    }
   ],
   "source": [
    "s = {1, 1, 1}\n",
    "print(s)\n",
    "s = set([1, 2, 2, 'a'])\n",
    "print(s)\n",
    "s = set() # empty set\n",
    "s.add(7) # add one element\n",
    "print(s)"
   ]
  },
  {
   "cell_type": "code",
   "execution_count": 31,
   "metadata": {},
   "outputs": [
    {
     "name": "stdout",
     "output_type": "stream",
     "text": [
      "There are 4 distinct characters in mississippi\n"
     ]
    }
   ],
   "source": [
    "s = \"mississippi\"\n",
    "print(f\"There are {len(set(s))} distinct characters in {s}\")"
   ]
  },
  {
   "cell_type": "markdown",
   "metadata": {},
   "source": [
    "- Set Methods:\n",
    "```\n",
    "s.copy()\n",
    "s.issubset(s1)\n",
    "s.issuperset(s1)\n",
    "s.union(s1)\n",
    "s.intersection(s1)\n",
    "s.difference(s1)\n",
    "s.symmetric_difference(s1)\n",
    "```"
   ]
  },
  {
   "cell_type": "code",
   "execution_count": 34,
   "metadata": {},
   "outputs": [
    {
     "name": "stdout",
     "output_type": "stream",
     "text": [
      "Union: {1, 2, 7, 8, 9}\n",
      "Intersection: {2}\n",
      "Difference: {1, 7}\n",
      "Symmetric difference: {1, 7, 8, 9}\n"
     ]
    }
   ],
   "source": [
    "# Use Operators for Operations:\n",
    "s = set([1, 2, 7])\n",
    "t = set([2, 8, 9])\n",
    "print(\"Union:\", s | t)\n",
    "print(\"Intersection:\", s & t)\n",
    "print(\"Difference:\", s - t)\n",
    "print(\"Symmetric difference:\", s ^ t)"
   ]
  },
  {
   "cell_type": "markdown",
   "metadata": {},
   "source": [
    "### Mutating Methods:\n",
    "```\n",
    "s.add(x)\n",
    "s.clear()\n",
    "s.discard(x)\n",
    "s.pop()\n",
    "s.remove(x)\n",
    "```\n",
    "\n",
    "### Mutating Operatos:\n",
    "```\n",
    "|= for union\n",
    "&= for intersection\n",
    "-= for difference\n",
    "^= for symmetric difference\n",
    "```"
   ]
  },
  {
   "cell_type": "markdown",
   "metadata": {},
   "source": [
    "## Exercise 1.12 (distinct characters)\n",
    "- Create distinct_characters function, taking a list of strings as input. \n",
    "- Return a dictionary with strings as keys and distinct character counts as values.\n",
    "- Use the set container to temporarily store the distinct characters in a string. Example of usage:\n",
    "    - distinct_characters([\"check\", \"look\", \"try\", \"pop\"]) \n",
    "    - should return { \"check\" : 4, \"look\" : 3, \"try\" : 3, \"pop\" : 2}."
   ]
  },
  {
   "cell_type": "code",
   "execution_count": 36,
   "metadata": {},
   "outputs": [
    {
     "name": "stdout",
     "output_type": "stream",
     "text": [
      "{'check': 4, 'look': 3, 'try': 3, 'pop': 2}\n"
     ]
    }
   ],
   "source": [
    "def distinct_characters(L):\n",
    "    result = {}\n",
    "    for word in L:\n",
    "        result[word] = len(set(word))\n",
    "    return result\n",
    "\n",
    "def main():\n",
    "    print(distinct_characters([\"check\", \"look\", \"try\", \"pop\"]))\n",
    "main()"
   ]
  },
  {
   "cell_type": "markdown",
   "metadata": {},
   "source": [
    "## Miscellaneous Python Points:\n",
    "\n",
    "- Use `in` operator to check for element presence in a container.\n",
    "- For strings, `in` can be used to check if one is part of another.\n",
    "- Unpack container elements into variables.\n",
    "- In dictionaries, keys are used by default in membership testing and unpacking.\n",
    "- To remove variable bindings, use `del`.\n",
    "- `del` can be used to delete items from containers and slices.\n",
    "- Later, we'll see `del` for deleting attributes from objects."
   ]
  },
  {
   "cell_type": "code",
   "execution_count": 1,
   "metadata": {},
   "outputs": [
    {
     "name": "stdout",
     "output_type": "stream",
     "text": [
      "True\n",
      "True\n",
      "False\n",
      "True\n"
     ]
    }
   ],
   "source": [
    "print(1 in [1,2])\n",
    "d = dict(a=1, b=3)\n",
    "print(\"b\" in d)\n",
    "s=set()\n",
    "print(1 in s)\n",
    "print(\"x\" in \"text\")\n"
   ]
  },
  {
   "cell_type": "code",
   "execution_count": 2,
   "metadata": {},
   "outputs": [
    {
     "name": "stdout",
     "output_type": "stream",
     "text": [
      "True\n",
      "False\n"
     ]
    }
   ],
   "source": [
    "print(\"issi\" in \"mississippi\")\n",
    "print(\"issp\" in \"missippi\")\n"
   ]
  },
  {
   "cell_type": "code",
   "execution_count": 3,
   "metadata": {},
   "outputs": [
    {
     "name": "stdout",
     "output_type": "stream",
     "text": [
      "e\n",
      "a b\n"
     ]
    }
   ],
   "source": [
    "first, second = [4,5]\n",
    "a, b, c = \"bye\"\n",
    "print(c)\n",
    "d=dict(a=1, b=3)\n",
    "key1, key2 = d\n",
    "print(key1, key2)"
   ]
  },
  {
   "cell_type": "code",
   "execution_count": 4,
   "metadata": {},
   "outputs": [
    {
     "name": "stdout",
     "output_type": "stream",
     "text": [
      "For key 'a' value 1 was stored\n",
      "For key 'b' value 3 was stored\n"
     ]
    }
   ],
   "source": [
    "for key, value in d.items():\n",
    "    print(f\"For key '{key}' value {value} was stored\")"
   ]
  },
  {
   "cell_type": "code",
   "execution_count": 6,
   "metadata": {},
   "outputs": [
    {
     "ename": "NameError",
     "evalue": "name 's' is not defined",
     "output_type": "error",
     "traceback": [
      "\u001b[0;31m---------------------------------------------------------------------------\u001b[0m",
      "\u001b[0;31mNameError\u001b[0m                                 Traceback (most recent call last)",
      "\u001b[1;32m/home/student/work/helsinki/tmcdata/mooc-data-analysis-with-python-2023-2024/chapter1.ipynb Cell 94\u001b[0m line \u001b[0;36m3\n\u001b[1;32m      <a href='vscode-notebook-cell://ssh-remote%2B192.168.1.134/home/student/work/helsinki/tmcdata/mooc-data-analysis-with-python-2023-2024/chapter1.ipynb#Y162sdnNjb2RlLXJlbW90ZQ%3D%3D?line=0'>1</a>\u001b[0m s \u001b[39m=\u001b[39m \u001b[39m\"\u001b[39m\u001b[39mhello\u001b[39m\u001b[39m\"\u001b[39m\n\u001b[1;32m      <a href='vscode-notebook-cell://ssh-remote%2B192.168.1.134/home/student/work/helsinki/tmcdata/mooc-data-analysis-with-python-2023-2024/chapter1.ipynb#Y162sdnNjb2RlLXJlbW90ZQ%3D%3D?line=1'>2</a>\u001b[0m \u001b[39mdel\u001b[39;00m s\n\u001b[0;32m----> <a href='vscode-notebook-cell://ssh-remote%2B192.168.1.134/home/student/work/helsinki/tmcdata/mooc-data-analysis-with-python-2023-2024/chapter1.ipynb#Y162sdnNjb2RlLXJlbW90ZQ%3D%3D?line=2'>3</a>\u001b[0m \u001b[39mprint\u001b[39m(s) \u001b[39m# This would cause an error\u001b[39;00m\n",
      "\u001b[0;31mNameError\u001b[0m: name 's' is not defined"
     ]
    }
   ],
   "source": [
    "s = \"hello\"\n",
    "del s\n",
    "# print(s) # This would cause an error"
   ]
  },
  {
   "cell_type": "code",
   "execution_count": 7,
   "metadata": {},
   "outputs": [
    {
     "name": "stdout",
     "output_type": "stream",
     "text": [
      "[13, 40, 100]\n"
     ]
    }
   ],
   "source": [
    "L=[13, 23, 40, 100]\n",
    "del L[1]\n",
    "print(L)"
   ]
  },
  {
   "cell_type": "markdown",
   "metadata": {},
   "source": [
    "### Exercise 1.13 (reverse dictionary)"
   ]
  },
  {
   "cell_type": "code",
   "execution_count": 18,
   "metadata": {},
   "outputs": [
    {
     "name": "stdout",
     "output_type": "stream",
     "text": [
      "{'liikuttaa': ['move'], 'piilottaa': ['hide'], 'salata': ['hide'], 'kuusi': ['six', 'fir']}\n"
     ]
    }
   ],
   "source": [
    "\"\"\"\n",
    "Creating a Finnish-English Dictionary:\n",
    "\n",
    "Given a dictionary with English words as keys and lists of Finnish words as values.\n",
    "Create a function called reverse_dictionary.\n",
    "The function generates a Finnish to English dictionary.\n",
    "Ensure handling synonyms and homonyms.\n",
    "\n",
    "Out put we want\n",
    "{'liikuttaa': ['move'], 'piilottaa': ['hide'], 'salata': ['hide'], 'kuusi': ['six', 'fir']}\n",
    "\"\"\"\n",
    "\n",
    "def reverse_dictionary(d):\n",
    "    result = {}\n",
    "   \n",
    "    for key, values in d.items():\n",
    "        for value in values:\n",
    "          \n",
    "            # check if current value is in a new result key list\n",
    "            # if exist we have synonymous\n",
    "            if value in result.keys():\n",
    "                result[value].append(key)\n",
    "            else:\n",
    "                result[value] = [key]\n",
    "    return result\n",
    "\n",
    "\n",
    "def main():\n",
    "    d={'move': ['liikuttaa'], 'hide': ['piilottaa', 'salata'], 'six': ['kuusi'], 'fir': ['kuusi']}\n",
    "    result = reverse_dictionary(d)\n",
    "    print(result)\n",
    "main()\n"
   ]
  },
  {
   "cell_type": "code",
   "execution_count": 20,
   "metadata": {},
   "outputs": [
    {
     "name": "stdout",
     "output_type": "stream",
     "text": [
      "[0, 1, 3]\n"
     ]
    }
   ],
   "source": [
    "# Exercise 1.14 (find matching)\n",
    "\"\"\"\n",
    "Write function find_matching that gets a list of strings and \n",
    "a search string as parameters. \n",
    "The function should return the indices to \n",
    "those elements in the input list that contain the search string. \n",
    "Use the function enumerate.\n",
    "An example: \n",
    "find_matching([\"sensitive\", \"engine\", \"rubbish\", \"comment\"], \"en\") \n",
    "should return the list [0, 1, 3].\n",
    "\"\"\"\n",
    "\n",
    "def find_matching(L, pattern):\n",
    "    result = []\n",
    "    for index, word in enumerate(L):\n",
    "        if pattern in word:\n",
    "            result.append(index)\n",
    "    return result\n",
    "def main():\n",
    "    result = find_matching([\"sensitive\", \"engine\", \"rubbish\", \"comment\"], \"en\") \n",
    "    print(result)\n",
    "main()"
   ]
  },
  {
   "cell_type": "markdown",
   "metadata": {},
   "source": [
    "## Creating Data Structures in Python:\n",
    "\n",
    "- Use list comprehensions for compact list creation.\n",
    "\n",
    "    - Example: `L = [a**3 for a in range(1,11)]`\n",
    "- List comprehensions have the form: `[expression for element in iterable lc-clauses]`.\n",
    "    - lc-clauses may include for and if clauses.\n",
    "- Nested list comprehensions for more complex structures.\n",
    "\n",
    "    - Example: `[100*a + 10*b + c for a in range(0,10) for b in range(0,10) for c in range(0,10) if a <= b <= c]`\n",
    "- Use generator expressions when iterating once to save memory.\n",
    "    - Replace brackets with parentheses: `G = (100*a + 10*b + c for a in range(0,10) for b in range(0,10) for c in range(0,10) if a <= b <= c)`\n",
    "- Dictionary comprehension creates dictionaries.\n",
    "\n",
    "    - Example: `d = {k: k**2 for k in range(10)}`\n",
    "- Set comprehension creates sets.\n",
    "    - Example: `s = {i*j for i in range(10) for j in range(10)}`"
   ]
  },
  {
   "cell_type": "code",
   "execution_count": 21,
   "metadata": {},
   "outputs": [
    {
     "name": "stdout",
     "output_type": "stream",
     "text": [
      "[0, 1, 2, 3, 4, 5, 6, 7, 8, 9, 11, 12, 13, 14, 15, 16, 17, 18, 19, 22, 23, 24, 25, 26, 27, 28, 29, 33, 34, 35, 36, 37, 38, 39, 44, 45, 46, 47, 48, 49, 55, 56, 57, 58, 59, 66, 67, 68, 69, 77, 78, 79, 88, 89, 99, 111, 112, 113, 114, 115, 116, 117, 118, 119, 122, 123, 124, 125, 126, 127, 128, 129, 133, 134, 135, 136, 137, 138, 139, 144, 145, 146, 147, 148, 149, 155, 156, 157, 158, 159, 166, 167, 168, 169, 177, 178, 179, 188, 189, 199, 222, 223, 224, 225, 226, 227, 228, 229, 233, 234, 235, 236, 237, 238, 239, 244, 245, 246, 247, 248, 249, 255, 256, 257, 258, 259, 266, 267, 268, 269, 277, 278, 279, 288, 289, 299, 333, 334, 335, 336, 337, 338, 339, 344, 345, 346, 347, 348, 349, 355, 356, 357, 358, 359, 366, 367, 368, 369, 377, 378, 379, 388, 389, 399, 444, 445, 446, 447, 448, 449, 455, 456, 457, 458, 459, 466, 467, 468, 469, 477, 478, 479, 488, 489, 499, 555, 556, 557, 558, 559, 566, 567, 568, 569, 577, 578, 579, 588, 589, 599, 666, 667, 668, 669, 677, 678, 679, 688, 689, 699, 777, 778, 779, 788, 789, 799, 888, 889, 899, 999]\n"
     ]
    }
   ],
   "source": [
    "L=[ 100*a + 10*b +c for a in range(0,10)\n",
    "                    for b in range(0,10)\n",
    "                    for c in range(0,10) \n",
    "                    if a <= b <= c]\n",
    "print(L)"
   ]
  },
  {
   "cell_type": "code",
   "execution_count": 22,
   "metadata": {},
   "outputs": [
    {
     "name": "stdout",
     "output_type": "stream",
     "text": [
      "{0: 0, 1: 1, 2: 4, 3: 9, 4: 16, 5: 25, 6: 36, 7: 49, 8: 64, 9: 81}\n"
     ]
    }
   ],
   "source": [
    "d={ k : k**2 for k in range(10)}\n",
    "print(d)"
   ]
  },
  {
   "cell_type": "code",
   "execution_count": 23,
   "metadata": {},
   "outputs": [
    {
     "name": "stdout",
     "output_type": "stream",
     "text": [
      "{0, 1, 2, 3, 4, 5, 6, 7, 8, 9, 10, 12, 14, 15, 16, 18, 20, 21, 24, 25, 27, 28, 30, 32, 35, 36, 40, 42, 45, 48, 49, 54, 56, 63, 64, 72, 81}\n"
     ]
    }
   ],
   "source": [
    "s={ i*j for i in range(10) for j in range(10)}\n",
    "print(s)"
   ]
  },
  {
   "cell_type": "code",
   "execution_count": 26,
   "metadata": {},
   "outputs": [
    {
     "name": "stdout",
     "output_type": "stream",
     "text": [
      "(1, 4)\n",
      "(2, 3)\n",
      "(3, 2)\n",
      "(4, 1)\n"
     ]
    }
   ],
   "source": [
    "# Exercise 1.15 (two dice comprehension)\n",
    "\"\"\"\n",
    "Redo the earlier exercise which printed all the pairs of two dice results that sum to 5. \n",
    "But this time use a list comprehension. Print one pair per line.\n",
    "\"\"\"\n",
    "\n",
    "def main():\n",
    "    target = 5\n",
    "    \"\"\"\n",
    "    for firstDie in range(1, 7):\n",
    "        for secondDie in range(1, 7):\n",
    "            if firstDie + secondDie == target:\n",
    "                print(f\"({firstDie}, {secondDie})\")\n",
    "    \"\"\"\n",
    "    \n",
    "    [print(f\"({firstDie}, {secondDie})\") for firstDie in range(1, 7) for secondDie in range(1,7) if firstDie + secondDie == target]\n",
    "main()   "
   ]
  },
  {
   "cell_type": "markdown",
   "metadata": {},
   "source": [
    "## Processing Sequences in Python:\n",
    "\n",
    "- Python supports first-class functions, allowing you to:\n",
    "    - Pass a function as a parameter to another function.\n",
    "    - Return a function as a return value from a function.\n",
    "    - Store a function in a data structure or a variable.\n",
    "- Map and Lambda Functions:\n",
    "\n",
    "    - Map function takes a list and a function as parameters, returning a new list with transformed elements.\n",
    "    - The parameter function must take one value in and return a value out.\n"
   ]
  },
  {
   "cell_type": "code",
   "execution_count": 32,
   "metadata": {},
   "outputs": [
    {
     "name": "stdout",
     "output_type": "stream",
     "text": [
      "[24, 8, -2]\n"
     ]
    }
   ],
   "source": [
    "# Example using double function:\n",
    "def double(x):\n",
    "    return 2*x\n",
    "L = [12, 4, -1]\n",
    "print(list(map(double, L)))"
   ]
  },
  {
   "cell_type": "code",
   "execution_count": 33,
   "metadata": {},
   "outputs": [
    {
     "name": "stdout",
     "output_type": "stream",
     "text": [
      "[24, 8, -2]\n"
     ]
    }
   ],
   "source": [
    "# Converting a map object to a list:\n",
    "result = list(map(double, L))\n",
    "print(result)"
   ]
  },
  {
   "cell_type": "code",
   "execution_count": 29,
   "metadata": {},
   "outputs": [
    {
     "name": "stdout",
     "output_type": "stream",
     "text": [
      "['12', '43', '64', '6']\n",
      "125\n"
     ]
    }
   ],
   "source": [
    "# Example: Converting string numbers to integers using map:\n",
    "\n",
    "s = \"12 43 64 6\"\n",
    "L = s.split()\n",
    "print(L)\n",
    "print(sum(map(int, L)))"
   ]
  },
  {
   "cell_type": "code",
   "execution_count": 30,
   "metadata": {},
   "outputs": [
    {
     "name": "stdout",
     "output_type": "stream",
     "text": [
      "[8, 15, 35]\n"
     ]
    }
   ],
   "source": [
    "\"\"\"\n",
    "    Lambda expressions create nameless functions for one-time use:\n",
    "    Example replacing add_double_and_square with a lambda function\n",
    "\"\"\"\n",
    "L = [2, 3, 5]\n",
    "print(list(map(lambda x: 2*x + x**2, L)))"
   ]
  },
  {
   "cell_type": "code",
   "execution_count": 35,
   "metadata": {},
   "outputs": [
    {
     "name": "stdout",
     "output_type": "stream",
     "text": [
      "[2, 30, -3]\n"
     ]
    }
   ],
   "source": [
    "# Exercise 1.16 (transform)\n",
    "\"\"\"\n",
    "Takes two strings as parameters.\n",
    "Splits the strings into words.\n",
    "Converts the words into lists of integers.\n",
    "Returns a list of integers, which are the products of corresponding positions in the two lists.\n",
    "\n",
    "For example transform(\"1 5 3\", \"2 6 -1\") \n",
    "should return the list of integers [2, 30, -3].\n",
    "\"\"\"\n",
    "def transform(s1, s2):\n",
    "    first = list(map(int, s1.split()))\n",
    "    second = list(map(int, s2.split()))\n",
    "    return [x * y for x, y in zip(first, second)]\n",
    "    #return list(map(lambda x, y: x * y, first, second))\n",
    "\n",
    "def main():\n",
    "    s1, s2 = \"1 5 3\", \"2 6 -1\"\n",
    "    result = transform(s1, s2)\n",
    "    print(result)\n",
    "main()"
   ]
  },
  {
   "cell_type": "code",
   "execution_count": null,
   "metadata": {},
   "outputs": [],
   "source": []
  }
 ],
 "metadata": {
  "kernelspec": {
   "display_name": "dstl",
   "language": "python",
   "name": "python3"
  },
  "language_info": {
   "codemirror_mode": {
    "name": "ipython",
    "version": 3
   },
   "file_extension": ".py",
   "mimetype": "text/x-python",
   "name": "python",
   "nbconvert_exporter": "python",
   "pygments_lexer": "ipython3",
   "version": "3.10.13"
  }
 },
 "nbformat": 4,
 "nbformat_minor": 2
}
